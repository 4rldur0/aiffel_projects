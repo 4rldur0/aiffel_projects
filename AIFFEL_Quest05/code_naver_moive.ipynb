{
 "cells": [
  {
   "cell_type": "markdown",
   "id": "4af0b1b0",
   "metadata": {},
   "source": [
    "[NAVER sentiment movie corpus](https://github.com/e9t/nsmc)"
   ]
  },
  {
   "cell_type": "markdown",
   "id": "4724cb25",
   "metadata": {},
   "source": [
    "- [1) 데이터 준비와 확인](#1%29-데이터-준비와-확인)\n",
    "- [2) 데이터로더 구성](#2%29-데이터로더-구성)"
   ]
  },
  {
   "cell_type": "markdown",
   "id": "92596009",
   "metadata": {},
   "source": [
    "# 1) 데이터 준비와 확인"
   ]
  },
  {
   "cell_type": "code",
   "execution_count": 1,
   "id": "5da24093",
   "metadata": {
    "scrolled": true
   },
   "outputs": [
    {
     "data": {
      "text/html": [
       "<div>\n",
       "<style scoped>\n",
       "    .dataframe tbody tr th:only-of-type {\n",
       "        vertical-align: middle;\n",
       "    }\n",
       "\n",
       "    .dataframe tbody tr th {\n",
       "        vertical-align: top;\n",
       "    }\n",
       "\n",
       "    .dataframe thead th {\n",
       "        text-align: right;\n",
       "    }\n",
       "</style>\n",
       "<table border=\"1\" class=\"dataframe\">\n",
       "  <thead>\n",
       "    <tr style=\"text-align: right;\">\n",
       "      <th></th>\n",
       "      <th>id</th>\n",
       "      <th>document</th>\n",
       "      <th>label</th>\n",
       "    </tr>\n",
       "  </thead>\n",
       "  <tbody>\n",
       "    <tr>\n",
       "      <th>0</th>\n",
       "      <td>9976970</td>\n",
       "      <td>아 더빙.. 진짜 짜증나네요 목소리</td>\n",
       "      <td>0</td>\n",
       "    </tr>\n",
       "    <tr>\n",
       "      <th>1</th>\n",
       "      <td>3819312</td>\n",
       "      <td>흠...포스터보고 초딩영화줄....오버연기조차 가볍지 않구나</td>\n",
       "      <td>1</td>\n",
       "    </tr>\n",
       "    <tr>\n",
       "      <th>2</th>\n",
       "      <td>10265843</td>\n",
       "      <td>너무재밓었다그래서보는것을추천한다</td>\n",
       "      <td>0</td>\n",
       "    </tr>\n",
       "    <tr>\n",
       "      <th>3</th>\n",
       "      <td>9045019</td>\n",
       "      <td>교도소 이야기구먼 ..솔직히 재미는 없다..평점 조정</td>\n",
       "      <td>0</td>\n",
       "    </tr>\n",
       "    <tr>\n",
       "      <th>4</th>\n",
       "      <td>6483659</td>\n",
       "      <td>사이몬페그의 익살스런 연기가 돋보였던 영화!스파이더맨에서 늙어보이기만 했던 커스틴 ...</td>\n",
       "      <td>1</td>\n",
       "    </tr>\n",
       "  </tbody>\n",
       "</table>\n",
       "</div>"
      ],
      "text/plain": [
       "         id                                           document  label\n",
       "0   9976970                                아 더빙.. 진짜 짜증나네요 목소리      0\n",
       "1   3819312                  흠...포스터보고 초딩영화줄....오버연기조차 가볍지 않구나      1\n",
       "2  10265843                                  너무재밓었다그래서보는것을추천한다      0\n",
       "3   9045019                      교도소 이야기구먼 ..솔직히 재미는 없다..평점 조정      0\n",
       "4   6483659  사이몬페그의 익살스런 연기가 돋보였던 영화!스파이더맨에서 늙어보이기만 했던 커스틴 ...      1"
      ]
     },
     "execution_count": 1,
     "metadata": {},
     "output_type": "execute_result"
    }
   ],
   "source": [
    "import pandas as pd\n",
    "\n",
    "# 데이터를 읽어봅시다. \n",
    "train_data = pd.read_table('~/aiffel/sentiment_classification/data/ratings_train.txt')\n",
    "test_data = pd.read_table('~/aiffel/sentiment_classification/data/ratings_test.txt')\n",
    "\n",
    "train_data.head()"
   ]
  },
  {
   "cell_type": "markdown",
   "id": "4eaad50e",
   "metadata": {},
   "source": [
    "# 2) 데이터로더 구성\n",
    "- [x] 데이터의 중복 제거 -> 중복 없음.  \n",
    "- [x] NaN 결측치 제거  \n",
    "- [x] 한국어 토크나이저로 토큰화  \n",
    "- [x] 불용어(Stopwords) 제거  \n",
    "- [x] 사전 word_to_index 구성  \n",
    "- [x] 텍스트 스트링을 사전 인덱스 스트링으로 변환  \n",
    "- [x] X_train, y_train, X_test, y_test, word_to_index 리턴"
   ]
  },
  {
   "cell_type": "code",
   "execution_count": 2,
   "id": "26a36898",
   "metadata": {},
   "outputs": [],
   "source": [
    "from konlpy.tag import Mecab\n",
    "import numpy as np\n",
    "from collections import Counter\n",
    "\n",
    "tokenizer = Mecab()\n",
    "stopwords = ['의','가','이','은','들','는','좀','잘','걍','과','도','를','으로','자','에','와','한','하다']\n",
    "\n",
    "def load_data(train_data, test_data, num_words = 10000):\n",
    "    # 중복 제거\n",
    "    # 중복 데이터 없음.\n",
    "    train_data.drop_duplicates(subset=['document'], inplace=True)\n",
    "    test_data.drop_duplicates(subset=['document'], inplace=True)\n",
    "    \n",
    "    # NaN 결측치 제거\n",
    "    # document 열에만 NA있어서 바로 제거\n",
    "    train_data = train_data.dropna(how = 'any')\n",
    "    test_data = test_data.dropna(how = 'any') \n",
    "    \n",
    "    # 토큰화, 불용어 처리\n",
    "    X_train = []\n",
    "    for sentence in train_data['document']:\n",
    "        temp_X = tokenizer.morphs(sentence) # 토큰화\n",
    "        temp_X = [word for word in temp_X if not word in stopwords] # 불용어 제거\n",
    "        X_train.append(temp_X)\n",
    "\n",
    "    X_test = []\n",
    "    for sentence in test_data['document']:\n",
    "        temp_X = tokenizer.morphs(sentence) # 토큰화\n",
    "        temp_X = [word for word in temp_X if not word in stopwords] # 불용어 제거\n",
    "        X_test.append(temp_X)\n",
    "    \n",
    "    # 사전 word_to_index\n",
    "    words = np.concatenate(X_train).tolist()\n",
    "    counter = Counter(words)\n",
    "    counter = counter.most_common(num_words - 4)\n",
    "    vocab = ['<PAD>', '<BOS>', '<UNK>', '<UNUSED>'] + [key for key, _ in counter]\n",
    "    word_to_index = {word:index for index, word in enumerate(vocab)}\n",
    "    \n",
    "    # 텍스트 to 인덱스\n",
    "    def wordlist_to_idxlist(wordlist):\n",
    "        return [word_to_index[word] if word in word_to_index else word_to_index['<UNK>'] for word in wordlist]\n",
    "    \n",
    "    X_train = list(map(wordlist_to_idxlist, X_train))\n",
    "    X_test = list(map(wordlist_to_idxlist, X_test))\n",
    "    \n",
    "    return X_train, np.array(list(train_data['label'])), X_test, np.array(list(test_data['label'])), word_to_index\n",
    "    \n",
    "X_train, y_train, X_test, y_test, word_to_index = load_data(train_data, test_data)"
   ]
  },
  {
   "cell_type": "code",
   "execution_count": 3,
   "id": "a3b10f75",
   "metadata": {},
   "outputs": [],
   "source": [
    "index_to_word = {index:word for word, index in word_to_index.items()}"
   ]
  },
  {
   "cell_type": "code",
   "execution_count": 4,
   "id": "0bf08a63",
   "metadata": {},
   "outputs": [],
   "source": [
    "# 문장 1개를 활용할 딕셔너리와 함께 주면, 단어 인덱스 리스트 벡터로 변환해 주는 함수입니다. \n",
    "# 단, 모든 문장은 <BOS>로 시작하는 것으로 합니다. \n",
    "def get_encoded_sentence(sentence, word_to_index):\n",
    "    return [word_to_index['<BOS>']]+[word_to_index[word] if word in word_to_index else word_to_index['<UNK>'] for word in sentence.split()]\n",
    "\n",
    "# 여러 개의 문장 리스트를 한꺼번에 단어 인덱스 리스트 벡터로 encode해 주는 함수입니다. \n",
    "def get_encoded_sentences(sentences, word_to_index):\n",
    "    return [get_encoded_sentence(sentence, word_to_index) for sentence in sentences]\n",
    "\n",
    "# 숫자 벡터로 encode된 문장을 원래대로 decode하는 함수입니다. \n",
    "def get_decoded_sentence(encoded_sentence, index_to_word):\n",
    "    return ' '.join(index_to_word[index] if index in index_to_word else '<UNK>' for index in encoded_sentence[1:])  #[1:]를 통해 <BOS>를 제외\n",
    "\n",
    "# 여러 개의 숫자 벡터로 encode된 문장을 한꺼번에 원래대로 decode하는 함수입니다. \n",
    "def get_decoded_sentences(encoded_sentences, index_to_word):\n",
    "    return [get_decoded_sentence(encoded_sentence, index_to_word) for encoded_sentence in encoded_sentences]"
   ]
  },
  {
   "cell_type": "markdown",
   "id": "f3ef8014",
   "metadata": {},
   "source": [
    "# 3) 모델 구성을 위한 데이터 분석 및 가공\n",
    "- [x] 데이터셋 내 문장 길이 분포\n",
    "- [x] 적절한 최대 문장 길이 지정\n",
    "- [x] keras.preprocessing.sequence.pad_sequences 활용한 패딩 추가"
   ]
  },
  {
   "cell_type": "code",
   "execution_count": 5,
   "id": "06911279",
   "metadata": {},
   "outputs": [
    {
     "name": "stdout",
     "output_type": "stream",
     "text": [
      "문장길이 평균 :  15.96940191154864\n",
      "문장길이 최대 :  116\n",
      "문장길이 표준편차 :  12.843571191092\n",
      "pad_sequences maxlen :  41\n",
      "전체 문장의 0.9342988343341575%가 maxlen 설정값 이내에 포함됩니다. \n"
     ]
    }
   ],
   "source": [
    "total_data_text = list(X_train) + list(X_test)\n",
    "# 텍스트데이터 문장길이의 리스트를 생성한 후\n",
    "num_tokens = [len(tokens) for tokens in total_data_text]\n",
    "num_tokens = np.array(num_tokens)\n",
    "# 문장길이의 평균값, 최대값, 표준편차를 계산해 본다. \n",
    "print('문장길이 평균 : ', np.mean(num_tokens))\n",
    "print('문장길이 최대 : ', np.max(num_tokens))\n",
    "print('문장길이 표준편차 : ', np.std(num_tokens))\n",
    "\n",
    "# 예를들어, 최대 길이를 (평균 + 2*표준편차)로 한다면,  \n",
    "max_tokens = np.mean(num_tokens) + 2 * np.std(num_tokens)\n",
    "maxlen = int(max_tokens)\n",
    "print('pad_sequences maxlen : ', maxlen)\n",
    "print(f'전체 문장의 {np.sum(num_tokens < max_tokens) / len(num_tokens)}%가 maxlen 설정값 이내에 포함됩니다. ')"
   ]
  },
  {
   "cell_type": "code",
   "execution_count": 6,
   "id": "c3d80ee9",
   "metadata": {},
   "outputs": [
    {
     "name": "stdout",
     "output_type": "stream",
     "text": [
      "(146182, 41)\n"
     ]
    }
   ],
   "source": [
    "import tensorflow as tf\n",
    "\n",
    "X_train = tf.keras.preprocessing.sequence.pad_sequences(X_train,\n",
    "                                                        value=word_to_index[\"<PAD>\"],\n",
    "                                                        padding='pre', # 혹은 'post'\n",
    "                                                        maxlen=maxlen)\n",
    "\n",
    "X_test = tf.keras.preprocessing.sequence.pad_sequences(X_test,\n",
    "                                                       value=word_to_index[\"<PAD>\"],\n",
    "                                                       padding='pre', # 혹은 'post'\n",
    "                                                       maxlen=maxlen)\n",
    "\n",
    "print(X_train.shape)"
   ]
  },
  {
   "cell_type": "markdown",
   "id": "15c2c861",
   "metadata": {},
   "source": [
    "# 4) 모델 구성 및 validation set 구성\n",
    "- [x] 3가지 이상 모델"
   ]
  },
  {
   "cell_type": "code",
   "execution_count": 7,
   "id": "cb5ad282",
   "metadata": {},
   "outputs": [
    {
     "name": "stdout",
     "output_type": "stream",
     "text": [
      "29236\n",
      "(116946, 41)\n",
      "(116946,)\n"
     ]
    }
   ],
   "source": [
    "train_len = int(X_train.shape[0] * 0.2)\n",
    "print(train_len)\n",
    "\n",
    "# validation set 분리\n",
    "X_val = X_train[:train_len]\n",
    "y_val = y_train[:train_len]\n",
    "\n",
    "# validation set을 제외한 \n",
    "partial_X_train = X_train[train_len:]  \n",
    "partial_y_train = y_train[train_len:]\n",
    "\n",
    "print(partial_X_train.shape)\n",
    "print(partial_y_train.shape)"
   ]
  },
  {
   "cell_type": "code",
   "execution_count": 8,
   "id": "b19b4903",
   "metadata": {},
   "outputs": [],
   "source": [
    "vocab_size = 10000\n",
    "word_vector_dim = 100"
   ]
  },
  {
   "cell_type": "markdown",
   "id": "98955dc8",
   "metadata": {},
   "source": [
    "## LSTM"
   ]
  },
  {
   "cell_type": "code",
   "execution_count": 9,
   "id": "32420d8d",
   "metadata": {
    "scrolled": true
   },
   "outputs": [
    {
     "name": "stdout",
     "output_type": "stream",
     "text": [
      "Model: \"sequential\"\n",
      "_________________________________________________________________\n",
      "Layer (type)                 Output Shape              Param #   \n",
      "=================================================================\n",
      "embedding (Embedding)        (None, None, 100)         1000000   \n",
      "_________________________________________________________________\n",
      "lstm (LSTM)                  (None, 8)                 3488      \n",
      "_________________________________________________________________\n",
      "dense (Dense)                (None, 8)                 72        \n",
      "_________________________________________________________________\n",
      "dense_1 (Dense)              (None, 1)                 9         \n",
      "=================================================================\n",
      "Total params: 1,003,569\n",
      "Trainable params: 1,003,569\n",
      "Non-trainable params: 0\n",
      "_________________________________________________________________\n"
     ]
    }
   ],
   "source": [
    "rnn_model = tf.keras.Sequential()\n",
    "rnn_model.add(tf.keras.layers.Embedding(vocab_size, word_vector_dim, input_shape=(None,)))\n",
    "rnn_model.add(tf.keras.layers.LSTM(8))   # 가장 널리 쓰이는 RNN인 LSTM 레이어를 사용하였습니다. 이때 LSTM state 벡터의 차원수는 8로 하였습니다. (변경 가능)\n",
    "rnn_model.add(tf.keras.layers.Dense(8, activation='relu'))\n",
    "rnn_model.add(tf.keras.layers.Dense(1, activation='sigmoid'))  # 최종 출력은 긍정/부정을 나타내는 1dim 입니다.\n",
    "\n",
    "rnn_model.summary()"
   ]
  },
  {
   "cell_type": "markdown",
   "id": "6987de34",
   "metadata": {},
   "source": [
    "## CNN"
   ]
  },
  {
   "cell_type": "code",
   "execution_count": 10,
   "id": "59089b19",
   "metadata": {
    "scrolled": false
   },
   "outputs": [
    {
     "name": "stdout",
     "output_type": "stream",
     "text": [
      "Model: \"sequential_1\"\n",
      "_________________________________________________________________\n",
      "Layer (type)                 Output Shape              Param #   \n",
      "=================================================================\n",
      "embedding_1 (Embedding)      (None, None, 100)         1000000   \n",
      "_________________________________________________________________\n",
      "conv1d (Conv1D)              (None, None, 16)          11216     \n",
      "_________________________________________________________________\n",
      "max_pooling1d (MaxPooling1D) (None, None, 16)          0         \n",
      "_________________________________________________________________\n",
      "conv1d_1 (Conv1D)            (None, None, 16)          1808      \n",
      "_________________________________________________________________\n",
      "global_max_pooling1d (Global (None, 16)                0         \n",
      "_________________________________________________________________\n",
      "dense_2 (Dense)              (None, 8)                 136       \n",
      "_________________________________________________________________\n",
      "dense_3 (Dense)              (None, 1)                 9         \n",
      "=================================================================\n",
      "Total params: 1,013,169\n",
      "Trainable params: 1,013,169\n",
      "Non-trainable params: 0\n",
      "_________________________________________________________________\n"
     ]
    }
   ],
   "source": [
    "cnn_model = tf.keras.Sequential()\n",
    "cnn_model.add(tf.keras.layers.Embedding(vocab_size, word_vector_dim, input_shape=(None,)))\n",
    "cnn_model.add(tf.keras.layers.Conv1D(16, 7, activation='relu'))\n",
    "cnn_model.add(tf.keras.layers.MaxPooling1D(5))\n",
    "cnn_model.add(tf.keras.layers.Conv1D(16, 7, activation='relu'))\n",
    "cnn_model.add(tf.keras.layers.GlobalMaxPooling1D())\n",
    "cnn_model.add(tf.keras.layers.Dense(8, activation='relu'))\n",
    "cnn_model.add(tf.keras.layers.Dense(1, activation='sigmoid'))  # 최종 출력은 긍정/부정을 나타내는 1dim 입니다.\n",
    "\n",
    "cnn_model.summary()"
   ]
  },
  {
   "cell_type": "markdown",
   "id": "9b97d37d",
   "metadata": {},
   "source": [
    "## CNN globalMaxPooling"
   ]
  },
  {
   "cell_type": "code",
   "execution_count": 11,
   "id": "b3ddcd52",
   "metadata": {},
   "outputs": [
    {
     "name": "stdout",
     "output_type": "stream",
     "text": [
      "Model: \"sequential_2\"\n",
      "_________________________________________________________________\n",
      "Layer (type)                 Output Shape              Param #   \n",
      "=================================================================\n",
      "embedding_2 (Embedding)      (None, None, 100)         1000000   \n",
      "_________________________________________________________________\n",
      "global_max_pooling1d_1 (Glob (None, 100)               0         \n",
      "_________________________________________________________________\n",
      "dense_4 (Dense)              (None, 8)                 808       \n",
      "_________________________________________________________________\n",
      "dense_5 (Dense)              (None, 1)                 9         \n",
      "=================================================================\n",
      "Total params: 1,000,817\n",
      "Trainable params: 1,000,817\n",
      "Non-trainable params: 0\n",
      "_________________________________________________________________\n"
     ]
    }
   ],
   "source": [
    "maxpooling_model = tf.keras.Sequential()\n",
    "maxpooling_model.add(tf.keras.layers.Embedding(vocab_size, word_vector_dim, input_shape=(None,)))\n",
    "maxpooling_model.add(tf.keras.layers.GlobalMaxPooling1D())\n",
    "maxpooling_model.add(tf.keras.layers.Dense(8, activation='relu'))\n",
    "maxpooling_model.add(tf.keras.layers.Dense(1, activation='sigmoid'))  # 최종 출력은 긍정/부정을 나타내는 1dim 입니다.\n",
    "\n",
    "maxpooling_model.summary()"
   ]
  },
  {
   "cell_type": "markdown",
   "id": "3ce3ba0f",
   "metadata": {},
   "source": [
    "## Transformer"
   ]
  },
  {
   "cell_type": "code",
   "execution_count": 12,
   "id": "737666ad",
   "metadata": {
    "scrolled": true
   },
   "outputs": [],
   "source": [
    "# 일단 프로젝트부터 제출하고 나중에 작성하자"
   ]
  },
  {
   "cell_type": "markdown",
   "id": "f2d67a35",
   "metadata": {},
   "source": [
    "# 5) 모델 훈련 개시"
   ]
  },
  {
   "cell_type": "markdown",
   "id": "634bd226",
   "metadata": {},
   "source": [
    "## LSTM"
   ]
  },
  {
   "cell_type": "code",
   "execution_count": 13,
   "id": "1eed0a55",
   "metadata": {},
   "outputs": [
    {
     "name": "stdout",
     "output_type": "stream",
     "text": [
      "Epoch 1/20\n",
      "229/229 [==============================] - 5s 8ms/step - loss: 0.4755 - accuracy: 0.7987 - val_loss: 0.3613 - val_accuracy: 0.8473\n",
      "Epoch 2/20\n",
      "229/229 [==============================] - 1s 6ms/step - loss: 0.3361 - accuracy: 0.8613 - val_loss: 0.3477 - val_accuracy: 0.8492\n",
      "Epoch 3/20\n",
      "229/229 [==============================] - 1s 6ms/step - loss: 0.3078 - accuracy: 0.8749 - val_loss: 0.3438 - val_accuracy: 0.8531\n",
      "Epoch 4/20\n",
      "229/229 [==============================] - 1s 6ms/step - loss: 0.2891 - accuracy: 0.8831 - val_loss: 0.3469 - val_accuracy: 0.8515\n",
      "Epoch 5/20\n",
      "229/229 [==============================] - 1s 6ms/step - loss: 0.2719 - accuracy: 0.8917 - val_loss: 0.3506 - val_accuracy: 0.8538\n",
      "Epoch 6/20\n",
      "229/229 [==============================] - 1s 6ms/step - loss: 0.2552 - accuracy: 0.8993 - val_loss: 0.3583 - val_accuracy: 0.8502\n"
     ]
    }
   ],
   "source": [
    "from tensorflow.keras.callbacks import EarlyStopping\n",
    "\n",
    "# 얼리 스탑핑 콜백 생성\n",
    "early_stopping = EarlyStopping(monitor='val_loss',  # 모니터할 지표 설정 (검증 손실)\n",
    "                               patience=3,         # 성능이 개선되지 않더라도 기다릴 epoch 수\n",
    "                               restore_best_weights=True)  # 최적의 가중치로 복원할지 여부\n",
    "\n",
    "rnn_model.compile(optimizer='adam',\n",
    "                  loss='binary_crossentropy',\n",
    "                  metrics=['accuracy'])\n",
    "              \n",
    "epochs=20  # 몇 epoch를 훈련하면 좋을지 결과를 보면서 바꾸어 봅시다. \n",
    "\n",
    "history = rnn_model.fit(partial_X_train,\n",
    "                        partial_y_train,\n",
    "                        epochs=epochs,\n",
    "                        batch_size=512,\n",
    "                        validation_data=(X_val, y_val),\n",
    "                        callbacks=[early_stopping],  # 얼리 스탑핑 콜백 추가\n",
    "                        verbose=1)"
   ]
  },
  {
   "cell_type": "code",
   "execution_count": 14,
   "id": "5e43423f",
   "metadata": {},
   "outputs": [
    {
     "name": "stdout",
     "output_type": "stream",
     "text": [
      "1537/1537 - 3s - loss: 0.3543 - accuracy: 0.8468\n",
      "[0.3542940616607666, 0.846796989440918]\n"
     ]
    }
   ],
   "source": [
    "results = rnn_model.evaluate(X_test,  y_test, verbose=2)\n",
    "\n",
    "print(results)"
   ]
  },
  {
   "cell_type": "markdown",
   "id": "94bf7dff",
   "metadata": {},
   "source": [
    "## CNN"
   ]
  },
  {
   "cell_type": "code",
   "execution_count": 15,
   "id": "5b0ff92d",
   "metadata": {},
   "outputs": [
    {
     "name": "stdout",
     "output_type": "stream",
     "text": [
      "Epoch 1/20\n",
      "229/229 [==============================] - 3s 6ms/step - loss: 0.4464 - accuracy: 0.7870 - val_loss: 0.3421 - val_accuracy: 0.8497\n",
      "Epoch 2/20\n",
      "229/229 [==============================] - 1s 5ms/step - loss: 0.2992 - accuracy: 0.8751 - val_loss: 0.3266 - val_accuracy: 0.8581\n",
      "Epoch 3/20\n",
      "229/229 [==============================] - 1s 5ms/step - loss: 0.2333 - accuracy: 0.9080 - val_loss: 0.3451 - val_accuracy: 0.8564\n",
      "Epoch 4/20\n",
      "229/229 [==============================] - 1s 5ms/step - loss: 0.1593 - accuracy: 0.9425 - val_loss: 0.3958 - val_accuracy: 0.8470\n",
      "Epoch 5/20\n",
      "229/229 [==============================] - 1s 5ms/step - loss: 0.1002 - accuracy: 0.9666 - val_loss: 0.4735 - val_accuracy: 0.8446\n"
     ]
    }
   ],
   "source": [
    "# 얼리 스탑핑 콜백 생성\n",
    "early_stopping = EarlyStopping(monitor='val_loss',  # 모니터할 지표 설정 (검증 손실)\n",
    "                               patience=3,         # 성능이 개선되지 않더라도 기다릴 epoch 수\n",
    "                               restore_best_weights=True)  # 최적의 가중치로 복원할지 여부\n",
    "\n",
    "cnn_model.compile(optimizer='adam',\n",
    "                  loss='binary_crossentropy',\n",
    "                  metrics=['accuracy'])\n",
    "              \n",
    "epochs=20  # 몇 epoch를 훈련하면 좋을지 결과를 보면서 바꾸어 봅시다. \n",
    "\n",
    "cnn_history = cnn_model.fit(partial_X_train,\n",
    "                            partial_y_train,\n",
    "                            epochs=epochs,\n",
    "                            batch_size=512,\n",
    "                            validation_data=(X_val, y_val),\n",
    "                            callbacks=[early_stopping],  # 얼리 스탑핑 콜백 추가\n",
    "                            verbose=1)"
   ]
  },
  {
   "cell_type": "code",
   "execution_count": 16,
   "id": "7b407ece",
   "metadata": {},
   "outputs": [
    {
     "name": "stdout",
     "output_type": "stream",
     "text": [
      "1537/1537 - 3s - loss: 0.3378 - accuracy: 0.8553\n",
      "[0.3378426730632782, 0.8552800416946411]\n"
     ]
    }
   ],
   "source": [
    "results = cnn_model.evaluate(X_test,  y_test, verbose=2)\n",
    "\n",
    "print(results)"
   ]
  },
  {
   "cell_type": "markdown",
   "id": "f1756586",
   "metadata": {},
   "source": [
    "## CNN globalMaxPooling"
   ]
  },
  {
   "cell_type": "code",
   "execution_count": 17,
   "id": "cc6cb6b5",
   "metadata": {},
   "outputs": [
    {
     "name": "stdout",
     "output_type": "stream",
     "text": [
      "Epoch 1/20\n",
      "229/229 [==============================] - 1s 5ms/step - loss: 0.5032 - accuracy: 0.7896 - val_loss: 0.3572 - val_accuracy: 0.8425\n",
      "Epoch 2/20\n",
      "229/229 [==============================] - 1s 4ms/step - loss: 0.3255 - accuracy: 0.8616 - val_loss: 0.3363 - val_accuracy: 0.8515\n",
      "Epoch 3/20\n",
      "229/229 [==============================] - 1s 4ms/step - loss: 0.2798 - accuracy: 0.8849 - val_loss: 0.3373 - val_accuracy: 0.8542\n",
      "Epoch 4/20\n",
      "229/229 [==============================] - 1s 4ms/step - loss: 0.2448 - accuracy: 0.9024 - val_loss: 0.3462 - val_accuracy: 0.8548\n",
      "Epoch 5/20\n",
      "229/229 [==============================] - 1s 4ms/step - loss: 0.2120 - accuracy: 0.9184 - val_loss: 0.3637 - val_accuracy: 0.8541\n"
     ]
    }
   ],
   "source": [
    "# 얼리 스탑핑 콜백 생성\n",
    "early_stopping = EarlyStopping(monitor='val_loss',  # 모니터할 지표 설정 (검증 손실)\n",
    "                               patience=3,         # 성능이 개선되지 않더라도 기다릴 epoch 수\n",
    "                               restore_best_weights=True)  # 최적의 가중치로 복원할지 여부\n",
    "\n",
    "maxpooling_model.compile(optimizer='adam',\n",
    "                         loss='binary_crossentropy',\n",
    "                         metrics=['accuracy'])\n",
    "              \n",
    "epochs=20  # 몇 epoch를 훈련하면 좋을지 결과를 보면서 바꾸어 봅시다. \n",
    "\n",
    "history = maxpooling_model.fit(partial_X_train,\n",
    "                               partial_y_train,\n",
    "                               epochs=epochs,\n",
    "                               batch_size=512,\n",
    "                               validation_data=(X_val, y_val),\n",
    "                               callbacks=[early_stopping],  # 얼리 스탑핑 콜백 추가\n",
    "                               verbose=1)"
   ]
  },
  {
   "cell_type": "code",
   "execution_count": 18,
   "id": "67e66394",
   "metadata": {},
   "outputs": [
    {
     "name": "stdout",
     "output_type": "stream",
     "text": [
      "1537/1537 - 2s - loss: 0.3464 - accuracy: 0.8492\n",
      "[0.3464232087135315, 0.8492381572723389]\n"
     ]
    }
   ],
   "source": [
    "results = maxpooling_model.evaluate(X_test, y_test, verbose=2)\n",
    "\n",
    "print(results)"
   ]
  },
  {
   "cell_type": "markdown",
   "id": "25b78b6b",
   "metadata": {},
   "source": [
    "## Transformer"
   ]
  },
  {
   "cell_type": "code",
   "execution_count": 19,
   "id": "69429848",
   "metadata": {
    "scrolled": true
   },
   "outputs": [],
   "source": [
    "# 일단 프로젝트부터 제출하고 나중에 작성하자"
   ]
  },
  {
   "cell_type": "markdown",
   "id": "8aaf2cbb",
   "metadata": {},
   "source": [
    "# 6) Loss, Accuracy 그래프 시각화\n",
    "가장 성능이 좋은 cnn_model에 대해서만 진행."
   ]
  },
  {
   "cell_type": "code",
   "execution_count": 20,
   "id": "4ebc34a8",
   "metadata": {},
   "outputs": [
    {
     "data": {
      "image/png": "[encoded data removed]",
      "text/plain": [
       "<Figure size 432x288 with 1 Axes>"
      ]
     },
     "metadata": {
      "needs_background": "light"
     },
     "output_type": "display_data"
    },
    {
     "data": {
      "image/png": "[encoded data removed]",
      "text/plain": [
       "<Figure size 432x288 with 1 Axes>"
      ]
     },
     "metadata": {
      "needs_background": "light"
     },
     "output_type": "display_data"
    }
   ],
   "source": [
    "import matplotlib.pyplot as plt\n",
    "\n",
    "history_dict = cnn_history.history\n",
    "acc = history_dict['accuracy']\n",
    "val_acc = history_dict['val_accuracy']\n",
    "loss = history_dict['loss']\n",
    "val_loss = history_dict['val_loss']\n",
    "\n",
    "epochs = range(1, len(acc) + 1)\n",
    "\n",
    "# \"bo\"는 \"파란색 점\"입니다\n",
    "plt.plot(epochs, loss, 'bo', label='Training loss')\n",
    "# b는 \"파란 실선\"입니다\n",
    "plt.plot(epochs, val_loss, 'b', label='Validation loss')\n",
    "plt.title('Training and validation loss')\n",
    "plt.xlabel('Epochs')\n",
    "plt.ylabel('Loss')\n",
    "plt.legend()\n",
    "\n",
    "plt.show()\n",
    "\n",
    "plt.clf()   # 그림을 초기화합니다\n",
    "\n",
    "plt.plot(epochs, acc, 'bo', label='Training acc')\n",
    "plt.plot(epochs, val_acc, 'b', label='Validation acc')\n",
    "plt.title('Training and validation accuracy')\n",
    "plt.xlabel('Epochs')\n",
    "plt.ylabel('Accuracy')\n",
    "plt.legend()\n",
    "\n",
    "plt.show()"
   ]
  },
  {
   "cell_type": "markdown",
   "id": "1ba2c394",
   "metadata": {},
   "source": [
    "# 7) 학습된 Embedding 레이어 분석"
   ]
  },
  {
   "cell_type": "code",
   "execution_count": 21,
   "id": "9f9112c2",
   "metadata": {
    "scrolled": true
   },
   "outputs": [],
   "source": [
    "# embedding = tf.keras.layers.Embedding(input_dim=vocab_size, output_dim=word_vector_dim, mask_zero=True)\n",
    "\n",
    "# # tf.keras.preprocessing.sequence.pad_sequences를 통해 word vector를 모두 일정 길이로 맞춰주어야 \n",
    "# # embedding 레이어의 input이 될 수 있음에 주의해 주세요. \n",
    "# raw_inputs = np.array(get_encoded_sentences(train_data['document'], word_to_index), dtype=object)\n",
    "# raw_inputs = tf.keras.preprocessing.sequence.pad_sequences(raw_inputs,\n",
    "#                                                        value=word_to_index['<PAD>'],\n",
    "#                                                        padding='post',\n",
    "#                                                        maxlen=maxlen)\n",
    "# output = embedding(raw_inputs)\n",
    "# print(output.shape)"
   ]
  },
  {
   "cell_type": "markdown",
   "id": "4aa45b9f",
   "metadata": {},
   "source": [
    "# 8) 한국어 Word2Vec 임베딩 활용하여 성능 개선\n",
    "- word2vec_ko.model 활용\n",
    "- load() 형태로 모둘 불러오기. .wv 붙여서 활용.\n",
    "- [ ] 자체학습한 임베딩과 사전학습 임베딩 비교 분석\n",
    "- [ ] 네이버 영화리뷰 데이터 감성분석 정확도 "
   ]
  },
  {
   "cell_type": "code",
   "execution_count": 22,
   "id": "0726b56f",
   "metadata": {},
   "outputs": [
    {
     "name": "stdout",
     "output_type": "stream",
     "text": [
      "(10000, 100)\n"
     ]
    }
   ],
   "source": [
    "embedding_layer = cnn_model.layers[0]\n",
    "weights = embedding_layer.get_weights()[0]\n",
    "print(weights.shape)    # shape: (vocab_size, embedding_dim)"
   ]
  },
  {
   "cell_type": "code",
   "execution_count": 23,
   "id": "8a0d39a6",
   "metadata": {},
   "outputs": [
    {
     "data": {
      "text/plain": [
       "100"
      ]
     },
     "execution_count": 23,
     "metadata": {},
     "output_type": "execute_result"
    }
   ],
   "source": [
    "from gensim.models.keyedvectors import Word2VecKeyedVectors\n",
    "\n",
    "word2vec_path = '/aiffel/aiffel/sentiment_classification/data/word2vec_ko.model'\n",
    "word_vectors = Word2VecKeyedVectors.load(word2vec_path)\n",
    "vector = word_vectors.wv['영화']\n",
    "len(vector)"
   ]
  },
  {
   "cell_type": "code",
   "execution_count": 24,
   "id": "e7255da1",
   "metadata": {
    "scrolled": true
   },
   "outputs": [
    {
     "data": {
      "text/plain": [
       "[('드라마', 0.8418774008750916),\n",
       " ('뮤지컬', 0.7775140404701233),\n",
       " ('코미디', 0.7489107251167297),\n",
       " ('다큐멘터리', 0.7401294708251953),\n",
       " ('헐리우드', 0.7397844195365906),\n",
       " ('애니메이션', 0.7170552015304565),\n",
       " ('독립영화', 0.7113528251647949),\n",
       " ('로맨틱', 0.7107657194137573),\n",
       " ('장편', 0.7101576924324036),\n",
       " ('극영화', 0.7045413255691528)]"
      ]
     },
     "execution_count": 24,
     "metadata": {},
     "output_type": "execute_result"
    }
   ],
   "source": [
    "# 메모리를 다소 많이 소비하는 작업이니 유의해 주세요.\n",
    "word_vectors.wv.similar_by_word(\"영화\")"
   ]
  },
  {
   "cell_type": "code",
   "execution_count": 25,
   "id": "c4198f50",
   "metadata": {},
   "outputs": [
    {
     "ename": "TypeError",
     "evalue": "argument of type 'Word2Vec' is not iterable",
     "output_type": "error",
     "traceback": [
      "\u001b[0;31m---------------------------------------------------------------------------\u001b[0m",
      "\u001b[0;31mTypeError\u001b[0m                                 Traceback (most recent call last)",
      "\u001b[0;32m/tmp/ipykernel_928/1511118374.py\u001b[0m in \u001b[0;36m<module>\u001b[0;34m\u001b[0m\n\u001b[1;32m      7\u001b[0m \u001b[0;31m# embedding_matrix에 Word2Vec 워드 벡터를 단어 하나씩마다 차례차례 카피한다.\u001b[0m\u001b[0;34m\u001b[0m\u001b[0;34m\u001b[0m\u001b[0m\n\u001b[1;32m      8\u001b[0m \u001b[0;32mfor\u001b[0m \u001b[0mi\u001b[0m \u001b[0;32min\u001b[0m \u001b[0mrange\u001b[0m\u001b[0;34m(\u001b[0m\u001b[0;36m4\u001b[0m\u001b[0;34m,\u001b[0m\u001b[0mvocab_size\u001b[0m\u001b[0;34m)\u001b[0m\u001b[0;34m:\u001b[0m\u001b[0;34m\u001b[0m\u001b[0;34m\u001b[0m\u001b[0m\n\u001b[0;32m----> 9\u001b[0;31m     \u001b[0;32mif\u001b[0m \u001b[0mindex_to_word\u001b[0m\u001b[0;34m[\u001b[0m\u001b[0mi\u001b[0m\u001b[0;34m]\u001b[0m \u001b[0;32min\u001b[0m \u001b[0mword_vectors\u001b[0m\u001b[0;34m:\u001b[0m\u001b[0;34m\u001b[0m\u001b[0;34m\u001b[0m\u001b[0m\n\u001b[0m\u001b[1;32m     10\u001b[0m         \u001b[0membedding_matrix\u001b[0m\u001b[0;34m[\u001b[0m\u001b[0mi\u001b[0m\u001b[0;34m]\u001b[0m \u001b[0;34m=\u001b[0m \u001b[0mword_vectors\u001b[0m\u001b[0;34m[\u001b[0m\u001b[0mindex_to_word\u001b[0m\u001b[0;34m[\u001b[0m\u001b[0mi\u001b[0m\u001b[0;34m]\u001b[0m\u001b[0;34m]\u001b[0m\u001b[0;34m\u001b[0m\u001b[0;34m\u001b[0m\u001b[0m\n\u001b[1;32m     11\u001b[0m \u001b[0;34m\u001b[0m\u001b[0m\n",
      "\u001b[0;31mTypeError\u001b[0m: argument of type 'Word2Vec' is not iterable"
     ]
    }
   ],
   "source": [
    "from tensorflow.keras.initializers import Constant\n",
    "\n",
    "vocab_size = 10000\n",
    "word_vector_dim = 100\n",
    "embedding_matrix = np.random.rand(vocab_size, word_vector_dim)\n",
    "\n",
    "# embedding_matrix에 Word2Vec 워드 벡터를 단어 하나씩마다 차례차례 카피한다.\n",
    "for i in range(4,vocab_size):\n",
    "    if index_to_word[i] in word_vectors:\n",
    "        embedding_matrix[i] = word_vectors[index_to_word[i]]\n",
    "\n",
    "cnn_model = tf.keras.Sequential()\n",
    "cnn_model.add(tf.keras.layers.Embedding(vocab_size, \n",
    "                                 word_vector_dim, \n",
    "                                 embeddings_initializer=Constant(embedding_matrix),  # 카피한 임베딩을 여기서 활용\n",
    "                                 input_length=maxlen, \n",
    "                                 trainable=True))   # trainable을 True로 주면 Fine-tuning\n",
    "\n",
    "\n",
    "cnn_model.add(tf.keras.layers.Conv1D(16, 7, activation='relu'))\n",
    "cnn_model.add(tf.keras.layers.MaxPooling1D(5))\n",
    "cnn_model.add(tf.keras.layers.Conv1D(16, 7, activation='relu'))\n",
    "cnn_model.add(tf.keras.layers.GlobalMaxPooling1D())\n",
    "cnn_model.add(tf.keras.layers.Dense(8, activation='relu'))\n",
    "cnn_model.add(tf.keras.layers.Dense(1, activation='sigmoid'))  # 최종 출력은 긍정/부정을 나타내는 1dim 입니다.\n",
    "\n",
    "cnn_model.summary()"
   ]
  },
  {
   "cell_type": "code",
   "execution_count": null,
   "id": "43b44de2",
   "metadata": {},
   "outputs": [],
   "source": []
  }
 ],
 "metadata": {
  "kernelspec": {
   "display_name": "Python 3 (ipykernel)",
   "language": "python",
   "name": "python3"
  },
  "language_info": {
   "codemirror_mode": {
    "name": "ipython",
    "version": 3
   },
   "file_extension": ".py",
   "mimetype": "text/x-python",
   "name": "python",
   "nbconvert_exporter": "python",
   "pygments_lexer": "ipython3",
   "version": "3.9.7"
  }
 },
 "nbformat": 4,
 "nbformat_minor": 5
}
