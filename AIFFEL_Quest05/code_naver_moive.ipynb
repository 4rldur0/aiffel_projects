{
 "cells": [
  {
   "cell_type": "markdown",
   "id": "cbb645dd",
   "metadata": {},
   "source": [
    "[NAVER sentiment movie corpus](https://github.com/e9t/nsmc)"
   ]
  },
  {
   "cell_type": "markdown",
   "id": "0aac4cae",
   "metadata": {},
   "source": [
    "- [1) 데이터 준비와 확인](#1%29-데이터-준비와-확인)\n",
    "- [2) 데이터로더 구성](#2%29-데이터로더-구성)\n",
    "- [3) 모델 구성을 위한 데이터 분석 및 가공](#3%29-모델-구성을-위한-데이터-분석-및-가공)\n",
    "- [4) 모델 구성 및 validation set 구성](#4%29-모델-구성-및-validation-set-구성)\n",
    "- [5) 모델 훈련 개시](#5%29-모델-훈련-개시)\n",
    "- [6) Loss, Accuracy 그래프 시각화](#6%29-Loss,-Accuracy-그래프-시각화)\n",
    "- [7) 학습된 Embedding 레이어 분석](#7%29-학습된-Embedding-레이어-분석)\n",
    "- [8) 한국어 Word2Vec 임베딩 활용하여 성능 개선](#8%29-한국어-Word2Vec-임베딩-활용하여-성능-개선)\n",
    "- [회고](#회고)"
   ]
  },
  {
   "cell_type": "markdown",
   "id": "88579924",
   "metadata": {},
   "source": [
    "# 1) 데이터 준비와 확인"
   ]
  },
  {
   "cell_type": "code",
   "execution_count": 1,
   "id": "4f448308",
   "metadata": {
    "scrolled": true
   },
   "outputs": [
    {
     "data": {
      "text/html": [
       "<div>\n",
       "<style scoped>\n",
       "    .dataframe tbody tr th:only-of-type {\n",
       "        vertical-align: middle;\n",
       "    }\n",
       "\n",
       "    .dataframe tbody tr th {\n",
       "        vertical-align: top;\n",
       "    }\n",
       "\n",
       "    .dataframe thead th {\n",
       "        text-align: right;\n",
       "    }\n",
       "</style>\n",
       "<table border=\"1\" class=\"dataframe\">\n",
       "  <thead>\n",
       "    <tr style=\"text-align: right;\">\n",
       "      <th></th>\n",
       "      <th>id</th>\n",
       "      <th>document</th>\n",
       "      <th>label</th>\n",
       "    </tr>\n",
       "  </thead>\n",
       "  <tbody>\n",
       "    <tr>\n",
       "      <th>0</th>\n",
       "      <td>9976970</td>\n",
       "      <td>아 더빙.. 진짜 짜증나네요 목소리</td>\n",
       "      <td>0</td>\n",
       "    </tr>\n",
       "    <tr>\n",
       "      <th>1</th>\n",
       "      <td>3819312</td>\n",
       "      <td>흠...포스터보고 초딩영화줄....오버연기조차 가볍지 않구나</td>\n",
       "      <td>1</td>\n",
       "    </tr>\n",
       "    <tr>\n",
       "      <th>2</th>\n",
       "      <td>10265843</td>\n",
       "      <td>너무재밓었다그래서보는것을추천한다</td>\n",
       "      <td>0</td>\n",
       "    </tr>\n",
       "    <tr>\n",
       "      <th>3</th>\n",
       "      <td>9045019</td>\n",
       "      <td>교도소 이야기구먼 ..솔직히 재미는 없다..평점 조정</td>\n",
       "      <td>0</td>\n",
       "    </tr>\n",
       "    <tr>\n",
       "      <th>4</th>\n",
       "      <td>6483659</td>\n",
       "      <td>사이몬페그의 익살스런 연기가 돋보였던 영화!스파이더맨에서 늙어보이기만 했던 커스틴 ...</td>\n",
       "      <td>1</td>\n",
       "    </tr>\n",
       "  </tbody>\n",
       "</table>\n",
       "</div>"
      ],
      "text/plain": [
       "         id                                           document  label\n",
       "0   9976970                                아 더빙.. 진짜 짜증나네요 목소리      0\n",
       "1   3819312                  흠...포스터보고 초딩영화줄....오버연기조차 가볍지 않구나      1\n",
       "2  10265843                                  너무재밓었다그래서보는것을추천한다      0\n",
       "3   9045019                      교도소 이야기구먼 ..솔직히 재미는 없다..평점 조정      0\n",
       "4   6483659  사이몬페그의 익살스런 연기가 돋보였던 영화!스파이더맨에서 늙어보이기만 했던 커스틴 ...      1"
      ]
     },
     "execution_count": 1,
     "metadata": {},
     "output_type": "execute_result"
    }
   ],
   "source": [
    "import pandas as pd\n",
    "\n",
    "# 데이터를 읽어봅시다. \n",
    "train_data = pd.read_table('~/aiffel/sentiment_classification/data/ratings_train.txt')\n",
    "test_data = pd.read_table('~/aiffel/sentiment_classification/data/ratings_test.txt')\n",
    "\n",
    "train_data.head()"
   ]
  },
  {
   "cell_type": "markdown",
   "id": "15026485",
   "metadata": {},
   "source": [
    "# 2) 데이터로더 구성\n",
    "- [x] 데이터의 중복 제거 -> 중복 없음.  \n",
    "- [x] NaN 결측치 제거  \n",
    "- [x] 한국어 토크나이저로 토큰화  \n",
    "- [x] 불용어(Stopwords) 제거  \n",
    "- [x] 사전 word_to_index 구성  \n",
    "- [x] 텍스트 스트링을 사전 인덱스 스트링으로 변환  \n",
    "- [x] X_train, y_train, X_test, y_test, word_to_index 리턴"
   ]
  },
  {
   "cell_type": "code",
   "execution_count": 2,
   "id": "19efbf53",
   "metadata": {},
   "outputs": [],
   "source": [
    "from konlpy.tag import Mecab\n",
    "import numpy as np\n",
    "from collections import Counter\n",
    "\n",
    "tokenizer = Mecab()\n",
    "stopwords = ['의','가','이','은','들','는','좀','잘','걍','과','도','를','으로','자','에','와','한','하다']\n",
    "\n",
    "def load_data(train_data, test_data, num_words = 10000):\n",
    "    # 중복 제거\n",
    "    # 중복 데이터 없음.\n",
    "    train_data.drop_duplicates(subset=['document'], inplace=True)\n",
    "    test_data.drop_duplicates(subset=['document'], inplace=True)\n",
    "    \n",
    "    # NaN 결측치 제거\n",
    "    # document 열에만 NA있어서 바로 제거\n",
    "    train_data = train_data.dropna(how = 'any')\n",
    "    test_data = test_data.dropna(how = 'any') \n",
    "    \n",
    "    # 토큰화, 불용어 처리\n",
    "    X_train = []\n",
    "    for sentence in train_data['document']:\n",
    "        temp_X = tokenizer.morphs(sentence) # 토큰화\n",
    "        temp_X = [word for word in temp_X if not word in stopwords] # 불용어 제거\n",
    "        X_train.append(temp_X)\n",
    "\n",
    "    X_test = []\n",
    "    for sentence in test_data['document']:\n",
    "        temp_X = tokenizer.morphs(sentence) # 토큰화\n",
    "        temp_X = [word for word in temp_X if not word in stopwords] # 불용어 제거\n",
    "        X_test.append(temp_X)\n",
    "    \n",
    "    # 사전 word_to_index\n",
    "    words = np.concatenate(X_train).tolist()\n",
    "    counter = Counter(words)\n",
    "    counter = counter.most_common(num_words - 4)\n",
    "    vocab = ['<PAD>', '<BOS>', '<UNK>', '<UNUSED>'] + [key for key, _ in counter]\n",
    "    word_to_index = {word:index for index, word in enumerate(vocab)}\n",
    "    \n",
    "    # 텍스트 to 인덱스\n",
    "    def wordlist_to_idxlist(wordlist):\n",
    "        return [word_to_index[word] if word in word_to_index else word_to_index['<UNK>'] for word in wordlist]\n",
    "    \n",
    "    X_train = list(map(wordlist_to_idxlist, X_train))\n",
    "    X_test = list(map(wordlist_to_idxlist, X_test))\n",
    "    \n",
    "    return X_train, np.array(list(train_data['label'])), X_test, np.array(list(test_data['label'])), word_to_index\n",
    "    \n",
    "X_train, y_train, X_test, y_test, word_to_index = load_data(train_data, test_data)"
   ]
  },
  {
   "cell_type": "code",
   "execution_count": 3,
   "id": "1c3f18f9",
   "metadata": {},
   "outputs": [],
   "source": [
    "index_to_word = {index:word for word, index in word_to_index.items()}"
   ]
  },
  {
   "cell_type": "code",
   "execution_count": 4,
   "id": "90393631",
   "metadata": {},
   "outputs": [],
   "source": [
    "# 문장 1개를 활용할 딕셔너리와 함께 주면, 단어 인덱스 리스트 벡터로 변환해 주는 함수입니다. \n",
    "# 단, 모든 문장은 <BOS>로 시작하는 것으로 합니다. \n",
    "def get_encoded_sentence(sentence, word_to_index):\n",
    "    return [word_to_index['<BOS>']]+[word_to_index[word] if word in word_to_index else word_to_index['<UNK>'] for word in sentence.split()]\n",
    "\n",
    "# 여러 개의 문장 리스트를 한꺼번에 단어 인덱스 리스트 벡터로 encode해 주는 함수입니다. \n",
    "def get_encoded_sentences(sentences, word_to_index):\n",
    "    return [get_encoded_sentence(sentence, word_to_index) for sentence in sentences]\n",
    "\n",
    "# 숫자 벡터로 encode된 문장을 원래대로 decode하는 함수입니다. \n",
    "def get_decoded_sentence(encoded_sentence, index_to_word):\n",
    "    return ' '.join(index_to_word[index] if index in index_to_word else '<UNK>' for index in encoded_sentence[1:])  #[1:]를 통해 <BOS>를 제외\n",
    "\n",
    "# 여러 개의 숫자 벡터로 encode된 문장을 한꺼번에 원래대로 decode하는 함수입니다. \n",
    "def get_decoded_sentences(encoded_sentences, index_to_word):\n",
    "    return [get_decoded_sentence(encoded_sentence, index_to_word) for encoded_sentence in encoded_sentences]"
   ]
  },
  {
   "cell_type": "markdown",
   "id": "14e4c1ee",
   "metadata": {},
   "source": [
    "# 3) 모델 구성을 위한 데이터 분석 및 가공\n",
    "- [x] 데이터셋 내 문장 길이 분포\n",
    "- [x] 적절한 최대 문장 길이 지정\n",
    "- [x] keras.preprocessing.sequence.pad_sequences 활용한 패딩 추가"
   ]
  },
  {
   "cell_type": "code",
   "execution_count": 5,
   "id": "596bde53",
   "metadata": {},
   "outputs": [
    {
     "name": "stdout",
     "output_type": "stream",
     "text": [
      "문장길이 평균 :  15.96940191154864\n",
      "문장길이 최대 :  116\n",
      "문장길이 표준편차 :  12.843571191092\n",
      "pad_sequences maxlen :  41\n",
      "전체 문장의 0.9342988343341575%가 maxlen 설정값 이내에 포함됩니다. \n"
     ]
    }
   ],
   "source": [
    "total_data_text = list(X_train) + list(X_test)\n",
    "# 텍스트데이터 문장길이의 리스트를 생성한 후\n",
    "num_tokens = [len(tokens) for tokens in total_data_text]\n",
    "num_tokens = np.array(num_tokens)\n",
    "# 문장길이의 평균값, 최대값, 표준편차를 계산해 본다. \n",
    "print('문장길이 평균 : ', np.mean(num_tokens))\n",
    "print('문장길이 최대 : ', np.max(num_tokens))\n",
    "print('문장길이 표준편차 : ', np.std(num_tokens))\n",
    "\n",
    "# 예를들어, 최대 길이를 (평균 + 2*표준편차)로 한다면,  \n",
    "max_tokens = np.mean(num_tokens) + 2 * np.std(num_tokens)\n",
    "maxlen = int(max_tokens)\n",
    "print('pad_sequences maxlen : ', maxlen)\n",
    "print(f'전체 문장의 {np.sum(num_tokens < max_tokens) / len(num_tokens)}%가 maxlen 설정값 이내에 포함됩니다. ')"
   ]
  },
  {
   "cell_type": "code",
   "execution_count": 6,
   "id": "5f3e2a06",
   "metadata": {},
   "outputs": [
    {
     "name": "stdout",
     "output_type": "stream",
     "text": [
      "(146182, 41)\n"
     ]
    }
   ],
   "source": [
    "import tensorflow as tf\n",
    "\n",
    "X_train = tf.keras.preprocessing.sequence.pad_sequences(X_train,\n",
    "                                                        value=word_to_index[\"<PAD>\"],\n",
    "                                                        padding='pre', # 혹은 'post'\n",
    "                                                        maxlen=maxlen)\n",
    "\n",
    "X_test = tf.keras.preprocessing.sequence.pad_sequences(X_test,\n",
    "                                                       value=word_to_index[\"<PAD>\"],\n",
    "                                                       padding='pre', # 혹은 'post'\n",
    "                                                       maxlen=maxlen)\n",
    "\n",
    "print(X_train.shape)"
   ]
  },
  {
   "cell_type": "markdown",
   "id": "801d510c",
   "metadata": {},
   "source": [
    "# 4) 모델 구성 및 validation set 구성\n",
    "- [x] 3가지 이상 모델"
   ]
  },
  {
   "cell_type": "code",
   "execution_count": 7,
   "id": "edb4a9ea",
   "metadata": {},
   "outputs": [
    {
     "name": "stdout",
     "output_type": "stream",
     "text": [
      "29236\n",
      "(116946, 41)\n",
      "(116946,)\n"
     ]
    }
   ],
   "source": [
    "train_len = int(X_train.shape[0] * 0.2)\n",
    "print(train_len)\n",
    "\n",
    "# validation set 분리\n",
    "X_val = X_train[:train_len]\n",
    "y_val = y_train[:train_len]\n",
    "\n",
    "# validation set을 제외한 \n",
    "partial_X_train = X_train[train_len:]  \n",
    "partial_y_train = y_train[train_len:]\n",
    "\n",
    "print(partial_X_train.shape)\n",
    "print(partial_y_train.shape)"
   ]
  },
  {
   "cell_type": "code",
   "execution_count": 8,
   "id": "1aa304fa",
   "metadata": {},
   "outputs": [],
   "source": [
    "vocab_size = 10000\n",
    "word_vector_dim = 100"
   ]
  },
  {
   "cell_type": "markdown",
   "id": "d7c92522",
   "metadata": {},
   "source": [
    "## LSTM"
   ]
  },
  {
   "cell_type": "code",
   "execution_count": 9,
   "id": "fe1ecf98",
   "metadata": {
    "scrolled": true
   },
   "outputs": [
    {
     "name": "stdout",
     "output_type": "stream",
     "text": [
      "Model: \"sequential\"\n",
      "_________________________________________________________________\n",
      "Layer (type)                 Output Shape              Param #   \n",
      "=================================================================\n",
      "embedding (Embedding)        (None, None, 100)         1000000   \n",
      "_________________________________________________________________\n",
      "lstm (LSTM)                  (None, 8)                 3488      \n",
      "_________________________________________________________________\n",
      "dense (Dense)                (None, 8)                 72        \n",
      "_________________________________________________________________\n",
      "dense_1 (Dense)              (None, 1)                 9         \n",
      "=================================================================\n",
      "Total params: 1,003,569\n",
      "Trainable params: 1,003,569\n",
      "Non-trainable params: 0\n",
      "_________________________________________________________________\n"
     ]
    }
   ],
   "source": [
    "rnn_model = tf.keras.Sequential()\n",
    "rnn_model.add(tf.keras.layers.Embedding(vocab_size, word_vector_dim, input_shape=(None,)))\n",
    "rnn_model.add(tf.keras.layers.LSTM(8))   # 가장 널리 쓰이는 RNN인 LSTM 레이어를 사용하였습니다. 이때 LSTM state 벡터의 차원수는 8로 하였습니다. (변경 가능)\n",
    "rnn_model.add(tf.keras.layers.Dense(8, activation='relu'))\n",
    "rnn_model.add(tf.keras.layers.Dense(1, activation='sigmoid'))  # 최종 출력은 긍정/부정을 나타내는 1dim 입니다.\n",
    "\n",
    "rnn_model.summary()"
   ]
  },
  {
   "cell_type": "markdown",
   "id": "696e538f",
   "metadata": {},
   "source": [
    "## CNN"
   ]
  },
  {
   "cell_type": "code",
   "execution_count": 10,
   "id": "1aa43e38",
   "metadata": {
    "scrolled": false
   },
   "outputs": [
    {
     "name": "stdout",
     "output_type": "stream",
     "text": [
      "Model: \"sequential_1\"\n",
      "_________________________________________________________________\n",
      "Layer (type)                 Output Shape              Param #   \n",
      "=================================================================\n",
      "embedding_1 (Embedding)      (None, None, 100)         1000000   \n",
      "_________________________________________________________________\n",
      "conv1d (Conv1D)              (None, None, 16)          11216     \n",
      "_________________________________________________________________\n",
      "max_pooling1d (MaxPooling1D) (None, None, 16)          0         \n",
      "_________________________________________________________________\n",
      "conv1d_1 (Conv1D)            (None, None, 16)          1808      \n",
      "_________________________________________________________________\n",
      "global_max_pooling1d (Global (None, 16)                0         \n",
      "_________________________________________________________________\n",
      "dense_2 (Dense)              (None, 8)                 136       \n",
      "_________________________________________________________________\n",
      "dense_3 (Dense)              (None, 1)                 9         \n",
      "=================================================================\n",
      "Total params: 1,013,169\n",
      "Trainable params: 1,013,169\n",
      "Non-trainable params: 0\n",
      "_________________________________________________________________\n"
     ]
    }
   ],
   "source": [
    "cnn_model = tf.keras.Sequential()\n",
    "cnn_model.add(tf.keras.layers.Embedding(vocab_size, word_vector_dim, input_shape=(None,)))\n",
    "cnn_model.add(tf.keras.layers.Conv1D(16, 7, activation='relu'))\n",
    "cnn_model.add(tf.keras.layers.MaxPooling1D(5))\n",
    "cnn_model.add(tf.keras.layers.Conv1D(16, 7, activation='relu'))\n",
    "cnn_model.add(tf.keras.layers.GlobalMaxPooling1D())\n",
    "cnn_model.add(tf.keras.layers.Dense(8, activation='relu'))\n",
    "cnn_model.add(tf.keras.layers.Dense(1, activation='sigmoid'))  # 최종 출력은 긍정/부정을 나타내는 1dim 입니다.\n",
    "\n",
    "cnn_model.summary()"
   ]
  },
  {
   "cell_type": "markdown",
   "id": "23be3290",
   "metadata": {},
   "source": [
    "## globalMaxPooling"
   ]
  },
  {
   "cell_type": "code",
   "execution_count": 11,
   "id": "a20b356b",
   "metadata": {},
   "outputs": [
    {
     "name": "stdout",
     "output_type": "stream",
     "text": [
      "Model: \"sequential_2\"\n",
      "_________________________________________________________________\n",
      "Layer (type)                 Output Shape              Param #   \n",
      "=================================================================\n",
      "embedding_2 (Embedding)      (None, None, 100)         1000000   \n",
      "_________________________________________________________________\n",
      "global_max_pooling1d_1 (Glob (None, 100)               0         \n",
      "_________________________________________________________________\n",
      "dense_4 (Dense)              (None, 8)                 808       \n",
      "_________________________________________________________________\n",
      "dense_5 (Dense)              (None, 1)                 9         \n",
      "=================================================================\n",
      "Total params: 1,000,817\n",
      "Trainable params: 1,000,817\n",
      "Non-trainable params: 0\n",
      "_________________________________________________________________\n"
     ]
    }
   ],
   "source": [
    "maxpooling_model = tf.keras.Sequential()\n",
    "maxpooling_model.add(tf.keras.layers.Embedding(vocab_size, word_vector_dim, input_shape=(None,)))\n",
    "maxpooling_model.add(tf.keras.layers.GlobalMaxPooling1D())\n",
    "maxpooling_model.add(tf.keras.layers.Dense(8, activation='relu'))\n",
    "maxpooling_model.add(tf.keras.layers.Dense(1, activation='sigmoid'))  # 최종 출력은 긍정/부정을 나타내는 1dim 입니다.\n",
    "\n",
    "maxpooling_model.summary()"
   ]
  },
  {
   "cell_type": "markdown",
   "id": "3c9a1467",
   "metadata": {},
   "source": [
    "## Transformer"
   ]
  },
  {
   "cell_type": "code",
   "execution_count": 12,
   "id": "26635735",
   "metadata": {
    "scrolled": true
   },
   "outputs": [],
   "source": [
    "# 일단 프로젝트부터 제출하고 나중에 작성하자"
   ]
  },
  {
   "cell_type": "markdown",
   "id": "e629af54",
   "metadata": {},
   "source": [
    "# 5) 모델 훈련 개시"
   ]
  },
  {
   "cell_type": "markdown",
   "id": "f080f56a",
   "metadata": {},
   "source": [
    "## LSTM"
   ]
  },
  {
   "cell_type": "code",
   "execution_count": 13,
   "id": "3a6e527e",
   "metadata": {},
   "outputs": [
    {
     "name": "stdout",
     "output_type": "stream",
     "text": [
      "Epoch 1/20\n",
      "229/229 [==============================] - 5s 8ms/step - loss: 0.4930 - accuracy: 0.7859 - val_loss: 0.3646 - val_accuracy: 0.8464\n",
      "Epoch 2/20\n",
      "229/229 [==============================] - 1s 6ms/step - loss: 0.3334 - accuracy: 0.8602 - val_loss: 0.3421 - val_accuracy: 0.8521\n",
      "Epoch 3/20\n",
      "229/229 [==============================] - 1s 6ms/step - loss: 0.2993 - accuracy: 0.8758 - val_loss: 0.3378 - val_accuracy: 0.8544\n",
      "Epoch 4/20\n",
      "229/229 [==============================] - 1s 6ms/step - loss: 0.2740 - accuracy: 0.8871 - val_loss: 0.3427 - val_accuracy: 0.8562\n",
      "Epoch 5/20\n",
      "229/229 [==============================] - 1s 6ms/step - loss: 0.2523 - accuracy: 0.8978 - val_loss: 0.3463 - val_accuracy: 0.8552\n",
      "Epoch 6/20\n",
      "229/229 [==============================] - 1s 6ms/step - loss: 0.2314 - accuracy: 0.9076 - val_loss: 0.3583 - val_accuracy: 0.8536\n"
     ]
    }
   ],
   "source": [
    "from tensorflow.keras.callbacks import EarlyStopping\n",
    "\n",
    "# 얼리 스탑핑 콜백 생성\n",
    "early_stopping = EarlyStopping(monitor='val_loss',  # 모니터할 지표 설정 (검증 손실)\n",
    "                               patience=3,         # 성능이 개선되지 않더라도 기다릴 epoch 수\n",
    "                               restore_best_weights=True)  # 최적의 가중치로 복원할지 여부\n",
    "\n",
    "rnn_model.compile(optimizer='adam',\n",
    "                  loss='binary_crossentropy',\n",
    "                  metrics=['accuracy'])\n",
    "              \n",
    "epochs=20  # 몇 epoch를 훈련하면 좋을지 결과를 보면서 바꾸어 봅시다. \n",
    "\n",
    "history = rnn_model.fit(partial_X_train,\n",
    "                        partial_y_train,\n",
    "                        epochs=epochs,\n",
    "                        batch_size=512,\n",
    "                        validation_data=(X_val, y_val),\n",
    "                        callbacks=[early_stopping],  # 얼리 스탑핑 콜백 추가\n",
    "                        verbose=1)"
   ]
  },
  {
   "cell_type": "code",
   "execution_count": 14,
   "id": "1ce20ad3",
   "metadata": {},
   "outputs": [
    {
     "name": "stdout",
     "output_type": "stream",
     "text": [
      "1537/1537 - 3s - loss: 0.3470 - accuracy: 0.8490\n",
      "[0.3470018208026886, 0.848953366279602]\n"
     ]
    }
   ],
   "source": [
    "results = rnn_model.evaluate(X_test,  y_test, verbose=2)\n",
    "\n",
    "print(results)"
   ]
  },
  {
   "cell_type": "markdown",
   "id": "65013c69",
   "metadata": {},
   "source": [
    "## CNN"
   ]
  },
  {
   "cell_type": "code",
   "execution_count": 15,
   "id": "e974017c",
   "metadata": {},
   "outputs": [
    {
     "name": "stdout",
     "output_type": "stream",
     "text": [
      "Epoch 1/20\n",
      "229/229 [==============================] - 3s 6ms/step - loss: 0.4696 - accuracy: 0.7694 - val_loss: 0.3466 - val_accuracy: 0.8483\n",
      "Epoch 2/20\n",
      "229/229 [==============================] - 1s 5ms/step - loss: 0.3139 - accuracy: 0.8675 - val_loss: 0.3298 - val_accuracy: 0.8573\n",
      "Epoch 3/20\n",
      "229/229 [==============================] - 1s 5ms/step - loss: 0.2677 - accuracy: 0.8904 - val_loss: 0.3296 - val_accuracy: 0.8606\n",
      "Epoch 4/20\n",
      "229/229 [==============================] - 1s 5ms/step - loss: 0.2181 - accuracy: 0.9156 - val_loss: 0.3500 - val_accuracy: 0.8561\n",
      "Epoch 5/20\n",
      "229/229 [==============================] - 1s 5ms/step - loss: 0.1619 - accuracy: 0.9412 - val_loss: 0.3909 - val_accuracy: 0.8512\n",
      "Epoch 6/20\n",
      "229/229 [==============================] - 1s 5ms/step - loss: 0.1104 - accuracy: 0.9628 - val_loss: 0.4535 - val_accuracy: 0.8481\n"
     ]
    }
   ],
   "source": [
    "# 얼리 스탑핑 콜백 생성\n",
    "early_stopping = EarlyStopping(monitor='val_loss',  # 모니터할 지표 설정 (검증 손실)\n",
    "                               patience=3,         # 성능이 개선되지 않더라도 기다릴 epoch 수\n",
    "                               restore_best_weights=True)  # 최적의 가중치로 복원할지 여부\n",
    "\n",
    "cnn_model.compile(optimizer='adam',\n",
    "                  loss='binary_crossentropy',\n",
    "                  metrics=['accuracy'])\n",
    "              \n",
    "epochs=20  # 몇 epoch를 훈련하면 좋을지 결과를 보면서 바꾸어 봅시다. \n",
    "\n",
    "cnn_history = cnn_model.fit(partial_X_train,\n",
    "                            partial_y_train,\n",
    "                            epochs=epochs,\n",
    "                            batch_size=512,\n",
    "                            validation_data=(X_val, y_val),\n",
    "                            callbacks=[early_stopping],  # 얼리 스탑핑 콜백 추가\n",
    "                            verbose=1)"
   ]
  },
  {
   "cell_type": "code",
   "execution_count": 16,
   "id": "24ab719a",
   "metadata": {},
   "outputs": [
    {
     "name": "stdout",
     "output_type": "stream",
     "text": [
      "1537/1537 - 3s - loss: 0.3437 - accuracy: 0.8545\n",
      "[0.3437303304672241, 0.8544866442680359]\n"
     ]
    }
   ],
   "source": [
    "results = cnn_model.evaluate(X_test,  y_test, verbose=2)\n",
    "\n",
    "print(results)"
   ]
  },
  {
   "cell_type": "markdown",
   "id": "811796cb",
   "metadata": {},
   "source": [
    "## globalMaxPooling"
   ]
  },
  {
   "cell_type": "code",
   "execution_count": 17,
   "id": "8e9f41b1",
   "metadata": {},
   "outputs": [
    {
     "name": "stdout",
     "output_type": "stream",
     "text": [
      "Epoch 1/20\n",
      "229/229 [==============================] - 1s 5ms/step - loss: 0.5034 - accuracy: 0.7996 - val_loss: 0.3598 - val_accuracy: 0.8416\n",
      "Epoch 2/20\n",
      "229/229 [==============================] - 1s 4ms/step - loss: 0.3287 - accuracy: 0.8604 - val_loss: 0.3372 - val_accuracy: 0.8515\n",
      "Epoch 3/20\n",
      "229/229 [==============================] - 1s 4ms/step - loss: 0.2832 - accuracy: 0.8835 - val_loss: 0.3375 - val_accuracy: 0.8546\n",
      "Epoch 4/20\n",
      "229/229 [==============================] - 1s 4ms/step - loss: 0.2485 - accuracy: 0.9011 - val_loss: 0.3455 - val_accuracy: 0.8547\n",
      "Epoch 5/20\n",
      "229/229 [==============================] - 1s 4ms/step - loss: 0.2173 - accuracy: 0.9163 - val_loss: 0.3606 - val_accuracy: 0.8534\n"
     ]
    }
   ],
   "source": [
    "# 얼리 스탑핑 콜백 생성\n",
    "early_stopping = EarlyStopping(monitor='val_loss',  # 모니터할 지표 설정 (검증 손실)\n",
    "                               patience=3,         # 성능이 개선되지 않더라도 기다릴 epoch 수\n",
    "                               restore_best_weights=True)  # 최적의 가중치로 복원할지 여부\n",
    "\n",
    "maxpooling_model.compile(optimizer='adam',\n",
    "                         loss='binary_crossentropy',\n",
    "                         metrics=['accuracy'])\n",
    "              \n",
    "epochs=20  # 몇 epoch를 훈련하면 좋을지 결과를 보면서 바꾸어 봅시다. \n",
    "\n",
    "history = maxpooling_model.fit(partial_X_train,\n",
    "                               partial_y_train,\n",
    "                               epochs=epochs,\n",
    "                               batch_size=512,\n",
    "                               validation_data=(X_val, y_val),\n",
    "                               callbacks=[early_stopping],  # 얼리 스탑핑 콜백 추가\n",
    "                               verbose=1)"
   ]
  },
  {
   "cell_type": "code",
   "execution_count": 18,
   "id": "99bdc4f0",
   "metadata": {},
   "outputs": [
    {
     "name": "stdout",
     "output_type": "stream",
     "text": [
      "1537/1537 - 2s - loss: 0.3476 - accuracy: 0.8480\n",
      "[0.3475850522518158, 0.8480378985404968]\n"
     ]
    }
   ],
   "source": [
    "results = maxpooling_model.evaluate(X_test, y_test, verbose=2)\n",
    "\n",
    "print(results)"
   ]
  },
  {
   "cell_type": "markdown",
   "id": "d786e513",
   "metadata": {},
   "source": [
    "## Transformer"
   ]
  },
  {
   "cell_type": "code",
   "execution_count": 19,
   "id": "e506fe3a",
   "metadata": {
    "scrolled": true
   },
   "outputs": [],
   "source": [
    "# 일단 프로젝트부터 제출하고 나중에 작성하자"
   ]
  },
  {
   "cell_type": "markdown",
   "id": "2aaec435",
   "metadata": {},
   "source": [
    "# 6) Loss, Accuracy 그래프 시각화\n",
    "가장 성능이 좋은 cnn_model에 대해서만 진행."
   ]
  },
  {
   "cell_type": "code",
   "execution_count": 20,
   "id": "c35c307e",
   "metadata": {},
   "outputs": [
    {
     "data": {
      "image/png": "[encoded data removed]",
      "text/plain": [
       "<Figure size 432x288 with 1 Axes>"
      ]
     },
     "metadata": {
      "needs_background": "light"
     },
     "output_type": "display_data"
    },
    {
     "data": {
      "image/png": "[encoded data removed]",
      "text/plain": [
       "<Figure size 432x288 with 1 Axes>"
      ]
     },
     "metadata": {
      "needs_background": "light"
     },
     "output_type": "display_data"
    }
   ],
   "source": [
    "import matplotlib.pyplot as plt\n",
    "\n",
    "history_dict = cnn_history.history\n",
    "acc = history_dict['accuracy']\n",
    "val_acc = history_dict['val_accuracy']\n",
    "loss = history_dict['loss']\n",
    "val_loss = history_dict['val_loss']\n",
    "\n",
    "epochs = range(1, len(acc) + 1)\n",
    "\n",
    "# \"bo\"는 \"파란색 점\"입니다\n",
    "plt.plot(epochs, loss, 'bo', label='Training loss')\n",
    "# b는 \"파란 실선\"입니다\n",
    "plt.plot(epochs, val_loss, 'b', label='Validation loss')\n",
    "plt.title('Training and validation loss')\n",
    "plt.xlabel('Epochs')\n",
    "plt.ylabel('Loss')\n",
    "plt.legend()\n",
    "\n",
    "plt.show()\n",
    "\n",
    "plt.clf()   # 그림을 초기화합니다\n",
    "\n",
    "plt.plot(epochs, acc, 'bo', label='Training acc')\n",
    "plt.plot(epochs, val_acc, 'b', label='Validation acc')\n",
    "plt.title('Training and validation accuracy')\n",
    "plt.xlabel('Epochs')\n",
    "plt.ylabel('Accuracy')\n",
    "plt.legend()\n",
    "\n",
    "plt.show()"
   ]
  },
  {
   "cell_type": "markdown",
   "id": "9a0eed98",
   "metadata": {},
   "source": [
    "# 7) 학습된 Embedding 레이어 분석"
   ]
  },
  {
   "cell_type": "code",
   "execution_count": 21,
   "id": "77270f37",
   "metadata": {
    "scrolled": true
   },
   "outputs": [
    {
     "name": "stdout",
     "output_type": "stream",
     "text": [
      "(10000, 100)\n"
     ]
    }
   ],
   "source": [
    "embedding_layer = cnn_model.layers[0]\n",
    "weights = embedding_layer.get_weights()[0]\n",
    "print(weights.shape)"
   ]
  },
  {
   "cell_type": "code",
   "execution_count": 22,
   "id": "18313d12",
   "metadata": {},
   "outputs": [],
   "source": [
    "import os\n",
    "\n",
    "# 학습한 Embedding 파라미터를 파일에 써서 저장합니다. \n",
    "word2vec_file_path = os.getenv('HOME')+'/aiffel/sentiment_classification/data/word2vec.txt'\n",
    "f = open(word2vec_file_path, 'w')\n",
    "f.write('{} {}\\n'.format(vocab_size-4, word_vector_dim))  # 몇개의 벡터를 얼마 사이즈로 기재할지 타이틀을 씁니다.\n",
    "\n",
    "# 단어 개수(에서 특수문자 4개는 제외하고)만큼의 워드 벡터를 파일에 기록합니다. \n",
    "vectors = cnn_model.get_weights()[0]\n",
    "for i in range(4,vocab_size):\n",
    "    f.write('{} {}\\n'.format(index_to_word[i], ' '.join(map(str, list(vectors[i, :])))))\n",
    "f.close()"
   ]
  },
  {
   "cell_type": "code",
   "execution_count": 23,
   "id": "6c8ef635",
   "metadata": {},
   "outputs": [
    {
     "data": {
      "text/plain": [
       "array([ 0.02626232, -0.03950468,  0.00939648,  0.06164891, -0.03509895,\n",
       "       -0.06295256, -0.05085923,  0.01619131,  0.05957789,  0.0255749 ,\n",
       "        0.059303  , -0.00419919, -0.03934383, -0.06209003,  0.00353901,\n",
       "        0.0197657 , -0.05457802, -0.00507609, -0.03478932, -0.0124198 ,\n",
       "        0.02686845, -0.05159886, -0.05047621, -0.07202128, -0.02108471,\n",
       "       -0.04009546,  0.05650522,  0.02304755, -0.01785423, -0.04533763,\n",
       "        0.02638518, -0.02995886,  0.03013302, -0.09389636, -0.0130142 ,\n",
       "        0.01778838,  0.05514788, -0.0329087 , -0.03465988, -0.00101185,\n",
       "        0.08075269, -0.03256844, -0.0433308 ,  0.05483233,  0.05076853,\n",
       "        0.03054587,  0.05299909,  0.03554324,  0.07013498, -0.01134818,\n",
       "        0.05779673,  0.03696076, -0.06125243, -0.04968997,  0.01268024,\n",
       "        0.03215992,  0.0025589 , -0.02044596,  0.02396721, -0.00262887,\n",
       "        0.05712419,  0.049075  ,  0.02737638, -0.01594786, -0.03852091,\n",
       "       -0.06793676, -0.0262545 , -0.01933274,  0.06825554,  0.01522185,\n",
       "        0.0575267 , -0.00059046, -0.06876647,  0.02452989, -0.04103281,\n",
       "       -0.05646074,  0.01051653, -0.00175254,  0.08984661, -0.01841002,\n",
       "       -0.03261403,  0.00083031,  0.02003686, -0.01789127,  0.03498201,\n",
       "       -0.01592475,  0.06524295,  0.00331409, -0.00413889,  0.00189885,\n",
       "        0.03044199, -0.02965483, -0.04393386, -0.01585759, -0.07756291,\n",
       "       -0.03585282, -0.01152094, -0.04219056, -0.03824556, -0.03592246],\n",
       "      dtype=float32)"
      ]
     },
     "execution_count": 23,
     "metadata": {},
     "output_type": "execute_result"
    }
   ],
   "source": [
    "from gensim.models.keyedvectors import Word2VecKeyedVectors\n",
    "\n",
    "word_vectors = Word2VecKeyedVectors.load_word2vec_format(word2vec_file_path, binary=False)\n",
    "vector = word_vectors['영화']\n",
    "vector"
   ]
  },
  {
   "cell_type": "code",
   "execution_count": 24,
   "id": "9d2fdcad",
   "metadata": {},
   "outputs": [
    {
     "data": {
      "text/plain": [
       "[('네요', 0.4436160624027252),\n",
       " ('하이틴', 0.44052302837371826),\n",
       " ('어요', 0.4321979582309723),\n",
       " ('B', 0.39571475982666016),\n",
       " ('데이', 0.3774283528327942),\n",
       " ('담겨', 0.37695813179016113),\n",
       " ('므로', 0.374747633934021),\n",
       " ('달까', 0.3739006519317627),\n",
       " ('요', 0.3696781396865845),\n",
       " ('이뻐서', 0.36833685636520386)]"
      ]
     },
     "execution_count": 24,
     "metadata": {},
     "output_type": "execute_result"
    }
   ],
   "source": [
    "word_vectors.similar_by_word(\"영화\")"
   ]
  },
  {
   "cell_type": "code",
   "execution_count": 25,
   "id": "bb84220c",
   "metadata": {},
   "outputs": [
    {
     "name": "stdout",
     "output_type": "stream",
     "text": [
      "(10000, 100)\n"
     ]
    }
   ],
   "source": [
    "embedding_layer = cnn_model.layers[0]\n",
    "weights = embedding_layer.get_weights()[0]\n",
    "print(weights.shape)    # shape: (vocab_size, embedding_dim)"
   ]
  },
  {
   "cell_type": "code",
   "execution_count": 26,
   "id": "cb9f9d18",
   "metadata": {},
   "outputs": [
    {
     "data": {
      "text/plain": [
       "100"
      ]
     },
     "execution_count": 26,
     "metadata": {},
     "output_type": "execute_result"
    }
   ],
   "source": [
    "word2vec_path = '/aiffel/aiffel/sentiment_classification/data/word2vec_ko.model'\n",
    "word_vectors = Word2VecKeyedVectors.load(word2vec_path)\n",
    "vector = word_vectors.wv['영화']\n",
    "len(vector)"
   ]
  },
  {
   "cell_type": "code",
   "execution_count": 27,
   "id": "3f09c4f3",
   "metadata": {
    "scrolled": false
   },
   "outputs": [
    {
     "data": {
      "text/plain": [
       "[('드라마', 0.8418774008750916),\n",
       " ('뮤지컬', 0.7775140404701233),\n",
       " ('코미디', 0.7489107251167297),\n",
       " ('다큐멘터리', 0.7401294708251953),\n",
       " ('헐리우드', 0.7397844195365906),\n",
       " ('애니메이션', 0.7170552015304565),\n",
       " ('독립영화', 0.7113528251647949),\n",
       " ('로맨틱', 0.7107657194137573),\n",
       " ('장편', 0.7101576924324036),\n",
       " ('극영화', 0.7045413255691528)]"
      ]
     },
     "execution_count": 27,
     "metadata": {},
     "output_type": "execute_result"
    }
   ],
   "source": [
    "# 메모리를 다소 많이 소비하는 작업이니 유의해 주세요.\n",
    "word_vectors.wv.similar_by_word(\"영화\")"
   ]
  },
  {
   "cell_type": "markdown",
   "id": "45bba035",
   "metadata": {},
   "source": [
    "직접 학습한 embedding_layer와 비교했을 때 좀 더 비슷한 토큰이 더 많이 나옴. 직접 학습한 모델에서 데이터가 부족해서 발생하는 현상같음.<br>\n",
    "유사도도 보면 0.5가 넘지 않음."
   ]
  },
  {
   "cell_type": "markdown",
   "id": "84eef2b7",
   "metadata": {},
   "source": [
    "# 8) 한국어 Word2Vec 임베딩 활용하여 성능 개선\n",
    "- word2vec_ko.model 활용\n",
    "- load() 형태로 모둘 불러오기. .wv 붙여서 활용.\n",
    "- [ ] 자체학습한 임베딩과 사전학습 임베딩 비교 분석\n",
    "- [ ] 네이버 영화리뷰 데이터 감성분석 정확도 85%"
   ]
  },
  {
   "cell_type": "code",
   "execution_count": 28,
   "id": "9adcd21d",
   "metadata": {},
   "outputs": [
    {
     "name": "stdout",
     "output_type": "stream",
     "text": [
      "Model: \"sequential_3\"\n",
      "_________________________________________________________________\n",
      "Layer (type)                 Output Shape              Param #   \n",
      "=================================================================\n",
      "embedding_3 (Embedding)      (None, 41, 100)           1000000   \n",
      "_________________________________________________________________\n",
      "conv1d_2 (Conv1D)            (None, 35, 16)            11216     \n",
      "_________________________________________________________________\n",
      "max_pooling1d_1 (MaxPooling1 (None, 7, 16)             0         \n",
      "_________________________________________________________________\n",
      "conv1d_3 (Conv1D)            (None, 1, 16)             1808      \n",
      "_________________________________________________________________\n",
      "global_max_pooling1d_2 (Glob (None, 16)                0         \n",
      "_________________________________________________________________\n",
      "dense_6 (Dense)              (None, 8)                 136       \n",
      "_________________________________________________________________\n",
      "dense_7 (Dense)              (None, 1)                 9         \n",
      "=================================================================\n",
      "Total params: 1,013,169\n",
      "Trainable params: 1,013,169\n",
      "Non-trainable params: 0\n",
      "_________________________________________________________________\n"
     ]
    }
   ],
   "source": [
    "from tensorflow.keras.initializers import Constant\n",
    "\n",
    "vocab_size = 10000\n",
    "word_vector_dim = 100\n",
    "embedding_matrix = np.random.rand(vocab_size, word_vector_dim)\n",
    "\n",
    "# embedding_matrix에 Word2Vec 워드 벡터를 단어 하나씩마다 차례차례 카피한다.\n",
    "for i in range(4,vocab_size):\n",
    "    if index_to_word[i] in word_vectors.wv:\n",
    "        embedding_matrix[i] = word_vectors.wv[index_to_word[i]]\n",
    "\n",
    "cnn_model = tf.keras.Sequential()\n",
    "cnn_model.add(tf.keras.layers.Embedding(vocab_size, \n",
    "                                        word_vector_dim, \n",
    "                                        embeddings_initializer=Constant(embedding_matrix),  # 카피한 임베딩을 여기서 활용\n",
    "                                        input_length=maxlen, \n",
    "                                        trainable=True))   # trainable을 True로 주면 Fine-tuning\n",
    "cnn_model.add(tf.keras.layers.Conv1D(16, 7, activation='relu'))\n",
    "cnn_model.add(tf.keras.layers.MaxPooling1D(5))\n",
    "cnn_model.add(tf.keras.layers.Conv1D(16, 7, activation='relu'))\n",
    "cnn_model.add(tf.keras.layers.GlobalMaxPooling1D())\n",
    "cnn_model.add(tf.keras.layers.Dense(8, activation='relu'))\n",
    "cnn_model.add(tf.keras.layers.Dense(1, activation='sigmoid'))  # 최종 출력은 긍정/부정을 나타내는 1dim 입니다.\n",
    "\n",
    "cnn_model.summary()"
   ]
  },
  {
   "cell_type": "code",
   "execution_count": 29,
   "id": "a719b61e",
   "metadata": {},
   "outputs": [
    {
     "name": "stdout",
     "output_type": "stream",
     "text": [
      "Epoch 1/20\n",
      "229/229 [==============================] - 2s 6ms/step - loss: 0.5966 - accuracy: 0.6630 - val_loss: 0.5139 - val_accuracy: 0.7500\n",
      "Epoch 2/20\n",
      "229/229 [==============================] - 1s 5ms/step - loss: 0.4604 - accuracy: 0.7848 - val_loss: 0.4377 - val_accuracy: 0.7997\n",
      "Epoch 3/20\n",
      "229/229 [==============================] - 1s 5ms/step - loss: 0.3984 - accuracy: 0.8219 - val_loss: 0.4023 - val_accuracy: 0.8212\n",
      "Epoch 4/20\n",
      "229/229 [==============================] - 1s 5ms/step - loss: 0.3587 - accuracy: 0.8436 - val_loss: 0.3766 - val_accuracy: 0.8356\n",
      "Epoch 5/20\n",
      "229/229 [==============================] - 1s 5ms/step - loss: 0.3319 - accuracy: 0.8573 - val_loss: 0.3685 - val_accuracy: 0.8391\n",
      "Epoch 6/20\n",
      "229/229 [==============================] - 1s 5ms/step - loss: 0.3106 - accuracy: 0.8682 - val_loss: 0.3704 - val_accuracy: 0.8410\n",
      "Epoch 7/20\n",
      "229/229 [==============================] - 1s 5ms/step - loss: 0.2916 - accuracy: 0.8780 - val_loss: 0.3607 - val_accuracy: 0.8442\n",
      "Epoch 8/20\n",
      "229/229 [==============================] - 1s 5ms/step - loss: 0.2769 - accuracy: 0.8859 - val_loss: 0.3663 - val_accuracy: 0.8457\n",
      "Epoch 9/20\n",
      "229/229 [==============================] - 1s 5ms/step - loss: 0.2649 - accuracy: 0.8922 - val_loss: 0.3724 - val_accuracy: 0.8451\n",
      "Epoch 10/20\n",
      "229/229 [==============================] - 1s 5ms/step - loss: 0.2530 - accuracy: 0.8982 - val_loss: 0.3687 - val_accuracy: 0.8430\n"
     ]
    }
   ],
   "source": [
    "# 얼리 스탑핑 콜백 생성\n",
    "early_stopping = EarlyStopping(monitor='val_loss',  # 모니터할 지표 설정 (검증 손실)\n",
    "                               patience=3,         # 성능이 개선되지 않더라도 기다릴 epoch 수\n",
    "                               restore_best_weights=True)  # 최적의 가중치로 복원할지 여부\n",
    "\n",
    "cnn_model.compile(optimizer='adam',\n",
    "                  loss='binary_crossentropy',\n",
    "                  metrics=['accuracy'])\n",
    "              \n",
    "epochs=20  # 몇 epoch를 훈련하면 좋을지 결과를 보면서 바꾸어 봅시다. \n",
    "\n",
    "cnn_history = cnn_model.fit(partial_X_train,\n",
    "                            partial_y_train,\n",
    "                            epochs=epochs,\n",
    "                            batch_size=512,\n",
    "                            validation_data=(X_val, y_val),\n",
    "                            callbacks=[early_stopping],  # 얼리 스탑핑 콜백 추가\n",
    "                            verbose=1)"
   ]
  },
  {
   "cell_type": "code",
   "execution_count": 30,
   "id": "119330b6",
   "metadata": {
    "scrolled": true
   },
   "outputs": [
    {
     "name": "stdout",
     "output_type": "stream",
     "text": [
      "1537/1537 - 3s - loss: 0.3677 - accuracy: 0.8411\n",
      "[0.3677394986152649, 0.8410806059837341]\n"
     ]
    }
   ],
   "source": [
    "results = cnn_model.evaluate(X_test, y_test, verbose=2)\n",
    "\n",
    "print(results)"
   ]
  },
  {
   "cell_type": "markdown",
   "id": "73e77980",
   "metadata": {},
   "source": [
    "직접 학습한 embedding_layer를 사용했을 때보다 정확도가 0.01 정도 작음. 기존 모델의 embedding이 naver 영화 리뷰 데이터의 특징을 더 잘 잡아냈을 수 있음."
   ]
  },
  {
   "cell_type": "markdown",
   "id": "90abf4aa",
   "metadata": {},
   "source": [
    "## 모델 튜닝"
   ]
  },
  {
   "cell_type": "code",
   "execution_count": 37,
   "id": "9cf4329e",
   "metadata": {},
   "outputs": [],
   "source": [
    "from tensorflow import keras\n",
    "from tensorflow.keras import layers\n",
    "import kerastuner as kt\n",
    "from tensorflow.keras.regularizers import l2  # l2 임포트 추가\n",
    "\n",
    "class SimpleMLP(kt.HyperModel):\n",
    "\n",
    "    def build(self, hp):\n",
    "        model = keras.Sequential([\n",
    "            layers.Embedding(vocab_size, \n",
    "                             word_vector_dim, \n",
    "                             embeddings_initializer=Constant(embedding_matrix),\n",
    "                             input_length=maxlen, trainable=True),\n",
    "            layers.Conv1D(\n",
    "                filters=hp.Int('conv1_filters', min_value=16, max_value=128, step=16),\n",
    "                kernel_size=7,\n",
    "                activation='relu',\n",
    "                kernel_regularizer=l2(hp.Choice('l2_conv1', values=[0.01, 0.001, 0.0001]))\n",
    "            ),\n",
    "            layers.MaxPooling1D(5),\n",
    "            layers.Dropout(hp.Float('dropout1', 0, 0.5, step=0.1)),\n",
    "            layers.Conv1D(\n",
    "                filters=hp.Int('conv2_filters', min_value=16, max_value=128, step=16),\n",
    "                kernel_size=7,\n",
    "                activation='relu',\n",
    "                kernel_regularizer=l2(hp.Choice('l2_conv2', values=[0.01, 0.001, 0.0001]))\n",
    "            ),\n",
    "            layers.GlobalMaxPooling1D(),\n",
    "            layers.Dense(\n",
    "                units=hp.Int('dense_units', min_value=16, max_value=128, step=16),\n",
    "                activation='relu',\n",
    "                kernel_regularizer=l2(hp.Choice('l2_dense', values=[0.01, 0.001, 0.0001]))\n",
    "            ),\n",
    "            layers.Dropout(hp.Float('dropout2', 0, 0.5, step=0.1)),\n",
    "            layers.Dense(1, activation='sigmoid')\n",
    "        ])\n",
    "        optimizer = hp.Choice(name=\"optimizer\", values=[\"adam\"])\n",
    "        model.compile(optimizer = optimizer,\n",
    "                     loss = 'binary_crossentropy',\n",
    "                     metrics = ['accuracy'])\n",
    "        return model\n",
    "\n",
    "hypermodel = SimpleMLP()"
   ]
  },
  {
   "cell_type": "code",
   "execution_count": 38,
   "id": "5086d795",
   "metadata": {},
   "outputs": [],
   "source": [
    "tuner = kt.BayesianOptimization(\n",
    "    hypermodel,\n",
    "    objective=\"val_accuracy\",\n",
    "    max_trials=10,\n",
    "    executions_per_trial=2,\n",
    "    directory=\"mnist_kt_test\",\n",
    "    overwrite=True,\n",
    ")"
   ]
  },
  {
   "cell_type": "code",
   "execution_count": 39,
   "id": "8d874bcf",
   "metadata": {},
   "outputs": [
    {
     "name": "stdout",
     "output_type": "stream",
     "text": [
      "Search space summary\n",
      "Default search space size: 9\n",
      "conv1_filters (Int)\n",
      "{'default': None, 'conditions': [], 'min_value': 16, 'max_value': 128, 'step': 16, 'sampling': 'linear'}\n",
      "l2_conv1 (Choice)\n",
      "{'default': 0.01, 'conditions': [], 'values': [0.01, 0.001, 0.0001], 'ordered': True}\n",
      "dropout1 (Float)\n",
      "{'default': 0.0, 'conditions': [], 'min_value': 0.0, 'max_value': 0.5, 'step': 0.1, 'sampling': 'linear'}\n",
      "conv2_filters (Int)\n",
      "{'default': None, 'conditions': [], 'min_value': 16, 'max_value': 128, 'step': 16, 'sampling': 'linear'}\n",
      "l2_conv2 (Choice)\n",
      "{'default': 0.01, 'conditions': [], 'values': [0.01, 0.001, 0.0001], 'ordered': True}\n",
      "dense_units (Int)\n",
      "{'default': None, 'conditions': [], 'min_value': 16, 'max_value': 128, 'step': 16, 'sampling': 'linear'}\n",
      "l2_dense (Choice)\n",
      "{'default': 0.01, 'conditions': [], 'values': [0.01, 0.001, 0.0001], 'ordered': True}\n",
      "dropout2 (Float)\n",
      "{'default': 0.0, 'conditions': [], 'min_value': 0.0, 'max_value': 0.5, 'step': 0.1, 'sampling': 'linear'}\n",
      "optimizer (Choice)\n",
      "{'default': 'adam', 'conditions': [], 'values': ['adam'], 'ordered': False}\n"
     ]
    }
   ],
   "source": [
    "tuner.search_space_summary()"
   ]
  },
  {
   "cell_type": "code",
   "execution_count": 40,
   "id": "9c873a52",
   "metadata": {
    "scrolled": false
   },
   "outputs": [
    {
     "name": "stdout",
     "output_type": "stream",
     "text": [
      "Trial 10 Complete [00h 00m 55s]\n",
      "val_accuracy: 0.8563928008079529\n",
      "\n",
      "Best val_accuracy So Far: 0.8610445857048035\n",
      "Total elapsed time: 00h 10m 35s\n"
     ]
    }
   ],
   "source": [
    "callbacks = [\n",
    "    keras.callbacks.EarlyStopping(monitor=\"val_accuracy\", patience=5),\n",
    "]\n",
    "tuner.search(\n",
    "    partial_X_train,\n",
    "    partial_y_train,\n",
    "    batch_size=512,\n",
    "    epochs=100,\n",
    "    validation_data=(X_val, y_val),\n",
    "    callbacks=callbacks,\n",
    "    verbose=2,\n",
    ")"
   ]
  },
  {
   "cell_type": "code",
   "execution_count": 41,
   "id": "540e47e2",
   "metadata": {},
   "outputs": [],
   "source": [
    "top_n = 1\n",
    "best_hps = tuner.get_best_hyperparameters(top_n)"
   ]
  },
  {
   "cell_type": "code",
   "execution_count": 42,
   "id": "b5e69838",
   "metadata": {
    "scrolled": true
   },
   "outputs": [],
   "source": [
    "best_model = tuner.get_best_models(top_n)[0]"
   ]
  },
  {
   "cell_type": "code",
   "execution_count": 43,
   "id": "98f2f4c7",
   "metadata": {
    "scrolled": true
   },
   "outputs": [],
   "source": [
    "model_save_path = 'best_model.h5'\n",
    "best_model.save(model_save_path)"
   ]
  },
  {
   "cell_type": "code",
   "execution_count": 44,
   "id": "972e6d64",
   "metadata": {},
   "outputs": [
    {
     "name": "stdout",
     "output_type": "stream",
     "text": [
      "WARNING:tensorflow:Error in loading the saved optimizer state. As a result, your model is starting with a freshly initialized optimizer.\n",
      "WARNING:tensorflow:Unresolved object in checkpoint: (root).optimizer.iter\n",
      "WARNING:tensorflow:Unresolved object in checkpoint: (root).optimizer.beta_1\n",
      "WARNING:tensorflow:Unresolved object in checkpoint: (root).optimizer.beta_2\n",
      "WARNING:tensorflow:Unresolved object in checkpoint: (root).optimizer.decay\n",
      "WARNING:tensorflow:Unresolved object in checkpoint: (root).optimizer.learning_rate\n",
      "WARNING:tensorflow:A checkpoint was restored (e.g. tf.train.Checkpoint.restore or tf.keras.Model.load_weights) but not all checkpointed values were used. See above for specific issues. Use expect_partial() on the load status object, e.g. tf.train.Checkpoint.restore(...).expect_partial(), to silence these warnings, or use assert_consumed() to make the check explicit. See https://www.tensorflow.org/guide/checkpoint#loading_mechanics for details.\n",
      "Epoch 1/20\n",
      "229/229 [==============================] - 2s 8ms/step - loss: 0.2901 - accuracy: 0.9019 - val_loss: 0.3768 - val_accuracy: 0.8611\n",
      "Epoch 2/20\n",
      "229/229 [==============================] - 2s 7ms/step - loss: 0.2845 - accuracy: 0.9042 - val_loss: 0.3870 - val_accuracy: 0.8591\n",
      "Epoch 3/20\n",
      "229/229 [==============================] - 2s 7ms/step - loss: 0.2813 - accuracy: 0.9058 - val_loss: 0.3849 - val_accuracy: 0.8596\n",
      "Epoch 4/20\n",
      "229/229 [==============================] - 2s 7ms/step - loss: 0.2796 - accuracy: 0.9057 - val_loss: 0.3967 - val_accuracy: 0.8593\n"
     ]
    },
    {
     "data": {
      "text/plain": [
       "<keras.callbacks.History at 0x796c6d3cf7c0>"
      ]
     },
     "execution_count": 44,
     "metadata": {},
     "output_type": "execute_result"
    }
   ],
   "source": [
    "model_save_path = 'best_model.h5'\n",
    "best_model = tf.keras.models.load_model(model_save_path)\n",
    "\n",
    "best_model.fit(partial_X_train,\n",
    "               partial_y_train,\n",
    "               epochs=epochs,\n",
    "               batch_size=512,\n",
    "               validation_data=(X_val, y_val),\n",
    "               callbacks=[early_stopping],  # 얼리 스탑핑 콜백 추가\n",
    "               verbose=1)"
   ]
  },
  {
   "cell_type": "code",
   "execution_count": 45,
   "id": "3af82f35",
   "metadata": {},
   "outputs": [
    {
     "name": "stdout",
     "output_type": "stream",
     "text": [
      "1537/1537 - 3s - loss: 0.3862 - accuracy: 0.8577\n",
      "[0.38620850443840027, 0.857660174369812]\n"
     ]
    }
   ],
   "source": [
    "results = best_model.evaluate(X_test, y_test, verbose=2)\n",
    "\n",
    "print(results)"
   ]
  },
  {
   "cell_type": "markdown",
   "id": "ef1bd048",
   "metadata": {},
   "source": [
    "# 회고\n",
    "tuner.search를 저장하지 않은게 아쉬움. 생각보다 시간이 많이 들었음.<br>"
   ]
  },
  {
   "cell_type": "code",
   "execution_count": null,
   "id": "85ab6c02",
   "metadata": {},
   "outputs": [],
   "source": []
  }
 ],
 "metadata": {
  "kernelspec": {
   "display_name": "Python 3 (ipykernel)",
   "language": "python",
   "name": "python3"
  },
  "language_info": {
   "codemirror_mode": {
    "name": "ipython",
    "version": 3
   },
   "file_extension": ".py",
   "mimetype": "text/x-python",
   "name": "python",
   "nbconvert_exporter": "python",
   "pygments_lexer": "ipython3",
   "version": "3.9.7"
  }
 },
 "nbformat": 4,
 "nbformat_minor": 5
}
