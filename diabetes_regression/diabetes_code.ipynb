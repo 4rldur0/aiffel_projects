{
 "cells": [
  {
   "cell_type": "markdown",
   "id": "2dab6586",
   "metadata": {},
   "source": [
    "# 2-1. 프로젝트 1: 손수 설계하는 선형회귀, 당뇨병 수치를 맞춰보자!"
   ]
  },
  {
   "cell_type": "code",
   "execution_count": 1,
   "id": "5578ee3f",
   "metadata": {},
   "outputs": [],
   "source": [
    "from sklearn.datasets import load_diabetes\n",
    "from sklearn.model_selection import train_test_split\n",
    "import numpy as np\n",
    "import matplotlib.pyplot as plt"
   ]
  },
  {
   "cell_type": "markdown",
   "id": "7e5039ee",
   "metadata": {},
   "source": [
    "## (1) 데이터 가져오기"
   ]
  },
  {
   "cell_type": "code",
   "execution_count": 2,
   "id": "794713ca",
   "metadata": {},
   "outputs": [
    {
     "name": "stdout",
     "output_type": "stream",
     "text": [
      "(442, 10)\n",
      "(442,)\n",
      "[[ 0.03807591  0.05068012  0.06169621  0.02187235 -0.0442235  -0.03482076\n",
      "  -0.04340085 -0.00259226  0.01990842 -0.01764613]\n",
      " [-0.00188202 -0.04464164 -0.05147406 -0.02632783 -0.00844872 -0.01916334\n",
      "   0.07441156 -0.03949338 -0.06832974 -0.09220405]\n",
      " [ 0.08529891  0.05068012  0.04445121 -0.00567061 -0.04559945 -0.03419447\n",
      "  -0.03235593 -0.00259226  0.00286377 -0.02593034]\n",
      " [-0.08906294 -0.04464164 -0.01159501 -0.03665645  0.01219057  0.02499059\n",
      "  -0.03603757  0.03430886  0.02269202 -0.00936191]\n",
      " [ 0.00538306 -0.04464164 -0.03638469  0.02187235  0.00393485  0.01559614\n",
      "   0.00814208 -0.00259226 -0.03199144 -0.04664087]]\n",
      "[151.  75. 141. 206. 135.]\n"
     ]
    }
   ],
   "source": [
    "diabetes = load_diabetes()\n",
    "df_X = diabetes.data\n",
    "df_y = diabetes.target\n",
    "print(df_X.shape)\n",
    "print(df_y.shape)\n",
    "print(df_X[:5])\n",
    "print(df_y[:5])"
   ]
  },
  {
   "cell_type": "markdown",
   "id": "e019ed57",
   "metadata": {},
   "source": [
    "## (2) 모델에 입력할 데이터 X 준비하기"
   ]
  },
  {
   "cell_type": "code",
   "execution_count": 3,
   "id": "5a6b9a57",
   "metadata": {},
   "outputs": [
    {
     "name": "stdout",
     "output_type": "stream",
     "text": [
      "float64 <class 'numpy.ndarray'>\n"
     ]
    }
   ],
   "source": [
    "print(df_X.dtype, type(df_X))"
   ]
  },
  {
   "cell_type": "markdown",
   "id": "0ca6b4d3",
   "metadata": {},
   "source": [
    "## (3) 모델에 예측할 데이터 y 준비하기"
   ]
  },
  {
   "cell_type": "code",
   "execution_count": 4,
   "id": "8ad92672",
   "metadata": {},
   "outputs": [
    {
     "name": "stdout",
     "output_type": "stream",
     "text": [
      "float64 <class 'numpy.ndarray'>\n"
     ]
    }
   ],
   "source": [
    "print(df_y.dtype, type(df_y))"
   ]
  },
  {
   "cell_type": "markdown",
   "id": "d9cb3661",
   "metadata": {},
   "source": [
    "## (4) train 데이터와 test 데이터로 분리하기"
   ]
  },
  {
   "cell_type": "code",
   "execution_count": 5,
   "id": "1010f074",
   "metadata": {},
   "outputs": [
    {
     "name": "stdout",
     "output_type": "stream",
     "text": [
      "train:\t (331, 10) (331,)\n",
      "test:\t (111, 10) (111,)\n"
     ]
    }
   ],
   "source": [
    "X_train, X_test, y_train, y_test = train_test_split(df_X, df_y)\n",
    "print('train:\\t', X_train.shape, y_train.shape)\n",
    "print('test:\\t', X_test.shape, y_test.shape)"
   ]
  },
  {
   "cell_type": "markdown",
   "id": "0fbc9b26",
   "metadata": {},
   "source": [
    "## (5) 모델 준비하기"
   ]
  },
  {
   "cell_type": "code",
   "execution_count": 6,
   "id": "75d89a2e",
   "metadata": {},
   "outputs": [
    {
     "name": "stdout",
     "output_type": "stream",
     "text": [
      "[0.6788842  0.97700713 0.77819279 0.87608789 0.65725747 0.93657197\n",
      " 0.56886242 0.75338864 0.03377981 0.7261503 ] 0.7586803594198713\n"
     ]
    }
   ],
   "source": [
    "W = np.random.rand(10)\n",
    "b = np.random.rand()\n",
    "print(W, b)"
   ]
  },
  {
   "cell_type": "code",
   "execution_count": 7,
   "id": "ce587514",
   "metadata": {},
   "outputs": [],
   "source": [
    "def model(X, W, b):\n",
    "    pred = 0\n",
    "    for i in range(10):\n",
    "        pred += X[:, i] * W[i]\n",
    "    pred += b\n",
    "    return pred"
   ]
  },
  {
   "cell_type": "markdown",
   "id": "f3a5ce50",
   "metadata": {},
   "source": [
    "## (6) 손실함수 loss 정의하기"
   ]
  },
  {
   "cell_type": "code",
   "execution_count": 8,
   "id": "66aa096d",
   "metadata": {},
   "outputs": [],
   "source": [
    "def MSE(y_true, y_pred):\n",
    "    error = y_true - y_pred\n",
    "    mse = (error ** 2).mean()\n",
    "    return mse\n",
    "\n",
    "def loss(X, W, b, y):\n",
    "    pred = model(X, W, b)\n",
    "    L = MSE(y, pred)\n",
    "    return L"
   ]
  },
  {
   "cell_type": "markdown",
   "id": "c24c1310",
   "metadata": {},
   "source": [
    "## (7) 기울기를 구하는 gradient 함수 구현하기"
   ]
  },
  {
   "cell_type": "code",
   "execution_count": 9,
   "id": "7a905ba5",
   "metadata": {},
   "outputs": [],
   "source": [
    "def gradient(X, W, b, y):\n",
    "    N = len(y)\n",
    "    y_pred = model(X, W, b)\n",
    "    \n",
    "    dW = 1 / N * 2 * X.T.dot(y_pred - y)\n",
    "    \n",
    "    db = 1 / N * 2 * (y_pred - y).mean()\n",
    "    \n",
    "    return dW, db"
   ]
  },
  {
   "cell_type": "markdown",
   "id": "59689c5e",
   "metadata": {},
   "source": [
    "## (8) 하이퍼 파라미터인 학습률 설정하기"
   ]
  },
  {
   "cell_type": "code",
   "execution_count": 10,
   "id": "99b9c170",
   "metadata": {},
   "outputs": [],
   "source": [
    "lr = 1"
   ]
  },
  {
   "cell_type": "markdown",
   "id": "ead4fd12",
   "metadata": {},
   "source": [
    "## (9) 모델 학습하기"
   ]
  },
  {
   "cell_type": "code",
   "execution_count": 11,
   "id": "55326f8f",
   "metadata": {},
   "outputs": [],
   "source": [
    "# lr 바꿔서 다시 돌려보고 싶을 때 가중치 초기화\n",
    "# W = np.random.rand(10)\n",
    "# b = np.random.rand()\n",
    "# print(W, b)"
   ]
  },
  {
   "cell_type": "code",
   "execution_count": 12,
   "id": "e73fdc33",
   "metadata": {
    "scrolled": true
   },
   "outputs": [
    {
     "name": "stdout",
     "output_type": "stream",
     "text": [
      "Iteration 10 : Loss 25763.8662\n",
      "Iteration 20 : Loss 23034.4323\n",
      "Iteration 30 : Loss 20664.8476\n",
      "Iteration 40 : Loss 18598.1769\n",
      "Iteration 50 : Loss 16788.9824\n",
      "Iteration 60 : Loss 15200.4505\n",
      "Iteration 70 : Loss 13802.3326\n",
      "Iteration 80 : Loss 12569.4566\n",
      "Iteration 90 : Loss 11480.6382\n",
      "Iteration 100 : Loss 10517.8755\n",
      "Iteration 110 : Loss 9665.7448\n",
      "Iteration 120 : Loss 8910.9403\n",
      "Iteration 130 : Loss 8241.9188\n",
      "Iteration 140 : Loss 7648.6200\n",
      "Iteration 150 : Loss 7122.2434\n",
      "Iteration 160 : Loss 6655.0682\n",
      "Iteration 170 : Loss 6240.3041\n",
      "Iteration 180 : Loss 5871.9685\n",
      "Iteration 190 : Loss 5544.7820\n",
      "Iteration 200 : Loss 5254.0808\n",
      "Iteration 210 : Loss 4995.7405\n",
      "Iteration 220 : Loss 4766.1115\n",
      "Iteration 230 : Loss 4561.9618\n",
      "Iteration 240 : Loss 4380.4284\n",
      "Iteration 250 : Loss 4218.9736\n",
      "Iteration 260 : Loss 4075.3480\n",
      "Iteration 270 : Loss 3947.5565\n",
      "Iteration 280 : Loss 3833.8297\n",
      "Iteration 290 : Loss 3732.5976\n",
      "Iteration 300 : Loss 3642.4674\n",
      "Iteration 310 : Loss 3562.2028\n",
      "Iteration 320 : Loss 3490.7067\n",
      "Iteration 330 : Loss 3427.0050\n",
      "Iteration 340 : Loss 3370.2330\n",
      "Iteration 350 : Loss 3319.6229\n",
      "Iteration 360 : Loss 3274.4928\n",
      "Iteration 370 : Loss 3234.2373\n",
      "Iteration 380 : Loss 3198.3185\n",
      "Iteration 390 : Loss 3166.2585\n",
      "Iteration 400 : Loss 3137.6329\n",
      "Iteration 410 : Loss 3112.0644\n",
      "Iteration 420 : Loss 3089.2179\n",
      "Iteration 430 : Loss 3068.7954\n",
      "Iteration 440 : Loss 3050.5321\n",
      "Iteration 450 : Loss 3034.1926\n",
      "Iteration 460 : Loss 3019.5675\n",
      "Iteration 470 : Loss 3006.4706\n",
      "Iteration 480 : Loss 2994.7364\n",
      "Iteration 490 : Loss 2984.2176\n",
      "Iteration 500 : Loss 2974.7830\n",
      "Iteration 510 : Loss 2966.3162\n",
      "Iteration 520 : Loss 2958.7131\n",
      "Iteration 530 : Loss 2951.8816\n",
      "Iteration 540 : Loss 2945.7391\n",
      "Iteration 550 : Loss 2940.2126\n",
      "Iteration 560 : Loss 2935.2366\n",
      "Iteration 570 : Loss 2930.7530\n",
      "Iteration 580 : Loss 2926.7100\n",
      "Iteration 590 : Loss 2923.0613\n",
      "Iteration 600 : Loss 2919.7658\n",
      "Iteration 610 : Loss 2916.7867\n",
      "Iteration 620 : Loss 2914.0912\n",
      "Iteration 630 : Loss 2911.6500\n",
      "Iteration 640 : Loss 2909.4371\n",
      "Iteration 650 : Loss 2907.4290\n",
      "Iteration 660 : Loss 2905.6050\n",
      "Iteration 670 : Loss 2903.9464\n",
      "Iteration 680 : Loss 2902.4365\n",
      "Iteration 690 : Loss 2901.0606\n",
      "Iteration 700 : Loss 2899.8052\n",
      "Iteration 710 : Loss 2898.6585\n",
      "Iteration 720 : Loss 2897.6098\n",
      "Iteration 730 : Loss 2896.6495\n",
      "Iteration 740 : Loss 2895.7690\n",
      "Iteration 750 : Loss 2894.9607\n",
      "Iteration 760 : Loss 2894.2177\n",
      "Iteration 770 : Loss 2893.5338\n",
      "Iteration 780 : Loss 2892.9034\n",
      "Iteration 790 : Loss 2892.3215\n",
      "Iteration 800 : Loss 2891.7837\n",
      "Iteration 810 : Loss 2891.2860\n",
      "Iteration 820 : Loss 2890.8246\n",
      "Iteration 830 : Loss 2890.3963\n",
      "Iteration 840 : Loss 2889.9982\n",
      "Iteration 850 : Loss 2889.6276\n",
      "Iteration 860 : Loss 2889.2822\n",
      "Iteration 870 : Loss 2888.9596\n",
      "Iteration 880 : Loss 2888.6581\n",
      "Iteration 890 : Loss 2888.3757\n",
      "Iteration 900 : Loss 2888.1110\n",
      "Iteration 910 : Loss 2887.8624\n",
      "Iteration 920 : Loss 2887.6287\n",
      "Iteration 930 : Loss 2887.4085\n",
      "Iteration 940 : Loss 2887.2010\n",
      "Iteration 950 : Loss 2887.0050\n",
      "Iteration 960 : Loss 2886.8197\n",
      "Iteration 970 : Loss 2886.6442\n",
      "Iteration 980 : Loss 2886.4778\n",
      "Iteration 990 : Loss 2886.3199\n",
      "Iteration 1000 : Loss 2886.1698\n",
      "Iteration 1010 : Loss 2886.0269\n",
      "Iteration 1020 : Loss 2885.8907\n",
      "Iteration 1030 : Loss 2885.7608\n",
      "Iteration 1040 : Loss 2885.6366\n",
      "Iteration 1050 : Loss 2885.5179\n",
      "Iteration 1060 : Loss 2885.4043\n",
      "Iteration 1070 : Loss 2885.2953\n",
      "Iteration 1080 : Loss 2885.1907\n",
      "Iteration 1090 : Loss 2885.0903\n",
      "Iteration 1100 : Loss 2884.9937\n",
      "Iteration 1110 : Loss 2884.9007\n",
      "Iteration 1120 : Loss 2884.8110\n",
      "Iteration 1130 : Loss 2884.7246\n",
      "Iteration 1140 : Loss 2884.6411\n",
      "Iteration 1150 : Loss 2884.5604\n",
      "Iteration 1160 : Loss 2884.4824\n",
      "Iteration 1170 : Loss 2884.4069\n",
      "Iteration 1180 : Loss 2884.3336\n",
      "Iteration 1190 : Loss 2884.2626\n",
      "Iteration 1200 : Loss 2884.1937\n",
      "Iteration 1210 : Loss 2884.1268\n",
      "Iteration 1220 : Loss 2884.0617\n",
      "Iteration 1230 : Loss 2883.9984\n",
      "Iteration 1240 : Loss 2883.9368\n",
      "Iteration 1250 : Loss 2883.8767\n",
      "Iteration 1260 : Loss 2883.8182\n",
      "Iteration 1270 : Loss 2883.7611\n",
      "Iteration 1280 : Loss 2883.7053\n",
      "Iteration 1290 : Loss 2883.6508\n",
      "Iteration 1300 : Loss 2883.5976\n",
      "Iteration 1310 : Loss 2883.5455\n",
      "Iteration 1320 : Loss 2883.4946\n",
      "Iteration 1330 : Loss 2883.4447\n",
      "Iteration 1340 : Loss 2883.3958\n",
      "Iteration 1350 : Loss 2883.3479\n",
      "Iteration 1360 : Loss 2883.3009\n",
      "Iteration 1370 : Loss 2883.2548\n",
      "Iteration 1380 : Loss 2883.2095\n",
      "Iteration 1390 : Loss 2883.1651\n",
      "Iteration 1400 : Loss 2883.1214\n",
      "Iteration 1410 : Loss 2883.0785\n",
      "Iteration 1420 : Loss 2883.0363\n",
      "Iteration 1430 : Loss 2882.9948\n",
      "Iteration 1440 : Loss 2882.9539\n",
      "Iteration 1450 : Loss 2882.9137\n",
      "Iteration 1460 : Loss 2882.8740\n",
      "Iteration 1470 : Loss 2882.8350\n",
      "Iteration 1480 : Loss 2882.7965\n",
      "Iteration 1490 : Loss 2882.7586\n",
      "Iteration 1500 : Loss 2882.7211\n",
      "Iteration 1510 : Loss 2882.6842\n",
      "Iteration 1520 : Loss 2882.6478\n",
      "Iteration 1530 : Loss 2882.6118\n",
      "Iteration 1540 : Loss 2882.5763\n",
      "Iteration 1550 : Loss 2882.5412\n",
      "Iteration 1560 : Loss 2882.5066\n",
      "Iteration 1570 : Loss 2882.4723\n",
      "Iteration 1580 : Loss 2882.4385\n",
      "Iteration 1590 : Loss 2882.4050\n",
      "Iteration 1600 : Loss 2882.3719\n",
      "Iteration 1610 : Loss 2882.3392\n",
      "Iteration 1620 : Loss 2882.3068\n",
      "Iteration 1630 : Loss 2882.2748\n",
      "Iteration 1640 : Loss 2882.2430\n",
      "Iteration 1650 : Loss 2882.2116\n",
      "Iteration 1660 : Loss 2882.1806\n",
      "Iteration 1670 : Loss 2882.1498\n",
      "Iteration 1680 : Loss 2882.1193\n",
      "Iteration 1690 : Loss 2882.0891\n",
      "Iteration 1700 : Loss 2882.0592\n",
      "Iteration 1710 : Loss 2882.0295\n",
      "Iteration 1720 : Loss 2882.0001\n",
      "Iteration 1730 : Loss 2881.9710\n",
      "Iteration 1740 : Loss 2881.9421\n",
      "Iteration 1750 : Loss 2881.9135\n",
      "Iteration 1760 : Loss 2881.8851\n",
      "Iteration 1770 : Loss 2881.8570\n",
      "Iteration 1780 : Loss 2881.8291\n",
      "Iteration 1790 : Loss 2881.8014\n",
      "Iteration 1800 : Loss 2881.7739\n",
      "Iteration 1810 : Loss 2881.7466\n",
      "Iteration 1820 : Loss 2881.7196\n",
      "Iteration 1830 : Loss 2881.6928\n",
      "Iteration 1840 : Loss 2881.6661\n",
      "Iteration 1850 : Loss 2881.6397\n",
      "Iteration 1860 : Loss 2881.6134\n",
      "Iteration 1870 : Loss 2881.5874\n",
      "Iteration 1880 : Loss 2881.5615\n",
      "Iteration 1890 : Loss 2881.5358\n",
      "Iteration 1900 : Loss 2881.5103\n",
      "Iteration 1910 : Loss 2881.4850\n",
      "Iteration 1920 : Loss 2881.4599\n",
      "Iteration 1930 : Loss 2881.4349\n",
      "Iteration 1940 : Loss 2881.4101\n",
      "Iteration 1950 : Loss 2881.3854\n",
      "Iteration 1960 : Loss 2881.3610\n",
      "Iteration 1970 : Loss 2881.3366\n",
      "Iteration 1980 : Loss 2881.3125\n",
      "Iteration 1990 : Loss 2881.2885\n",
      "Iteration 2000 : Loss 2881.2646\n",
      "Iteration 2010 : Loss 2881.2409\n",
      "Iteration 2020 : Loss 2881.2174\n",
      "Iteration 2030 : Loss 2881.1940\n",
      "Iteration 2040 : Loss 2881.1707\n",
      "Iteration 2050 : Loss 2881.1476\n",
      "Iteration 2060 : Loss 2881.1246\n",
      "Iteration 2070 : Loss 2881.1018\n",
      "Iteration 2080 : Loss 2881.0791\n",
      "Iteration 2090 : Loss 2881.0566\n",
      "Iteration 2100 : Loss 2881.0341\n",
      "Iteration 2110 : Loss 2881.0118\n",
      "Iteration 2120 : Loss 2880.9897\n",
      "Iteration 2130 : Loss 2880.9676\n",
      "Iteration 2140 : Loss 2880.9457\n",
      "Iteration 2150 : Loss 2880.9240\n",
      "Iteration 2160 : Loss 2880.9023\n",
      "Iteration 2170 : Loss 2880.8808\n",
      "Iteration 2180 : Loss 2880.8594\n",
      "Iteration 2190 : Loss 2880.8381\n",
      "Iteration 2200 : Loss 2880.8169\n",
      "Iteration 2210 : Loss 2880.7959\n",
      "Iteration 2220 : Loss 2880.7749\n",
      "Iteration 2230 : Loss 2880.7541\n",
      "Iteration 2240 : Loss 2880.7334\n",
      "Iteration 2250 : Loss 2880.7128\n",
      "Iteration 2260 : Loss 2880.6923\n",
      "Iteration 2270 : Loss 2880.6720\n",
      "Iteration 2280 : Loss 2880.6517\n",
      "Iteration 2290 : Loss 2880.6316\n",
      "Iteration 2300 : Loss 2880.6115\n",
      "Iteration 2310 : Loss 2880.5916\n",
      "Iteration 2320 : Loss 2880.5718\n",
      "Iteration 2330 : Loss 2880.5520\n",
      "Iteration 2340 : Loss 2880.5324\n",
      "Iteration 2350 : Loss 2880.5129\n",
      "Iteration 2360 : Loss 2880.4935\n",
      "Iteration 2370 : Loss 2880.4742\n",
      "Iteration 2380 : Loss 2880.4549\n",
      "Iteration 2390 : Loss 2880.4358\n",
      "Iteration 2400 : Loss 2880.4168\n",
      "Iteration 2410 : Loss 2880.3979\n",
      "Iteration 2420 : Loss 2880.3791\n",
      "Iteration 2430 : Loss 2880.3603\n",
      "Iteration 2440 : Loss 2880.3417\n",
      "Iteration 2450 : Loss 2880.3231\n",
      "Iteration 2460 : Loss 2880.3047\n",
      "Iteration 2470 : Loss 2880.2863\n",
      "Iteration 2480 : Loss 2880.2681\n",
      "Iteration 2490 : Loss 2880.2499\n",
      "Iteration 2500 : Loss 2880.2318\n",
      "Iteration 2510 : Loss 2880.2138\n",
      "Iteration 2520 : Loss 2880.1959\n",
      "Iteration 2530 : Loss 2880.1781\n",
      "Iteration 2540 : Loss 2880.1604\n",
      "Iteration 2550 : Loss 2880.1427\n",
      "Iteration 2560 : Loss 2880.1252\n",
      "Iteration 2570 : Loss 2880.1077\n",
      "Iteration 2580 : Loss 2880.0903\n",
      "Iteration 2590 : Loss 2880.0730\n",
      "Iteration 2600 : Loss 2880.0558\n",
      "Iteration 2610 : Loss 2880.0386\n",
      "Iteration 2620 : Loss 2880.0216\n",
      "Iteration 2630 : Loss 2880.0046\n",
      "Iteration 2640 : Loss 2879.9877\n",
      "Iteration 2650 : Loss 2879.9709\n",
      "Iteration 2660 : Loss 2879.9542\n",
      "Iteration 2670 : Loss 2879.9375\n",
      "Iteration 2680 : Loss 2879.9209\n",
      "Iteration 2690 : Loss 2879.9044\n",
      "Iteration 2700 : Loss 2879.8880\n",
      "Iteration 2710 : Loss 2879.8717\n",
      "Iteration 2720 : Loss 2879.8554\n",
      "Iteration 2730 : Loss 2879.8392\n",
      "Iteration 2740 : Loss 2879.8231\n",
      "Iteration 2750 : Loss 2879.8070\n",
      "Iteration 2760 : Loss 2879.7910\n",
      "Iteration 2770 : Loss 2879.7751\n",
      "Iteration 2780 : Loss 2879.7593\n",
      "Iteration 2790 : Loss 2879.7436\n",
      "Iteration 2800 : Loss 2879.7279\n",
      "Iteration 2810 : Loss 2879.7123\n",
      "Iteration 2820 : Loss 2879.6967\n",
      "Iteration 2830 : Loss 2879.6812\n",
      "Iteration 2840 : Loss 2879.6658\n",
      "Iteration 2850 : Loss 2879.6505\n",
      "Iteration 2860 : Loss 2879.6352\n",
      "Iteration 2870 : Loss 2879.6200\n",
      "Iteration 2880 : Loss 2879.6049\n",
      "Iteration 2890 : Loss 2879.5899\n",
      "Iteration 2900 : Loss 2879.5749\n",
      "Iteration 2910 : Loss 2879.5599\n",
      "Iteration 2920 : Loss 2879.5451\n",
      "Iteration 2930 : Loss 2879.5303\n",
      "Iteration 2940 : Loss 2879.5155\n",
      "Iteration 2950 : Loss 2879.5009\n",
      "Iteration 2960 : Loss 2879.4863\n",
      "Iteration 2970 : Loss 2879.4717\n",
      "Iteration 2980 : Loss 2879.4572\n",
      "Iteration 2990 : Loss 2879.4428\n",
      "Iteration 3000 : Loss 2879.4285\n",
      "Iteration 3010 : Loss 2879.4142\n",
      "Iteration 3020 : Loss 2879.3999\n",
      "Iteration 3030 : Loss 2879.3858\n",
      "Iteration 3040 : Loss 2879.3717\n",
      "Iteration 3050 : Loss 2879.3576\n",
      "Iteration 3060 : Loss 2879.3436\n",
      "Iteration 3070 : Loss 2879.3297\n",
      "Iteration 3080 : Loss 2879.3158\n",
      "Iteration 3090 : Loss 2879.3020\n",
      "Iteration 3100 : Loss 2879.2882\n",
      "Iteration 3110 : Loss 2879.2745\n",
      "Iteration 3120 : Loss 2879.2609\n",
      "Iteration 3130 : Loss 2879.2473\n",
      "Iteration 3140 : Loss 2879.2338\n",
      "Iteration 3150 : Loss 2879.2203\n",
      "Iteration 3160 : Loss 2879.2069\n",
      "Iteration 3170 : Loss 2879.1935\n",
      "Iteration 3180 : Loss 2879.1802\n",
      "Iteration 3190 : Loss 2879.1670\n",
      "Iteration 3200 : Loss 2879.1538\n",
      "Iteration 3210 : Loss 2879.1406\n",
      "Iteration 3220 : Loss 2879.1275\n",
      "Iteration 3230 : Loss 2879.1145\n",
      "Iteration 3240 : Loss 2879.1015\n"
     ]
    },
    {
     "name": "stdout",
     "output_type": "stream",
     "text": [
      "Iteration 3250 : Loss 2879.0886\n",
      "Iteration 3260 : Loss 2879.0757\n",
      "Iteration 3270 : Loss 2879.0629\n",
      "Iteration 3280 : Loss 2879.0501\n",
      "Iteration 3290 : Loss 2879.0374\n",
      "Iteration 3300 : Loss 2879.0247\n",
      "Iteration 3310 : Loss 2879.0121\n",
      "Iteration 3320 : Loss 2878.9995\n",
      "Iteration 3330 : Loss 2878.9870\n",
      "Iteration 3340 : Loss 2878.9745\n",
      "Iteration 3350 : Loss 2878.9620\n",
      "Iteration 3360 : Loss 2878.9497\n",
      "Iteration 3370 : Loss 2878.9373\n",
      "Iteration 3380 : Loss 2878.9250\n",
      "Iteration 3390 : Loss 2878.9128\n",
      "Iteration 3400 : Loss 2878.9006\n",
      "Iteration 3410 : Loss 2878.8885\n",
      "Iteration 3420 : Loss 2878.8764\n",
      "Iteration 3430 : Loss 2878.8643\n",
      "Iteration 3440 : Loss 2878.8523\n",
      "Iteration 3450 : Loss 2878.8404\n",
      "Iteration 3460 : Loss 2878.8284\n",
      "Iteration 3470 : Loss 2878.8166\n",
      "Iteration 3480 : Loss 2878.8048\n",
      "Iteration 3490 : Loss 2878.7930\n",
      "Iteration 3500 : Loss 2878.7812\n",
      "Iteration 3510 : Loss 2878.7696\n",
      "Iteration 3520 : Loss 2878.7579\n",
      "Iteration 3530 : Loss 2878.7463\n",
      "Iteration 3540 : Loss 2878.7347\n",
      "Iteration 3550 : Loss 2878.7232\n",
      "Iteration 3560 : Loss 2878.7117\n",
      "Iteration 3570 : Loss 2878.7003\n",
      "Iteration 3580 : Loss 2878.6889\n",
      "Iteration 3590 : Loss 2878.6776\n",
      "Iteration 3600 : Loss 2878.6663\n",
      "Iteration 3610 : Loss 2878.6550\n",
      "Iteration 3620 : Loss 2878.6438\n",
      "Iteration 3630 : Loss 2878.6326\n",
      "Iteration 3640 : Loss 2878.6214\n",
      "Iteration 3650 : Loss 2878.6103\n",
      "Iteration 3660 : Loss 2878.5993\n",
      "Iteration 3670 : Loss 2878.5882\n",
      "Iteration 3680 : Loss 2878.5773\n",
      "Iteration 3690 : Loss 2878.5663\n",
      "Iteration 3700 : Loss 2878.5554\n",
      "Iteration 3710 : Loss 2878.5445\n",
      "Iteration 3720 : Loss 2878.5337\n",
      "Iteration 3730 : Loss 2878.5229\n",
      "Iteration 3740 : Loss 2878.5121\n",
      "Iteration 3750 : Loss 2878.5014\n",
      "Iteration 3760 : Loss 2878.4907\n",
      "Iteration 3770 : Loss 2878.4801\n",
      "Iteration 3780 : Loss 2878.4695\n",
      "Iteration 3790 : Loss 2878.4589\n",
      "Iteration 3800 : Loss 2878.4484\n",
      "Iteration 3810 : Loss 2878.4379\n",
      "Iteration 3820 : Loss 2878.4274\n",
      "Iteration 3830 : Loss 2878.4170\n",
      "Iteration 3840 : Loss 2878.4066\n",
      "Iteration 3850 : Loss 2878.3962\n",
      "Iteration 3860 : Loss 2878.3859\n",
      "Iteration 3870 : Loss 2878.3756\n",
      "Iteration 3880 : Loss 2878.3654\n",
      "Iteration 3890 : Loss 2878.3552\n",
      "Iteration 3900 : Loss 2878.3450\n",
      "Iteration 3910 : Loss 2878.3348\n",
      "Iteration 3920 : Loss 2878.3247\n",
      "Iteration 3930 : Loss 2878.3146\n",
      "Iteration 3940 : Loss 2878.3046\n",
      "Iteration 3950 : Loss 2878.2946\n",
      "Iteration 3960 : Loss 2878.2846\n",
      "Iteration 3970 : Loss 2878.2746\n",
      "Iteration 3980 : Loss 2878.2647\n",
      "Iteration 3990 : Loss 2878.2548\n",
      "Iteration 4000 : Loss 2878.2449\n",
      "Iteration 4010 : Loss 2878.2351\n",
      "Iteration 4020 : Loss 2878.2253\n",
      "Iteration 4030 : Loss 2878.2156\n",
      "Iteration 4040 : Loss 2878.2058\n",
      "Iteration 4050 : Loss 2878.1961\n",
      "Iteration 4060 : Loss 2878.1865\n",
      "Iteration 4070 : Loss 2878.1768\n",
      "Iteration 4080 : Loss 2878.1672\n",
      "Iteration 4090 : Loss 2878.1576\n",
      "Iteration 4100 : Loss 2878.1481\n",
      "Iteration 4110 : Loss 2878.1386\n",
      "Iteration 4120 : Loss 2878.1291\n",
      "Iteration 4130 : Loss 2878.1196\n",
      "Iteration 4140 : Loss 2878.1102\n",
      "Iteration 4150 : Loss 2878.1008\n",
      "Iteration 4160 : Loss 2878.0914\n",
      "Iteration 4170 : Loss 2878.0821\n",
      "Iteration 4180 : Loss 2878.0728\n",
      "Iteration 4190 : Loss 2878.0635\n",
      "Iteration 4200 : Loss 2878.0542\n",
      "Iteration 4210 : Loss 2878.0450\n",
      "Iteration 4220 : Loss 2878.0358\n",
      "Iteration 4230 : Loss 2878.0266\n",
      "Iteration 4240 : Loss 2878.0174\n",
      "Iteration 4250 : Loss 2878.0083\n",
      "Iteration 4260 : Loss 2877.9992\n",
      "Iteration 4270 : Loss 2877.9902\n",
      "Iteration 4280 : Loss 2877.9811\n",
      "Iteration 4290 : Loss 2877.9721\n",
      "Iteration 4300 : Loss 2877.9631\n",
      "Iteration 4310 : Loss 2877.9542\n",
      "Iteration 4320 : Loss 2877.9452\n",
      "Iteration 4330 : Loss 2877.9363\n",
      "Iteration 4340 : Loss 2877.9274\n",
      "Iteration 4350 : Loss 2877.9186\n",
      "Iteration 4360 : Loss 2877.9097\n",
      "Iteration 4370 : Loss 2877.9009\n",
      "Iteration 4380 : Loss 2877.8921\n",
      "Iteration 4390 : Loss 2877.8834\n",
      "Iteration 4400 : Loss 2877.8746\n",
      "Iteration 4410 : Loss 2877.8659\n",
      "Iteration 4420 : Loss 2877.8572\n",
      "Iteration 4430 : Loss 2877.8486\n",
      "Iteration 4440 : Loss 2877.8399\n",
      "Iteration 4450 : Loss 2877.8313\n",
      "Iteration 4460 : Loss 2877.8227\n",
      "Iteration 4470 : Loss 2877.8142\n",
      "Iteration 4480 : Loss 2877.8056\n",
      "Iteration 4490 : Loss 2877.7971\n",
      "Iteration 4500 : Loss 2877.7886\n",
      "Iteration 4510 : Loss 2877.7802\n",
      "Iteration 4520 : Loss 2877.7717\n",
      "Iteration 4530 : Loss 2877.7633\n",
      "Iteration 4540 : Loss 2877.7549\n",
      "Iteration 4550 : Loss 2877.7465\n",
      "Iteration 4560 : Loss 2877.7381\n",
      "Iteration 4570 : Loss 2877.7298\n",
      "Iteration 4580 : Loss 2877.7215\n",
      "Iteration 4590 : Loss 2877.7132\n",
      "Iteration 4600 : Loss 2877.7049\n",
      "Iteration 4610 : Loss 2877.6967\n",
      "Iteration 4620 : Loss 2877.6885\n",
      "Iteration 4630 : Loss 2877.6803\n",
      "Iteration 4640 : Loss 2877.6721\n",
      "Iteration 4650 : Loss 2877.6639\n",
      "Iteration 4660 : Loss 2877.6558\n",
      "Iteration 4670 : Loss 2877.6476\n",
      "Iteration 4680 : Loss 2877.6395\n",
      "Iteration 4690 : Loss 2877.6315\n",
      "Iteration 4700 : Loss 2877.6234\n",
      "Iteration 4710 : Loss 2877.6154\n",
      "Iteration 4720 : Loss 2877.6074\n",
      "Iteration 4730 : Loss 2877.5994\n",
      "Iteration 4740 : Loss 2877.5914\n",
      "Iteration 4750 : Loss 2877.5834\n",
      "Iteration 4760 : Loss 2877.5755\n",
      "Iteration 4770 : Loss 2877.5676\n",
      "Iteration 4780 : Loss 2877.5597\n",
      "Iteration 4790 : Loss 2877.5518\n",
      "Iteration 4800 : Loss 2877.5439\n",
      "Iteration 4810 : Loss 2877.5361\n",
      "Iteration 4820 : Loss 2877.5283\n",
      "Iteration 4830 : Loss 2877.5205\n",
      "Iteration 4840 : Loss 2877.5127\n",
      "Iteration 4850 : Loss 2877.5049\n",
      "Iteration 4860 : Loss 2877.4972\n",
      "Iteration 4870 : Loss 2877.4895\n",
      "Iteration 4880 : Loss 2877.4818\n",
      "Iteration 4890 : Loss 2877.4741\n",
      "Iteration 4900 : Loss 2877.4664\n",
      "Iteration 4910 : Loss 2877.4587\n",
      "Iteration 4920 : Loss 2877.4511\n",
      "Iteration 4930 : Loss 2877.4435\n",
      "Iteration 4940 : Loss 2877.4359\n",
      "Iteration 4950 : Loss 2877.4283\n",
      "Iteration 4960 : Loss 2877.4208\n",
      "Iteration 4970 : Loss 2877.4132\n",
      "Iteration 4980 : Loss 2877.4057\n",
      "Iteration 4990 : Loss 2877.3982\n"
     ]
    }
   ],
   "source": [
    "losses = []\n",
    "for i in range(1, 5000):\n",
    "    dW, db = gradient(X_train, W, b, y_train)\n",
    "    W -= lr * dW\n",
    "    b -= lr * db\n",
    "    L = loss(X_train, W, b, y_train)\n",
    "    losses.append(L)\n",
    "    if i % 10 == 0:\n",
    "        print('Iteration %d : Loss %0.4f' % (i, L))"
   ]
  },
  {
   "cell_type": "code",
   "execution_count": 13,
   "id": "efacaadf",
   "metadata": {},
   "outputs": [
    {
     "name": "stdout",
     "output_type": "stream",
     "text": [
      "train_mse:  2877.3914237584913\n"
     ]
    }
   ],
   "source": [
    "print('train_mse: ', L)"
   ]
  },
  {
   "cell_type": "code",
   "execution_count": 14,
   "id": "cb9a35e2",
   "metadata": {
    "scrolled": true
   },
   "outputs": [
    {
     "data": {
      "image/png": "[encoded data removed]",
      "text/plain": [
       "<Figure size 432x288 with 1 Axes>"
      ]
     },
     "metadata": {
      "needs_background": "light"
     },
     "output_type": "display_data"
    }
   ],
   "source": [
    "plt.plot(losses)\n",
    "plt.show()"
   ]
  },
  {
   "cell_type": "markdown",
   "id": "e1f6352a",
   "metadata": {},
   "source": [
    "## (10) test 데이터에 대한 성능 확인하기"
   ]
  },
  {
   "cell_type": "code",
   "execution_count": 15,
   "id": "fd637e3b",
   "metadata": {},
   "outputs": [
    {
     "name": "stdout",
     "output_type": "stream",
     "text": [
      "pred_mse:  2943.2022664288556\n"
     ]
    }
   ],
   "source": [
    "y_pred = model(X_test, W, b)\n",
    "mse = loss(X_test, W, b, y_test)\n",
    "print('pred_mse: ', mse)"
   ]
  },
  {
   "cell_type": "markdown",
   "id": "948d6799",
   "metadata": {},
   "source": [
    "## (11) 정답 데이터와 예측한 데이터 시각화하기"
   ]
  },
  {
   "cell_type": "code",
   "execution_count": 16,
   "id": "e6433627",
   "metadata": {},
   "outputs": [
    {
     "data": {
      "image/png": "[encoded data removed]",
      "text/plain": [
       "<Figure size 432x288 with 1 Axes>"
      ]
     },
     "metadata": {
      "needs_background": "light"
     },
     "output_type": "display_data"
    },
    {
     "data": {
      "image/png": "[encoded data removed]",
      "text/plain": [
       "<Figure size 432x288 with 1 Axes>"
      ]
     },
     "metadata": {
      "needs_background": "light"
     },
     "output_type": "display_data"
    },
    {
     "data": {
      "image/png": "[encoded data removed]",
      "text/plain": [
       "<Figure size 432x288 with 1 Axes>"
      ]
     },
     "metadata": {
      "needs_background": "light"
     },
     "output_type": "display_data"
    },
    {
     "data": {
      "image/png": "[encoded data removed]",
      "text/plain": [
       "<Figure size 432x288 with 1 Axes>"
      ]
     },
     "metadata": {
      "needs_background": "light"
     },
     "output_type": "display_data"
    },
    {
     "data": {
      "image/png": "[encoded data removed]",
      "text/plain": [
       "<Figure size 432x288 with 1 Axes>"
      ]
     },
     "metadata": {
      "needs_background": "light"
     },
     "output_type": "display_data"
    },
    {
     "data": {
      "image/png": "[encoded data removed]",
      "text/plain": [
       "<Figure size 432x288 with 1 Axes>"
      ]
     },
     "metadata": {
      "needs_background": "light"
     },
     "output_type": "display_data"
    },
    {
     "data": {
      "image/png": "[encoded data removed]",
      "text/plain": [
       "<Figure size 432x288 with 1 Axes>"
      ]
     },
     "metadata": {
      "needs_background": "light"
     },
     "output_type": "display_data"
    },
    {
     "data": {
      "image/png": "[encoded data removed]",
      "text/plain": [
       "<Figure size 432x288 with 1 Axes>"
      ]
     },
     "metadata": {
      "needs_background": "light"
     },
     "output_type": "display_data"
    },
    {
     "data": {
      "image/png": "[encoded data removed]",
      "text/plain": [
       "<Figure size 432x288 with 1 Axes>"
      ]
     },
     "metadata": {
      "needs_background": "light"
     },
     "output_type": "display_data"
    },
    {
     "data": {
      "image/png": "[encoded data removed]",
      "text/plain": [
       "<Figure size 432x288 with 1 Axes>"
      ]
     },
     "metadata": {
      "needs_background": "light"
     },
     "output_type": "display_data"
    }
   ],
   "source": [
    "for i in range(10):\n",
    "    plt.scatter(X_test[:, i], y_test)\n",
    "    plt.scatter(X_test[:, i], y_pred)\n",
    "    plt.show()"
   ]
  }
 ],
 "metadata": {
  "kernelspec": {
   "display_name": "Python 3 (ipykernel)",
   "language": "python",
   "name": "python3"
  },
  "language_info": {
   "codemirror_mode": {
    "name": "ipython",
    "version": 3
   },
   "file_extension": ".py",
   "mimetype": "text/x-python",
   "name": "python",
   "nbconvert_exporter": "python",
   "pygments_lexer": "ipython3",
   "version": "3.9.7"
  }
 },
 "nbformat": 4,
 "nbformat_minor": 5
}
