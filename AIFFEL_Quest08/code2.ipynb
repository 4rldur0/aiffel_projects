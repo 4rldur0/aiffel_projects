{
 "cells": [
  {
   "cell_type": "code",
   "execution_count": 25,
   "metadata": {},
   "outputs": [],
   "source": [
    "import pandas as pd\n",
    "from sklearn.model_selection import train_test_split\n",
    "import random\n",
    "from konlpy.tag import Mecab\n",
    "import sentencepiece as spm\n",
    "import matplotlib.pyplot as plt\n",
    "import numpy as np\n",
    "import tensorflow as tf\n",
    "from tensorflow.keras.models import Sequential\n",
    "from tensorflow.keras.layers import Embedding, Conv1D, GlobalMaxPooling1D, Dense, LSTM\n",
    "from keras.callbacks import EarlyStopping\n",
    "from keras.preprocessing.sequence import pad_sequences"
   ]
  },
  {
   "cell_type": "markdown",
   "metadata": {},
   "source": [
    "# Step 4. 네이버 영화리뷰 감정 분석 문제에 SentencePiece 적용해 보기\n",
    "[네이버 영화리뷰 감정 분석 테스크](https://github.com/e9t/nsmc/)"
   ]
  },
  {
   "cell_type": "code",
   "execution_count": 2,
   "metadata": {},
   "outputs": [
    {
     "data": {
      "text/html": [
       "<div>\n",
       "<style scoped>\n",
       "    .dataframe tbody tr th:only-of-type {\n",
       "        vertical-align: middle;\n",
       "    }\n",
       "\n",
       "    .dataframe tbody tr th {\n",
       "        vertical-align: top;\n",
       "    }\n",
       "\n",
       "    .dataframe thead th {\n",
       "        text-align: right;\n",
       "    }\n",
       "</style>\n",
       "<table border=\"1\" class=\"dataframe\">\n",
       "  <thead>\n",
       "    <tr style=\"text-align: right;\">\n",
       "      <th></th>\n",
       "      <th>document</th>\n",
       "      <th>label</th>\n",
       "    </tr>\n",
       "  </thead>\n",
       "  <tbody>\n",
       "    <tr>\n",
       "      <th>0</th>\n",
       "      <td>네이버는 왜 0점이 안되지???영화같지도않아서 일본배우밖에 출연안한다든 ?</td>\n",
       "      <td>0</td>\n",
       "    </tr>\n",
       "    <tr>\n",
       "      <th>1</th>\n",
       "      <td>두콤비 어울리네. 원맨쇼 존트라볼타의 액션신이 조금 오글하기도 하지만 그럭저럭 코믹...</td>\n",
       "      <td>1</td>\n",
       "    </tr>\n",
       "    <tr>\n",
       "      <th>2</th>\n",
       "      <td>f이것도 영화라고 ㅋㅋ</td>\n",
       "      <td>0</td>\n",
       "    </tr>\n",
       "    <tr>\n",
       "      <th>3</th>\n",
       "      <td>아직 반년 남긴 했지만...인현왕후의 남자는 의심할 여지없는 올해 최고의 드라마!!!</td>\n",
       "      <td>1</td>\n",
       "    </tr>\n",
       "    <tr>\n",
       "      <th>4</th>\n",
       "      <td>평점이 너무 높다...</td>\n",
       "      <td>0</td>\n",
       "    </tr>\n",
       "  </tbody>\n",
       "</table>\n",
       "</div>"
      ],
      "text/plain": [
       "                                            document  label\n",
       "0          네이버는 왜 0점이 안되지???영화같지도않아서 일본배우밖에 출연안한다든 ?      0\n",
       "1  두콤비 어울리네. 원맨쇼 존트라볼타의 액션신이 조금 오글하기도 하지만 그럭저럭 코믹...      1\n",
       "2                                       f이것도 영화라고 ㅋㅋ      0\n",
       "3    아직 반년 남긴 했지만...인현왕후의 남자는 의심할 여지없는 올해 최고의 드라마!!!      1\n",
       "4                                       평점이 너무 높다...      0"
      ]
     },
     "metadata": {},
     "output_type": "display_data"
    }
   ],
   "source": [
    "file_path = './data/ratings.txt'\n",
    "df = pd.read_csv(file_path, delimiter = '\\t', index_col = 'id')\n",
    "df = df.sample(frac = 1, random_state = 526).reset_index(drop = True)\n",
    "\n",
    "display(df.head())"
   ]
  },
  {
   "cell_type": "code",
   "execution_count": 3,
   "metadata": {},
   "outputs": [],
   "source": [
    "# 중복 데이터 확인 및 제거\n",
    "df = df.drop_duplicates()\n",
    "\n",
    "# Null 값 확인 및 제거\n",
    "df = df.dropna()"
   ]
  },
  {
   "cell_type": "markdown",
   "metadata": {},
   "source": [
    "trainset 0.8, validationset 0.1, testset 0.1"
   ]
  },
  {
   "cell_type": "code",
   "execution_count": 4,
   "metadata": {},
   "outputs": [
    {
     "name": "stdout",
     "output_type": "stream",
     "text": [
      "Train dataset size: 155811\n",
      "Validation dataset size: 19476\n",
      "Test dataset size: 19477\n"
     ]
    },
    {
     "data": {
      "text/html": [
       "<div>\n",
       "<style scoped>\n",
       "    .dataframe tbody tr th:only-of-type {\n",
       "        vertical-align: middle;\n",
       "    }\n",
       "\n",
       "    .dataframe tbody tr th {\n",
       "        vertical-align: top;\n",
       "    }\n",
       "\n",
       "    .dataframe thead th {\n",
       "        text-align: right;\n",
       "    }\n",
       "</style>\n",
       "<table border=\"1\" class=\"dataframe\">\n",
       "  <thead>\n",
       "    <tr style=\"text-align: right;\">\n",
       "      <th></th>\n",
       "      <th>document</th>\n",
       "      <th>label</th>\n",
       "    </tr>\n",
       "  </thead>\n",
       "  <tbody>\n",
       "    <tr>\n",
       "      <th>109343</th>\n",
       "      <td>지루하담.. 드럼치는거밖에 안나옴.. 언제끝나는지만 기다렷네 에효</td>\n",
       "      <td>0</td>\n",
       "    </tr>\n",
       "    <tr>\n",
       "      <th>182284</th>\n",
       "      <td>우리 삶의 근원을 찾는 영화</td>\n",
       "      <td>1</td>\n",
       "    </tr>\n",
       "    <tr>\n",
       "      <th>99190</th>\n",
       "      <td>신념을 위해 바친다는거 쉽지않다 결코!짝퉁만 만드는줄 알고 있던 중국내 착각이었다,...</td>\n",
       "      <td>1</td>\n",
       "    </tr>\n",
       "    <tr>\n",
       "      <th>184205</th>\n",
       "      <td>예고편만으로도 감동적이고 눈물이나네요..정말 좋은영화네요..요즘영화들과는 다른 마음...</td>\n",
       "      <td>1</td>\n",
       "    </tr>\n",
       "    <tr>\n",
       "      <th>62010</th>\n",
       "      <td>재미있습니다~믿고보는 국영방송의대하사극</td>\n",
       "      <td>1</td>\n",
       "    </tr>\n",
       "  </tbody>\n",
       "</table>\n",
       "</div>"
      ],
      "text/plain": [
       "                                                 document  label\n",
       "109343               지루하담.. 드럼치는거밖에 안나옴.. 언제끝나는지만 기다렷네 에효      0\n",
       "182284                                    우리 삶의 근원을 찾는 영화      1\n",
       "99190   신념을 위해 바친다는거 쉽지않다 결코!짝퉁만 만드는줄 알고 있던 중국내 착각이었다,...      1\n",
       "184205  예고편만으로도 감동적이고 눈물이나네요..정말 좋은영화네요..요즘영화들과는 다른 마음...      1\n",
       "62010                               재미있습니다~믿고보는 국영방송의대하사극      1"
      ]
     },
     "metadata": {},
     "output_type": "display_data"
    },
    {
     "data": {
      "text/html": [
       "<div>\n",
       "<style scoped>\n",
       "    .dataframe tbody tr th:only-of-type {\n",
       "        vertical-align: middle;\n",
       "    }\n",
       "\n",
       "    .dataframe tbody tr th {\n",
       "        vertical-align: top;\n",
       "    }\n",
       "\n",
       "    .dataframe thead th {\n",
       "        text-align: right;\n",
       "    }\n",
       "</style>\n",
       "<table border=\"1\" class=\"dataframe\">\n",
       "  <thead>\n",
       "    <tr style=\"text-align: right;\">\n",
       "      <th></th>\n",
       "      <th>document</th>\n",
       "      <th>label</th>\n",
       "    </tr>\n",
       "  </thead>\n",
       "  <tbody>\n",
       "    <tr>\n",
       "      <th>136433</th>\n",
       "      <td>소름끼치긴했지만 한정된 내용을 90분동안 지루하지않게 이끌고 간 훌륭한 작품에 박수를</td>\n",
       "      <td>1</td>\n",
       "    </tr>\n",
       "    <tr>\n",
       "      <th>145024</th>\n",
       "      <td>\"당신의 꿈은 물 위의 사막같은 거에요.\" 크아~!</td>\n",
       "      <td>1</td>\n",
       "    </tr>\n",
       "    <tr>\n",
       "      <th>148855</th>\n",
       "      <td>뭐지 이건 떡을..저건 귀신이야 아니야 뭐야 엔딩은 또 왜따구야</td>\n",
       "      <td>0</td>\n",
       "    </tr>\n",
       "    <tr>\n",
       "      <th>160325</th>\n",
       "      <td>징그럽다 진짜</td>\n",
       "      <td>0</td>\n",
       "    </tr>\n",
       "    <tr>\n",
       "      <th>157705</th>\n",
       "      <td>내가이영화를2번봣다. 7살때 이영화가개봉했는데극장에서1번집에서1번봣다그날이후로 난이...</td>\n",
       "      <td>1</td>\n",
       "    </tr>\n",
       "  </tbody>\n",
       "</table>\n",
       "</div>"
      ],
      "text/plain": [
       "                                                 document  label\n",
       "136433    소름끼치긴했지만 한정된 내용을 90분동안 지루하지않게 이끌고 간 훌륭한 작품에 박수를      1\n",
       "145024                       \"당신의 꿈은 물 위의 사막같은 거에요.\" 크아~!      1\n",
       "148855                뭐지 이건 떡을..저건 귀신이야 아니야 뭐야 엔딩은 또 왜따구야      0\n",
       "160325                                            징그럽다 진짜      0\n",
       "157705  내가이영화를2번봣다. 7살때 이영화가개봉했는데극장에서1번집에서1번봣다그날이후로 난이...      1"
      ]
     },
     "metadata": {},
     "output_type": "display_data"
    },
    {
     "data": {
      "text/html": [
       "<div>\n",
       "<style scoped>\n",
       "    .dataframe tbody tr th:only-of-type {\n",
       "        vertical-align: middle;\n",
       "    }\n",
       "\n",
       "    .dataframe tbody tr th {\n",
       "        vertical-align: top;\n",
       "    }\n",
       "\n",
       "    .dataframe thead th {\n",
       "        text-align: right;\n",
       "    }\n",
       "</style>\n",
       "<table border=\"1\" class=\"dataframe\">\n",
       "  <thead>\n",
       "    <tr style=\"text-align: right;\">\n",
       "      <th></th>\n",
       "      <th>document</th>\n",
       "      <th>label</th>\n",
       "    </tr>\n",
       "  </thead>\n",
       "  <tbody>\n",
       "    <tr>\n",
       "      <th>187615</th>\n",
       "      <td>정작 열어보니 아무것도 없더라</td>\n",
       "      <td>0</td>\n",
       "    </tr>\n",
       "    <tr>\n",
       "      <th>178942</th>\n",
       "      <td>소박하고 때묻지 않은 잔잔한 영화^^ 20세기 초 단란한 프랑스 가정의 모습을 엿볼 수</td>\n",
       "      <td>1</td>\n",
       "    </tr>\n",
       "    <tr>\n",
       "      <th>121283</th>\n",
       "      <td>연기력은 기본인데.. 주제가 아무리 좋아도 연기가 안되면..</td>\n",
       "      <td>0</td>\n",
       "    </tr>\n",
       "    <tr>\n",
       "      <th>40794</th>\n",
       "      <td>이야기를 풀어나가는 형식이 아~ 탄성을 자아내게 한다.</td>\n",
       "      <td>1</td>\n",
       "    </tr>\n",
       "    <tr>\n",
       "      <th>180054</th>\n",
       "      <td>마지막회에 가전제품을 몰래 들고 떠나려는 알프ㅋㅋ</td>\n",
       "      <td>1</td>\n",
       "    </tr>\n",
       "  </tbody>\n",
       "</table>\n",
       "</div>"
      ],
      "text/plain": [
       "                                                document  label\n",
       "187615                                  정작 열어보니 아무것도 없더라      0\n",
       "178942  소박하고 때묻지 않은 잔잔한 영화^^ 20세기 초 단란한 프랑스 가정의 모습을 엿볼 수      1\n",
       "121283                 연기력은 기본인데.. 주제가 아무리 좋아도 연기가 안되면..      0\n",
       "40794                     이야기를 풀어나가는 형식이 아~ 탄성을 자아내게 한다.      1\n",
       "180054                       마지막회에 가전제품을 몰래 들고 떠나려는 알프ㅋㅋ      1"
      ]
     },
     "metadata": {},
     "output_type": "display_data"
    }
   ],
   "source": [
    "train_df, temp_df = train_test_split(df, test_size = 0.2, random_state = 526)\n",
    "validation_df, test_df = train_test_split(temp_df, test_size = 0.5, random_state = 526)\n",
    "\n",
    "# 각 데이터셋의 크기 확인\n",
    "print(f\"Train dataset size: {len(train_df)}\")\n",
    "print(f\"Validation dataset size: {len(validation_df)}\")\n",
    "print(f\"Test dataset size: {len(test_df)}\")\n",
    "\n",
    "# 데이터셋 확인 (옵션)\n",
    "display(train_df.head())\n",
    "display(validation_df.head())\n",
    "display(test_df.head())"
   ]
  },
  {
   "cell_type": "markdown",
   "metadata": {},
   "source": [
    "## Mecab, SentencePiece 토큰 비교"
   ]
  },
  {
   "cell_type": "markdown",
   "metadata": {},
   "source": [
    "### Mecab"
   ]
  },
  {
   "cell_type": "code",
   "execution_count": 5,
   "metadata": {},
   "outputs": [],
   "source": [
    "# mecab 설치\n",
    "# https://konlpy.org/en/latest/install/"
   ]
  },
  {
   "cell_type": "code",
   "execution_count": 13,
   "metadata": {},
   "outputs": [
    {
     "data": {
      "text/html": [
       "<div>\n",
       "<style scoped>\n",
       "    .dataframe tbody tr th:only-of-type {\n",
       "        vertical-align: middle;\n",
       "    }\n",
       "\n",
       "    .dataframe tbody tr th {\n",
       "        vertical-align: top;\n",
       "    }\n",
       "\n",
       "    .dataframe thead th {\n",
       "        text-align: right;\n",
       "    }\n",
       "</style>\n",
       "<table border=\"1\" class=\"dataframe\">\n",
       "  <thead>\n",
       "    <tr style=\"text-align: right;\">\n",
       "      <th></th>\n",
       "      <th>document</th>\n",
       "      <th>label</th>\n",
       "      <th>mecab_tokens</th>\n",
       "      <th>sp_tokens</th>\n",
       "    </tr>\n",
       "  </thead>\n",
       "  <tbody>\n",
       "    <tr>\n",
       "      <th>109343</th>\n",
       "      <td>지루하담.. 드럼치는거밖에 안나옴.. 언제끝나는지만 기다렷네 에효</td>\n",
       "      <td>0</td>\n",
       "      <td>[지루, 하, 담, ., ., 드럼, 치, 는, 거, 밖에, 안, 나옴, ., .,...</td>\n",
       "      <td>[▁지루, 하, 담, .., ▁드, 럼, 치, 는거, 밖에, ▁, 안, 나, 옴, ...</td>\n",
       "    </tr>\n",
       "    <tr>\n",
       "      <th>182284</th>\n",
       "      <td>우리 삶의 근원을 찾는 영화</td>\n",
       "      <td>1</td>\n",
       "      <td>[우리, 삶, 의, 근원, 을, 찾, 는, 영화]</td>\n",
       "      <td>[▁우리, ▁삶의, ▁, 근, 원, 을, ▁찾는, ▁, 영, 화]</td>\n",
       "    </tr>\n",
       "    <tr>\n",
       "      <th>99190</th>\n",
       "      <td>신념을 위해 바친다는거 쉽지않다 결코!짝퉁만 만드는줄 알고 있던 중국내 착각이었다,...</td>\n",
       "      <td>1</td>\n",
       "      <td>[신념, 을, 위해, 바친다는, 거, 쉽, 지, 않, 다, 결코, !, 짝퉁, 만,...</td>\n",
       "      <td>[▁신, 념, 을, ▁위해, ▁바, 친, 다, 는거, ▁, 쉽, 지, 않, 다, ▁...</td>\n",
       "    </tr>\n",
       "    <tr>\n",
       "      <th>184205</th>\n",
       "      <td>예고편만으로도 감동적이고 눈물이나네요..정말 좋은영화네요..요즘영화들과는 다른 마음...</td>\n",
       "      <td>1</td>\n",
       "      <td>[예고편, 만, 으로, 도, 감동, 적, 이, 고, 눈물, 이, 나, 네요, ., ...</td>\n",
       "      <td>[▁, 예, 고, 편, 만, 으로, 도, ▁감, 동, 적이, 고, ▁눈물, 이, 나...</td>\n",
       "    </tr>\n",
       "    <tr>\n",
       "      <th>62010</th>\n",
       "      <td>재미있습니다~믿고보는 국영방송의대하사극</td>\n",
       "      <td>1</td>\n",
       "      <td>[재미있, 습니다, ~, 믿, 고, 보, 는, 국영, 방송, 의, 대하, 사극]</td>\n",
       "      <td>[▁, 재미, 있습니다, ~, 믿, 고, 보는, ▁국, 영, 방송, 의, 대, 하,...</td>\n",
       "    </tr>\n",
       "  </tbody>\n",
       "</table>\n",
       "</div>"
      ],
      "text/plain": [
       "                                                 document  label  \\\n",
       "109343               지루하담.. 드럼치는거밖에 안나옴.. 언제끝나는지만 기다렷네 에효      0   \n",
       "182284                                    우리 삶의 근원을 찾는 영화      1   \n",
       "99190   신념을 위해 바친다는거 쉽지않다 결코!짝퉁만 만드는줄 알고 있던 중국내 착각이었다,...      1   \n",
       "184205  예고편만으로도 감동적이고 눈물이나네요..정말 좋은영화네요..요즘영화들과는 다른 마음...      1   \n",
       "62010                               재미있습니다~믿고보는 국영방송의대하사극      1   \n",
       "\n",
       "                                             mecab_tokens  \\\n",
       "109343  [지루, 하, 담, ., ., 드럼, 치, 는, 거, 밖에, 안, 나옴, ., .,...   \n",
       "182284                        [우리, 삶, 의, 근원, 을, 찾, 는, 영화]   \n",
       "99190   [신념, 을, 위해, 바친다는, 거, 쉽, 지, 않, 다, 결코, !, 짝퉁, 만,...   \n",
       "184205  [예고편, 만, 으로, 도, 감동, 적, 이, 고, 눈물, 이, 나, 네요, ., ...   \n",
       "62010        [재미있, 습니다, ~, 믿, 고, 보, 는, 국영, 방송, 의, 대하, 사극]   \n",
       "\n",
       "                                                sp_tokens  \n",
       "109343  [▁지루, 하, 담, .., ▁드, 럼, 치, 는거, 밖에, ▁, 안, 나, 옴, ...  \n",
       "182284               [▁우리, ▁삶의, ▁, 근, 원, 을, ▁찾는, ▁, 영, 화]  \n",
       "99190   [▁신, 념, 을, ▁위해, ▁바, 친, 다, 는거, ▁, 쉽, 지, 않, 다, ▁...  \n",
       "184205  [▁, 예, 고, 편, 만, 으로, 도, ▁감, 동, 적이, 고, ▁눈물, 이, 나...  \n",
       "62010   [▁, 재미, 있습니다, ~, 믿, 고, 보는, ▁국, 영, 방송, 의, 대, 하,...  "
      ]
     },
     "execution_count": 13,
     "metadata": {},
     "output_type": "execute_result"
    }
   ],
   "source": [
    "mecab = Mecab()\n",
    "def mecab_split(sentence):\n",
    "    return mecab.morphs(sentence)\n",
    "train_df['mecab_tokens'] = train_df['document'].apply(mecab_split)\n",
    "validation_df['mecab_tokens'] = validation_df['document'].apply(mecab_split)\n",
    "test_df['mecab_tokens'] = test_df['document'].apply(mecab_split)\n",
    "\n",
    "train_df.head()"
   ]
  },
  {
   "cell_type": "markdown",
   "metadata": {},
   "source": [
    "### SentencePiece"
   ]
  },
  {
   "cell_type": "code",
   "execution_count": 7,
   "metadata": {},
   "outputs": [
    {
     "name": "stdout",
     "output_type": "stream",
     "text": [
      "-rw-rw-r-- 1 ubuntu ubuntu 375123  7월  2 00:48 korean_spm.model\n",
      "-rw-rw-r-- 1 ubuntu ubuntu 144585  7월  2 00:48 korean_spm.vocab\n"
     ]
    },
    {
     "name": "stderr",
     "output_type": "stream",
     "text": [
      "sentencepiece_trainer.cc(178) LOG(INFO) Running command: --input=./data/train_documents.txt --model_prefix=korean_spm --vocab_size=8000\n",
      "sentencepiece_trainer.cc(78) LOG(INFO) Starts training with : \n",
      "trainer_spec {\n",
      "  input: ./data/train_documents.txt\n",
      "  input_format: \n",
      "  model_prefix: korean_spm\n",
      "  model_type: UNIGRAM\n",
      "  vocab_size: 8000\n",
      "  self_test_sample_size: 0\n",
      "  character_coverage: 0.9995\n",
      "  input_sentence_size: 0\n",
      "  shuffle_input_sentence: 1\n",
      "  seed_sentencepiece_size: 1000000\n",
      "  shrinking_factor: 0.75\n",
      "  max_sentence_length: 4192\n",
      "  num_threads: 16\n",
      "  num_sub_iterations: 2\n",
      "  max_sentencepiece_length: 16\n",
      "  split_by_unicode_script: 1\n",
      "  split_by_number: 1\n",
      "  split_by_whitespace: 1\n",
      "  split_digits: 0\n",
      "  pretokenization_delimiter: \n",
      "  treat_whitespace_as_suffix: 0\n",
      "  allow_whitespace_only_pieces: 0\n",
      "  required_chars: \n",
      "  byte_fallback: 0\n",
      "  vocabulary_output_piece_score: 1\n",
      "  train_extremely_large_corpus: 0\n",
      "  seed_sentencepieces_file: \n",
      "  hard_vocab_limit: 1\n",
      "  use_all_vocab: 0\n",
      "  unk_id: 0\n",
      "  bos_id: 1\n",
      "  eos_id: 2\n",
      "  pad_id: -1\n",
      "  unk_piece: <unk>\n",
      "  bos_piece: <s>\n",
      "  eos_piece: </s>\n",
      "  pad_piece: <pad>\n",
      "  unk_surface:  ⁇ \n",
      "  enable_differential_privacy: 0\n",
      "  differential_privacy_noise_level: 0\n",
      "  differential_privacy_clipping_threshold: 0\n",
      "}\n",
      "normalizer_spec {\n",
      "  name: nmt_nfkc\n",
      "  add_dummy_prefix: 1\n",
      "  remove_extra_whitespaces: 1\n",
      "  escape_whitespaces: 1\n",
      "  normalization_rule_tsv: \n",
      "}\n",
      "denormalizer_spec {}\n",
      "trainer_interface.cc(353) LOG(INFO) SentenceIterator is not specified. Using MultiFileSentenceIterator.\n",
      "trainer_interface.cc(185) LOG(INFO) Loading corpus: ./data/train_documents.txt\n",
      "trainer_interface.cc(409) LOG(INFO) Loaded all 155811 sentences\n",
      "trainer_interface.cc(425) LOG(INFO) Adding meta_piece: <unk>\n",
      "trainer_interface.cc(425) LOG(INFO) Adding meta_piece: <s>\n",
      "trainer_interface.cc(425) LOG(INFO) Adding meta_piece: </s>\n",
      "trainer_interface.cc(430) LOG(INFO) Normalizing sentences...\n",
      "trainer_interface.cc(539) LOG(INFO) all chars count=5763957\n",
      "trainer_interface.cc(550) LOG(INFO) Done: 99.95% characters are covered.\n",
      "trainer_interface.cc(560) LOG(INFO) Alphabet size=1722\n",
      "trainer_interface.cc(561) LOG(INFO) Final character coverage=0.9995\n",
      "trainer_interface.cc(592) LOG(INFO) Done! preprocessed 155811 sentences.\n",
      "unigram_model_trainer.cc(265) LOG(INFO) Making suffix array...\n",
      "unigram_model_trainer.cc(269) LOG(INFO) Extracting frequent sub strings... node_num=2027762\n",
      "unigram_model_trainer.cc(312) LOG(INFO) Initialized 324535 seed sentencepieces\n",
      "trainer_interface.cc(598) LOG(INFO) Tokenizing input sentences with whitespace: 155811\n",
      "trainer_interface.cc(609) LOG(INFO) Done! 375479\n",
      "unigram_model_trainer.cc(602) LOG(INFO) Using 375479 sentences for EM training\n",
      "unigram_model_trainer.cc(618) LOG(INFO) EM sub_iter=0 size=165134 obj=15.4332 num_tokens=886763 num_tokens/piece=5.36996\n",
      "unigram_model_trainer.cc(618) LOG(INFO) EM sub_iter=1 size=152805 obj=14.36 num_tokens=892205 num_tokens/piece=5.83885\n",
      "unigram_model_trainer.cc(618) LOG(INFO) EM sub_iter=0 size=114526 obj=14.4608 num_tokens=931425 num_tokens/piece=8.13287\n",
      "unigram_model_trainer.cc(618) LOG(INFO) EM sub_iter=1 size=114301 obj=14.4038 num_tokens=931674 num_tokens/piece=8.15106\n",
      "unigram_model_trainer.cc(618) LOG(INFO) EM sub_iter=0 size=85715 obj=14.6453 num_tokens=978459 num_tokens/piece=11.4153\n",
      "unigram_model_trainer.cc(618) LOG(INFO) EM sub_iter=1 size=85705 obj=14.5841 num_tokens=978647 num_tokens/piece=11.4188\n",
      "unigram_model_trainer.cc(618) LOG(INFO) EM sub_iter=0 size=64278 obj=14.8488 num_tokens=1023560 num_tokens/piece=15.924\n",
      "unigram_model_trainer.cc(618) LOG(INFO) EM sub_iter=1 size=64277 obj=14.788 num_tokens=1023599 num_tokens/piece=15.9248\n",
      "unigram_model_trainer.cc(618) LOG(INFO) EM sub_iter=0 size=48207 obj=15.0729 num_tokens=1071467 num_tokens/piece=22.2264\n",
      "unigram_model_trainer.cc(618) LOG(INFO) EM sub_iter=1 size=48207 obj=15.0081 num_tokens=1071516 num_tokens/piece=22.2274\n",
      "unigram_model_trainer.cc(618) LOG(INFO) EM sub_iter=0 size=36155 obj=15.3251 num_tokens=1119515 num_tokens/piece=30.9643\n",
      "unigram_model_trainer.cc(618) LOG(INFO) EM sub_iter=1 size=36155 obj=15.2591 num_tokens=1119531 num_tokens/piece=30.9648\n",
      "unigram_model_trainer.cc(618) LOG(INFO) EM sub_iter=0 size=27116 obj=15.6163 num_tokens=1170316 num_tokens/piece=43.1596\n",
      "unigram_model_trainer.cc(618) LOG(INFO) EM sub_iter=1 size=27116 obj=15.5441 num_tokens=1170310 num_tokens/piece=43.1594\n",
      "unigram_model_trainer.cc(618) LOG(INFO) EM sub_iter=0 size=20337 obj=15.9268 num_tokens=1223120 num_tokens/piece=60.1426\n",
      "unigram_model_trainer.cc(618) LOG(INFO) EM sub_iter=1 size=20337 obj=15.8467 num_tokens=1223140 num_tokens/piece=60.1436\n",
      "unigram_model_trainer.cc(618) LOG(INFO) EM sub_iter=0 size=15252 obj=16.269 num_tokens=1279315 num_tokens/piece=83.8785\n",
      "unigram_model_trainer.cc(618) LOG(INFO) EM sub_iter=1 size=15252 obj=16.1796 num_tokens=1279621 num_tokens/piece=83.8986\n",
      "unigram_model_trainer.cc(618) LOG(INFO) EM sub_iter=0 size=11439 obj=16.64 num_tokens=1340239 num_tokens/piece=117.164\n",
      "unigram_model_trainer.cc(618) LOG(INFO) EM sub_iter=1 size=11439 obj=16.539 num_tokens=1340274 num_tokens/piece=117.167\n",
      "unigram_model_trainer.cc(618) LOG(INFO) EM sub_iter=0 size=8800 obj=17.0091 num_tokens=1398538 num_tokens/piece=158.925\n",
      "unigram_model_trainer.cc(618) LOG(INFO) EM sub_iter=1 size=8800 obj=16.9068 num_tokens=1398968 num_tokens/piece=158.974\n",
      "trainer_interface.cc(687) LOG(INFO) Saving model: korean_spm.model\n",
      "trainer_interface.cc(699) LOG(INFO) Saving vocabs: korean_spm.vocab\n"
     ]
    }
   ],
   "source": [
    "with open('./data/train_documents.txt', 'w', encoding = 'utf-8') as f:\n",
    "    for document in train_df['document']:\n",
    "        f.write(document + '\\n')\n",
    "\n",
    "vocab_size = 8000\n",
    "\n",
    "spm.SentencePieceTrainer.Train(\n",
    "    '--input=./data/train_documents.txt --model_prefix=korean_spm --vocab_size={}'.format(\n",
    "        vocab_size\n",
    "    )\n",
    ")\n",
    "\n",
    "!ls -l korean_spm*"
   ]
  },
  {
   "cell_type": "code",
   "execution_count": 14,
   "metadata": {},
   "outputs": [
    {
     "data": {
      "text/html": [
       "<div>\n",
       "<style scoped>\n",
       "    .dataframe tbody tr th:only-of-type {\n",
       "        vertical-align: middle;\n",
       "    }\n",
       "\n",
       "    .dataframe tbody tr th {\n",
       "        vertical-align: top;\n",
       "    }\n",
       "\n",
       "    .dataframe thead th {\n",
       "        text-align: right;\n",
       "    }\n",
       "</style>\n",
       "<table border=\"1\" class=\"dataframe\">\n",
       "  <thead>\n",
       "    <tr style=\"text-align: right;\">\n",
       "      <th></th>\n",
       "      <th>document</th>\n",
       "      <th>label</th>\n",
       "      <th>mecab_tokens</th>\n",
       "      <th>sp_tokens</th>\n",
       "    </tr>\n",
       "  </thead>\n",
       "  <tbody>\n",
       "    <tr>\n",
       "      <th>109343</th>\n",
       "      <td>지루하담.. 드럼치는거밖에 안나옴.. 언제끝나는지만 기다렷네 에효</td>\n",
       "      <td>0</td>\n",
       "      <td>[지루, 하, 담, ., ., 드럼, 치, 는, 거, 밖에, 안, 나옴, ., .,...</td>\n",
       "      <td>[▁지루하, 담, ., ., ▁, 드, 럼, 치는, 거, 밖, 에, ▁안나옴, .,...</td>\n",
       "    </tr>\n",
       "    <tr>\n",
       "      <th>182284</th>\n",
       "      <td>우리 삶의 근원을 찾는 영화</td>\n",
       "      <td>1</td>\n",
       "      <td>[우리, 삶, 의, 근원, 을, 찾, 는, 영화]</td>\n",
       "      <td>[▁우리, ▁삶의, ▁근, 원, 을, ▁찾는, ▁영화]</td>\n",
       "    </tr>\n",
       "    <tr>\n",
       "      <th>99190</th>\n",
       "      <td>신념을 위해 바친다는거 쉽지않다 결코!짝퉁만 만드는줄 알고 있던 중국내 착각이었다,...</td>\n",
       "      <td>1</td>\n",
       "      <td>[신념, 을, 위해, 바친다는, 거, 쉽, 지, 않, 다, 결코, !, 짝퉁, 만,...</td>\n",
       "      <td>[▁신념, 을, ▁위해, ▁바, 친, 다, 는거, ▁쉽지, 않다, ▁결코, !, 짝...</td>\n",
       "    </tr>\n",
       "    <tr>\n",
       "      <th>184205</th>\n",
       "      <td>예고편만으로도 감동적이고 눈물이나네요..정말 좋은영화네요..요즘영화들과는 다른 마음...</td>\n",
       "      <td>1</td>\n",
       "      <td>[예고편, 만, 으로, 도, 감동, 적, 이, 고, 눈물, 이, 나, 네요, ., ...</td>\n",
       "      <td>[▁예고편, 만으로, 도, ▁, 감동, 적이, 고, ▁눈물, 이나, 네요, ., ....</td>\n",
       "    </tr>\n",
       "    <tr>\n",
       "      <th>62010</th>\n",
       "      <td>재미있습니다~믿고보는 국영방송의대하사극</td>\n",
       "      <td>1</td>\n",
       "      <td>[재미있, 습니다, ~, 믿, 고, 보, 는, 국영, 방송, 의, 대하, 사극]</td>\n",
       "      <td>[▁, 재미, 있습니다, ~, 믿, 고, 보는, ▁국, 영, 방송, 의, 대, 하,...</td>\n",
       "    </tr>\n",
       "  </tbody>\n",
       "</table>\n",
       "</div>"
      ],
      "text/plain": [
       "                                                 document  label  \\\n",
       "109343               지루하담.. 드럼치는거밖에 안나옴.. 언제끝나는지만 기다렷네 에효      0   \n",
       "182284                                    우리 삶의 근원을 찾는 영화      1   \n",
       "99190   신념을 위해 바친다는거 쉽지않다 결코!짝퉁만 만드는줄 알고 있던 중국내 착각이었다,...      1   \n",
       "184205  예고편만으로도 감동적이고 눈물이나네요..정말 좋은영화네요..요즘영화들과는 다른 마음...      1   \n",
       "62010                               재미있습니다~믿고보는 국영방송의대하사극      1   \n",
       "\n",
       "                                             mecab_tokens  \\\n",
       "109343  [지루, 하, 담, ., ., 드럼, 치, 는, 거, 밖에, 안, 나옴, ., .,...   \n",
       "182284                        [우리, 삶, 의, 근원, 을, 찾, 는, 영화]   \n",
       "99190   [신념, 을, 위해, 바친다는, 거, 쉽, 지, 않, 다, 결코, !, 짝퉁, 만,...   \n",
       "184205  [예고편, 만, 으로, 도, 감동, 적, 이, 고, 눈물, 이, 나, 네요, ., ...   \n",
       "62010        [재미있, 습니다, ~, 믿, 고, 보, 는, 국영, 방송, 의, 대하, 사극]   \n",
       "\n",
       "                                                sp_tokens  \n",
       "109343  [▁지루하, 담, ., ., ▁, 드, 럼, 치는, 거, 밖, 에, ▁안나옴, .,...  \n",
       "182284                     [▁우리, ▁삶의, ▁근, 원, 을, ▁찾는, ▁영화]  \n",
       "99190   [▁신념, 을, ▁위해, ▁바, 친, 다, 는거, ▁쉽지, 않다, ▁결코, !, 짝...  \n",
       "184205  [▁예고편, 만으로, 도, ▁, 감동, 적이, 고, ▁눈물, 이나, 네요, ., ....  \n",
       "62010   [▁, 재미, 있습니다, ~, 믿, 고, 보는, ▁국, 영, 방송, 의, 대, 하,...  "
      ]
     },
     "execution_count": 14,
     "metadata": {},
     "output_type": "execute_result"
    }
   ],
   "source": [
    "s = spm.SentencePieceProcessor()\n",
    "s.Load('korean_spm.model')\n",
    "\n",
    "train_df['sp_tokens'] = train_df['document'].apply(s.SampleEncodeAsPieces)\n",
    "validation_df['sp_tokens'] = validation_df['document'].apply(s.SampleEncodeAsPieces)\n",
    "test_df['sp_tokens'] = test_df['document'].apply(s.SampleEncodeAsPieces)\n",
    "\n",
    "train_df.head()"
   ]
  },
  {
   "cell_type": "code",
   "execution_count": 9,
   "metadata": {},
   "outputs": [
    {
     "name": "stdout",
     "output_type": "stream",
     "text": [
      "Index 191064:\n",
      "Original Sentence: 미치겠..ㅋㅋㅋ 내가 꺼뒀던 핸드폰을 평점주려고 충전했다\n",
      "Mecab Tokens: ['미치', '겠', '.', '.', 'ㅋㅋㅋ', '내', '가', '꺼', '뒀', '던', '핸드폰', '을', '평점', '주', '려고', '충전', '했', '다']\n",
      "SentencePiece Tokens: ['▁', '미치', '겠', '..', 'ᄏᄏ', 'ᄏ', '▁', '내가', '▁', '꺼', '뒀', '던', '▁', '핸', '드', '폰', '을', '▁평', '점', '주', '려', '고', '▁', '충', '전', '했다']\n",
      "--------------------------------------------------\n",
      "Index 172696:\n",
      "Original Sentence: 포르노 보는게 났지 ... 재미없음...\n",
      "Mecab Tokens: ['포르노', '보', '는', '게', '났', '지', '.', '..', '재미없', '음', '.', '..']\n",
      "SentencePiece Tokens: ['▁포르노', '▁보는게', '▁', '났', '지', '▁', '.', '..', '▁재', '미', '없', '음', '..', '.']\n",
      "--------------------------------------------------\n",
      "Index 170260:\n",
      "Original Sentence: 뭔가 이런 스탈? 영화를 만드려고 애쓴 느낌. 스토리도 지루하고 연출도 그닥. 음악도 평범. 오로지 소품과 배경만 예쁜 영화.\n",
      "Mecab Tokens: ['뭔가', '이런', '스탈', '?', '영화', '를', '만드', '려고', '애쓴', '느낌', '.', '스토리', '도', '지루', '하', '고', '연출', '도', '그닥', '.', '음악', '도', '평범', '.', '오로지', '소품', '과', '배경', '만', '예쁜', '영화', '.']\n",
      "SentencePiece Tokens: ['▁뭔가', '▁', '이런', '▁', '스', '탈', '?', '▁영화', '를', '▁만드', '려고', '▁애', '쓴', '▁', '느낌', '.', '▁', '스토리', '도', '▁지루하고', '▁연', '출', '도', '▁그닥', '.', '▁음악도', '▁평', '범', '.', '▁오로지', '▁소품', '과', '▁배', '경', '만', '▁예쁜', '▁영화', '.']\n",
      "--------------------------------------------------\n",
      "Index 112446:\n",
      "Original Sentence: 중긴부터봐서 스토리는 모르겠지만 배우들 연기도 잘하고 재밌게보는데 이게 그렇게 스토리가 막장인가?... 이정도면 무난하다고 생각하는데\n",
      "Mecab Tokens: ['중', '긴', '부터', '봐서', '스토리', '는', '모르', '겠', '지만', '배우', '들', '연기', '도', '잘', '하', '고', '재밌', '게', '보', '는데', '이게', '그렇게', '스토리', '가', '막장', '인가', '?', '...', '이', '정도', '면', '무난', '하', '다고', '생각', '하', '는데']\n",
      "SentencePiece Tokens: ['▁중', '긴', '부터', '봐', '서', '▁스토리는', '▁모르', '겠지', '만', '▁', '배우들', '▁연', '기', '도', '▁', '잘', '하고', '▁', '재밌', '게', '보는데', '▁이게', '▁', '그렇', '게', '▁', '스토', '리가', '▁막장', '인', '가', '?', '.', '.', '.', '▁이정도면', '▁무난', '하', '다고', '▁생각', '하', '는데']\n",
      "--------------------------------------------------\n",
      "Index 146414:\n",
      "Original Sentence: 1편에 비하면 OOO\n",
      "Mecab Tokens: ['1', '편', '에', '비하', '면', 'OOO']\n",
      "SentencePiece Tokens: ['▁1', '편', '에', '▁', '비', '하면', '▁', 'OOO']\n",
      "--------------------------------------------------\n",
      "Index 189828:\n",
      "Original Sentence: 훌륭한 리빌드. 전설의 서막.\n",
      "Mecab Tokens: ['훌륭', '한', '리', '빌드', '.', '전설', '의', '서막', '.']\n",
      "SentencePiece Tokens: ['▁훌륭', '한', '▁', '리', '빌', '드', '.', '▁전설의', '▁', '서', '막', '.']\n",
      "--------------------------------------------------\n",
      "Index 86645:\n",
      "Original Sentence: 슬픈 현실과 SF를 곁들인 대단한 영화이 영화를 보고나면 왠지 알수없는 기분이 몰려온다결코 재밌는 영화가 아니다.. 슬프다..\n",
      "Mecab Tokens: ['슬픈', '현실', '과', 'SF', '를', '곁들인', '대단', '한', '영화', '이', '영화', '를', '보', '고', '나', '면', '왠지', '알', '수', '없', '는', '기분', '이', '몰려온다', '결코', '재밌', '는', '영화', '가', '아니', '다', '.', '.', '슬프', '다', '.', '.']\n",
      "SentencePiece Tokens: ['▁슬', '픈', '▁현실', '과', '▁SF', '를', '▁', '곁', '들', '인', '▁대단한', '▁영화', '이', '▁', '영', '화', '를', '▁보고', '나', '면', '▁왠', '지', '▁알', '수', '없는', '▁기', '분이', '▁몰', '려', '온다', '결', '코', '▁재밌는', '▁', '영화', '가', '▁', '아', '니', '다', '..', '▁', '슬프', '다', '..']\n",
      "--------------------------------------------------\n",
      "Index 161999:\n",
      "Original Sentence: 개지루\n",
      "Mecab Tokens: ['개지', '루']\n",
      "SentencePiece Tokens: ['▁', '개', '지루']\n",
      "--------------------------------------------------\n",
      "Index 165033:\n",
      "Original Sentence: 꽤..쓸데없이 미리앞서간영화..\n",
      "Mecab Tokens: ['꽤', '.', '.', '쓸데없이', '미리', '앞서간', '영화', '.', '.']\n",
      "SentencePiece Tokens: ['▁', '꽤', '.', '.', '쓸데없이', '▁', '미', '리', '앞', '서', '간', '영', '화', '..']\n",
      "--------------------------------------------------\n",
      "Index 18300:\n",
      "Original Sentence: 전혀 배드하지도 않고 그냥 그래요\n",
      "Mecab Tokens: ['전혀', '배드', '하', '지', '도', '않', '고', '그냥', '그래요']\n",
      "SentencePiece Tokens: ['▁전혀', '▁배', '드', '하지', '도', '▁않', '고', '▁', '그냥', '▁그래', '요']\n",
      "--------------------------------------------------\n",
      "Index 83848:\n",
      "Original Sentence: 이건 뭐 중딩이 만든 영화인가? 현재 평점이 5.9나 된다는 것이 너무 신기하군. 이 영화는 1점도 후한 점수다.\n",
      "Mecab Tokens: ['이건', '뭐', '중', '딩', '이', '만든', '영화', '인가', '?', '현재', '평점', '이', '5', '.', '9', '나', '된다는', '것', '이', '너무', '신기', '하', '군', '.', '이', '영화', '는', '1', '점', '도', '후한', '점수', '다', '.']\n",
      "SentencePiece Tokens: ['▁', '이', '건', '▁', '뭐', '▁중', '딩', '이', '▁만든', '▁', '영화', '인가', '?', '▁', '현', '재', '▁', '평', '점', '이', '▁', '5', '.', '9', '나', '▁', '된다', '는', '▁것', '이', '▁너무', '▁', '신', '기', '하', '군', '.', '▁이', '▁영화는', '▁', '1', '점', '도', '▁', '후', '한', '▁', '점', '수', '다', '.']\n",
      "--------------------------------------------------\n",
      "Index 6715:\n",
      "Original Sentence: 유럽영화는 불륜,섹스 빼면 만들게 없는가? 심각할 정도다..\n",
      "Mecab Tokens: ['유럽', '영화', '는', '불륜', ',', '섹스', '빼', '면', '만들', '게', '없', '는가', '?', '심각', '할', '정도', '다', '.', '.']\n",
      "SentencePiece Tokens: ['▁유럽', '영화는', '▁', '불륜', ',', '섹', '스', '▁빼', '면', '▁', '만', '들', '게', '▁없', '는', '가', '?', '▁심', '각', '할', '▁', '정도', '다', '.', '.']\n",
      "--------------------------------------------------\n",
      "Index 75088:\n",
      "Original Sentence: 도대체 머가 이렇게 장황한지....\n",
      "Mecab Tokens: ['도대체', '머', '가', '이렇게', '장황', '한지', '.', '...']\n",
      "SentencePiece Tokens: ['▁', '도대체', '▁머', '가', '▁이', '렇', '게', '▁', '장', '황', '한', '지', '.', '.', '..']\n",
      "--------------------------------------------------\n",
      "Index 187002:\n",
      "Original Sentence: 주인공만이 아니라 거의 모든 등장인물에게 이상한 구석이 있다. 그들을 보며 누구나 조금씩은 이상할 수 있고, 서로 수용하면서 살아가는 것이 우리의 삶이란 것을, 서로로 인해 좀 더 나은 사람이 될 수 있다는 것을 느꼈다.\n",
      "Mecab Tokens: ['주인공', '만', '이', '아니', '라', '거의', '모든', '등장인물', '에게', '이상', '한', '구석', '이', '있', '다', '.', '그', '들', '을', '보', '며', '누구', '나', '조금', '씩', '은', '이상', '할', '수', '있', '고', ',', '서로', '수용', '하', '면서', '살아가', '는', '것', '이', '우리', '의', '삶', '이', '란', '것', '을', ',', '서로', '로', '인해', '좀', '더', '나', '은', '사람', '이', '될', '수', '있', '다는', '것', '을', '느꼈', '다', '.']\n",
      "SentencePiece Tokens: ['▁', '주', '인', '공', '만', '이', '▁아니', '라', '▁거의', '▁모', '든', '▁등장인물', '에', '게', '▁이상한', '▁', '구석', '이', '▁있', '다', '.', '▁', '그', '들', '을', '▁보며', '▁', '누구', '나', '▁조', '금', '씩', '은', '▁이', '상', '할', '▁수', '▁', '있', '고', ',', '▁서로', '▁', '수', '용', '하', '면서', '▁살아가는', '▁것', '이', '▁우리의', '▁삶', '이란', '▁', '것', '을', ',', '▁', '서', '로', '로', '▁인', '해', '▁', '좀', '▁더', '▁나', '은', '▁사람이', '▁될', '▁', '수', '▁있다', '는', '▁것을', '▁느꼈다', '.']\n",
      "--------------------------------------------------\n",
      "Index 65490:\n",
      "Original Sentence: 흥분못시키는거짓말같은영화이것만이감독을불편하게만드는진실\n",
      "Mecab Tokens: ['흥분', '못', '시키', '는', '거짓말', '같', '은', '영화', '이것', '만', '이', '감독', '을', '불편', '하', '게', '만드', '는', '진실']\n",
      "SentencePiece Tokens: ['▁흥분', '못', '시', '키', '는거', '짓', '말', '같은', '영', '화', '이', '것만', '이', '감', '독', '을', '불', '편', '하', '게', '만드는', '진', '실']\n",
      "--------------------------------------------------\n"
     ]
    }
   ],
   "source": [
    "# train_df에서 랜덤하게 15개 인덱스 선택\n",
    "random_indices = random.sample(list(train_df.index), 15)\n",
    "\n",
    "# 선택된 인덱스의 mecab_tokens와 sp_tokens 비교\n",
    "for idx in random_indices:\n",
    "    print(f\"Index {idx}:\")\n",
    "    print(f\"Original Sentence: {train_df['document'][idx]}\")\n",
    "    print(f\"Mecab Tokens: {train_df['mecab_tokens'][idx]}\")\n",
    "    print(f\"SentencePiece Tokens: {train_df['sp_tokens'][idx]}\")\n",
    "    print(\"-\" * 50)"
   ]
  },
  {
   "cell_type": "markdown",
   "metadata": {},
   "source": [
    "두 토큰의 가장 큰 차이는 띄어쓰기 '_'으로 보임. SentencePiece는 띄어쓰기를 구분하기 위해 _를 토큰에 포함함.  \n",
    "이름의 경우, Mecab은 '김태균' 하나의 토큰으로 반환하지만 SentencePiece는 '김', '태', '균'으로 세 개의 토큰을 반환함.  \n",
    "전반적으로 Mecab의 토큰이 더 잘 나눠진 것같음. 완전의 경우 SentencePiece는 '완', '전' 토큰으로 나눠짐. '철저', '드라마' 등 여러 토큰이 잘 나눠지지 않음. 학습 데이터 부족으로 보임."
   ]
  },
  {
   "cell_type": "code",
   "execution_count": 10,
   "metadata": {},
   "outputs": [
    {
     "data": {
      "image/png": "[encoded data removed]",
      "text/plain": [
       "<Figure size 1000x600 with 1 Axes>"
      ]
     },
     "metadata": {},
     "output_type": "display_data"
    },
    {
     "data": {
      "image/png": "[encoded data removed]",
      "text/plain": [
       "<Figure size 1000x600 with 1 Axes>"
      ]
     },
     "metadata": {},
     "output_type": "display_data"
    }
   ],
   "source": [
    "mecab_tokens_len = train_df['mecab_tokens'].apply(len)\n",
    "sp_tokens_len = train_df['sp_tokens'].apply(len)\n",
    "\n",
    "# Mecab tokens의 길이에 대한 히스토그램\n",
    "plt.figure(figsize=(10, 6))\n",
    "plt.hist(mecab_tokens_len, bins=50, alpha=0.7, color='blue', label='Mecab Tokens')\n",
    "plt.xlabel('Length of Tokens')\n",
    "plt.ylabel('Frequency')\n",
    "plt.title('Histogram of Mecab Tokens Length')\n",
    "plt.grid(True)\n",
    "plt.legend()\n",
    "plt.show()\n",
    "\n",
    "# SentencePiece tokens의 길이에 대한 히스토그램\n",
    "plt.figure(figsize=(10, 6))\n",
    "plt.hist(sp_tokens_len, bins=50, alpha=0.7, color='green', label='SentencePiece Tokens')\n",
    "plt.xlabel('Length of Tokens')\n",
    "plt.ylabel('Frequency')\n",
    "plt.title('Histogram of SentencePiece Tokens Length')\n",
    "plt.grid(True)\n",
    "plt.legend()\n",
    "plt.show()"
   ]
  },
  {
   "cell_type": "code",
   "execution_count": 11,
   "metadata": {},
   "outputs": [
    {
     "name": "stdout",
     "output_type": "stream",
     "text": [
      "mecab_tokens_length\n",
      "[ 9. 14. 23.]\n",
      "sp_tokens_length\n",
      "[11. 18. 29.]\n"
     ]
    }
   ],
   "source": [
    "# 4분위수 계산\n",
    "print('mecab_tokens_length')\n",
    "print(np.quantile(mecab_tokens_len, [0.25, 0.5, 0.75]))\n",
    "\n",
    "print('sp_tokens_length')\n",
    "print(np.quantile(sp_tokens_len, [0.25, 0.5, 0.75]))"
   ]
  },
  {
   "cell_type": "markdown",
   "metadata": {},
   "source": [
    "token의 길이는 SentencePiece가 더 길어 보임. _때문으로 보임."
   ]
  },
  {
   "cell_type": "markdown",
   "metadata": {},
   "source": [
    "## MeCab을 이용한 tokenize, model 생성"
   ]
  },
  {
   "cell_type": "code",
   "execution_count": 15,
   "metadata": {},
   "outputs": [
    {
     "name": "stdout",
     "output_type": "stream",
     "text": [
      "Mecab을 사용한 학습 데이터셋: X_train shape - (155811, 30), y_train shape - (155811,)\n",
      "Mecab을 사용한 검증 데이터셋: X_val shape - (19476, 30), y_val shape - (19476,)\n",
      "Mecab을 사용한 테스트 데이터셋: X_test shape - (19477, 30), y_test shape - (19477,)\n"
     ]
    }
   ],
   "source": [
    "# 최대 시퀀스 길이 정의\n",
    "max_length = 30\n",
    "\n",
    "def tokenize(corpus, max_length):  # corpus: Tokenized Sentence's List\n",
    "    tokenizer = tf.keras.preprocessing.text.Tokenizer(filters='')\n",
    "    tokenizer.fit_on_texts(corpus)\n",
    "\n",
    "    tensor = tokenizer.texts_to_sequences(corpus)\n",
    "\n",
    "    tensor = tf.keras.preprocessing.sequence.pad_sequences(\n",
    "        tensor, maxlen=max_length, padding='post', truncating='post')\n",
    "\n",
    "    return tensor, tokenizer\n",
    "\n",
    "# Mecab을 사용한 토큰화된 문장들의 리스트\n",
    "tokenized_texts_mecab = train_df['mecab_tokens'].tolist()\n",
    "\n",
    "# 토큰화 및 패딩\n",
    "X_train_mecab, tokenizer_mecab = tokenize(tokenized_texts_mecab, max_length=max_length)\n",
    "y_train_mecab = train_df['label'].values\n",
    "\n",
    "# validation 데이터에 대해서도 동일하게 처리\n",
    "tokenized_texts_val_mecab = validation_df['mecab_tokens'].tolist()\n",
    "X_val_mecab, _ = tokenize(tokenized_texts_val_mecab, max_length=max_length)\n",
    "y_val_mecab = validation_df['label'].values\n",
    "\n",
    "# test 데이터에 대해서도 동일하게 처리\n",
    "tokenized_texts_test_mecab = test_df['mecab_tokens'].tolist()\n",
    "X_test_mecab, _ = tokenize(tokenized_texts_test_mecab, max_length=max_length)\n",
    "y_test_mecab = test_df['label'].values\n",
    "\n",
    "# 결과 확인을 위해 shape 출력\n",
    "print(f\"Mecab을 사용한 학습 데이터셋: X_train shape - {X_train_mecab.shape}, y_train shape - {y_train_mecab.shape}\")\n",
    "print(f\"Mecab을 사용한 검증 데이터셋: X_val shape - {X_val_mecab.shape}, y_val shape - {y_val_mecab.shape}\")\n",
    "print(f\"Mecab을 사용한 테스트 데이터셋: X_test shape - {X_test_mecab.shape}, y_test shape - {y_test_mecab.shape}\")"
   ]
  },
  {
   "cell_type": "markdown",
   "metadata": {},
   "source": [
    "### CNN"
   ]
  },
  {
   "cell_type": "code",
   "execution_count": 18,
   "metadata": {},
   "outputs": [
    {
     "name": "stdout",
     "output_type": "stream",
     "text": [
      "Epoch 1/20\n"
     ]
    },
    {
     "name": "stderr",
     "output_type": "stream",
     "text": [
      "2024-07-02 00:55:52.946909: I tensorflow/core/common_runtime/gpu/gpu_device.cc:1639] Created device /job:localhost/replica:0/task:0/device:GPU:0 with 20701 MB memory:  -> device: 0, name: NVIDIA RTX A5000, pci bus id: 0000:02:00.0, compute capability: 8.6\n",
      "2024-07-02 00:55:54.481147: I tensorflow/compiler/xla/stream_executor/cuda/cuda_dnn.cc:432] Loaded cuDNN version 8600\n",
      "2024-07-02 00:55:55.453389: I tensorflow/compiler/xla/stream_executor/cuda/cuda_blas.cc:606] TensorFloat-32 will be used for the matrix multiplication. This will only be logged once.\n",
      "2024-07-02 00:55:55.469860: I tensorflow/compiler/xla/service/service.cc:168] XLA service 0x77294a3d38b0 initialized for platform CUDA (this does not guarantee that XLA will be used). Devices:\n",
      "2024-07-02 00:55:55.469901: I tensorflow/compiler/xla/service/service.cc:176]   StreamExecutor device (0): NVIDIA RTX A5000, Compute Capability 8.6\n",
      "2024-07-02 00:55:55.518693: I tensorflow/compiler/mlir/tensorflow/utils/dump_mlir_util.cc:255] disabling MLIR crash reproducer, set env var `MLIR_CRASH_REPRODUCER_DIRECTORY` to enable.\n",
      "2024-07-02 00:55:55.840301: I ./tensorflow/compiler/jit/device_compiler.h:186] Compiled cluster using XLA!  This line is logged at most once for the lifetime of the process.\n"
     ]
    },
    {
     "name": "stdout",
     "output_type": "stream",
     "text": [
      "4870/4870 [==============================] - 79s 15ms/step - loss: 0.3695 - accuracy: 0.8344 - val_loss: 0.8618 - val_accuracy: 0.5593\n",
      "Epoch 2/20\n",
      "4870/4870 [==============================] - 39s 8ms/step - loss: 0.2922 - accuracy: 0.8760 - val_loss: 0.9357 - val_accuracy: 0.5504\n",
      "Epoch 3/20\n",
      "4870/4870 [==============================] - 37s 8ms/step - loss: 0.2377 - accuracy: 0.9032 - val_loss: 1.0462 - val_accuracy: 0.5394\n",
      "Epoch 4/20\n",
      "4870/4870 [==============================] - 36s 7ms/step - loss: 0.1824 - accuracy: 0.9300 - val_loss: 1.2320 - val_accuracy: 0.5450\n",
      "609/609 [==============================] - 3s 4ms/step - loss: 0.8788 - accuracy: 0.5548\n",
      "Test accuracy: 0.5548082590103149\n"
     ]
    }
   ],
   "source": [
    "# Define model architecture\n",
    "embedding_dim = 100\n",
    "\n",
    "model = Sequential()\n",
    "model.add(Embedding(input_dim=5000, output_dim=embedding_dim, input_length=max_length))\n",
    "model.add(Conv1D(128, 5, activation='relu'))\n",
    "model.add(GlobalMaxPooling1D())\n",
    "model.add(Dense(1, activation='sigmoid'))\n",
    "\n",
    "model.compile(optimizer='adam', loss='binary_crossentropy', metrics=['accuracy'])\n",
    "\n",
    "# Early Stopping 설정\n",
    "early_stopping = EarlyStopping(monitor='val_loss', patience=3, restore_best_weights=True)\n",
    "\n",
    "# 모델 학습\n",
    "history = model.fit(X_train_mecab, y_train_mecab,\n",
    "                    epochs=20,  # epochs를 늘려서 early stopping이 제대로 작동하는지 확인할 수 있습니다.\n",
    "                    batch_size=32,\n",
    "                    validation_data=(X_val_mecab, y_val_mecab),\n",
    "                    callbacks=[early_stopping])\n",
    "\n",
    "# 모델 평가\n",
    "loss, accuracy = model.evaluate(X_test_mecab, y_test_mecab)\n",
    "print(f\"Test accuracy: {accuracy}\")"
   ]
  },
  {
   "cell_type": "markdown",
   "metadata": {},
   "source": [
    "### LSTM"
   ]
  },
  {
   "cell_type": "code",
   "execution_count": 26,
   "metadata": {},
   "outputs": [
    {
     "name": "stdout",
     "output_type": "stream",
     "text": [
      "Epoch 1/20\n",
      "4870/4870 [==============================] - 86s 17ms/step - loss: 0.3830 - accuracy: 0.8282 - val_loss: 1.1199 - val_accuracy: 0.5412\n",
      "Epoch 2/20\n",
      "4870/4870 [==============================] - 56s 11ms/step - loss: 0.3126 - accuracy: 0.8641 - val_loss: 0.9593 - val_accuracy: 0.5360\n",
      "Epoch 3/20\n",
      "4870/4870 [==============================] - 56s 12ms/step - loss: 0.2827 - accuracy: 0.8785 - val_loss: 0.9850 - val_accuracy: 0.5380\n",
      "Epoch 4/20\n",
      "4870/4870 [==============================] - 55s 11ms/step - loss: 0.2568 - accuracy: 0.8912 - val_loss: 1.1441 - val_accuracy: 0.5427\n",
      "Epoch 5/20\n",
      "4870/4870 [==============================] - 56s 11ms/step - loss: 0.2321 - accuracy: 0.9025 - val_loss: 1.1562 - val_accuracy: 0.5340\n",
      "609/609 [==============================] - 4s 6ms/step - loss: 0.9536 - accuracy: 0.5349\n",
      "LSTM 모델 Test accuracy: 0.5348873138427734\n"
     ]
    }
   ],
   "source": [
    "from keras.models import Sequential\n",
    "from keras.layers import Embedding, LSTM, Dense\n",
    "from keras.callbacks import EarlyStopping\n",
    "\n",
    "# Define LSTM model architecture\n",
    "embedding_dim = 100\n",
    "\n",
    "model_lstm = Sequential()\n",
    "model_lstm.add(Embedding(input_dim=5000, output_dim=embedding_dim, input_length=max_length))\n",
    "model_lstm.add(LSTM(128))\n",
    "model_lstm.add(Dense(1, activation='sigmoid'))\n",
    "\n",
    "model_lstm.compile(optimizer='adam', loss='binary_crossentropy', metrics=['accuracy'])\n",
    "\n",
    "# Early Stopping 설정\n",
    "early_stopping = EarlyStopping(monitor='val_loss', patience=3, restore_best_weights=True)\n",
    "\n",
    "# 모델 학습\n",
    "history_lstm = model_lstm.fit(X_train_mecab, y_train_mecab,\n",
    "                              epochs=20,  # epochs를 늘려서 early stopping이 제대로 작동하는지 확인할 수 있습니다.\n",
    "                              batch_size=32,\n",
    "                              validation_data=(X_val_mecab, y_val_mecab),\n",
    "                              callbacks=[early_stopping])\n",
    "\n",
    "# 모델 평가\n",
    "loss_lstm, accuracy_lstm = model_lstm.evaluate(X_test_mecab, y_test_mecab)\n",
    "print(f\"LSTM 모델 Test accuracy: {accuracy_lstm}\")\n"
   ]
  },
  {
   "cell_type": "markdown",
   "metadata": {},
   "source": [
    "## SentencePiece를 이용한 tokenize, model 생성"
   ]
  },
  {
   "cell_type": "code",
   "execution_count": 28,
   "metadata": {},
   "outputs": [
    {
     "name": "stdout",
     "output_type": "stream",
     "text": [
      "SentencePiece를 사용한 학습 데이터셋: X_train shape - (155811, 30), y_train shape - (155811,)\n",
      "SentencePiece를 사용한 검증 데이터셋: X_val shape - (19476, 30), y_val shape - (19476,)\n",
      "SentencePiece를 사용한 테스트 데이터셋: X_test shape - (19477, 30), y_test shape - (19477,)\n"
     ]
    }
   ],
   "source": [
    "def tokenize_and_pad_sentencepiece(df, sp, max_length):\n",
    "    tokenized_texts = df['sp_tokens'].tolist()\n",
    "    \n",
    "    # SentencePiece로 인코딩된 시퀀스를 가져와서 패딩\n",
    "    sequences = [sp.EncodeAsIds(\" \".join(tokens)) for tokens in tokenized_texts]\n",
    "    \n",
    "    with open(\"./korean_spm.vocab\", 'r') as f:\n",
    "        vocab = f.readlines()\n",
    "\n",
    "    word_index = {}\n",
    "    index_word = {}\n",
    "\n",
    "    for idx, line in enumerate(vocab):\n",
    "        word = line.split(\"\\t\")[0]\n",
    "        word_index[word] = idx\n",
    "        index_word[idx] = word\n",
    "\n",
    "    padded_sequences = pad_sequences(sequences, maxlen=max_length, padding='post', truncating='post')\n",
    "    \n",
    "    return padded_sequences, df['label'].values\n",
    "\n",
    "X_train_sentencepiece, y_train_sentencepiece = tokenize_and_pad_sentencepiece(train_df, s, max_length)\n",
    "X_val_sentencepiece, y_val_sentencepiece = tokenize_and_pad_sentencepiece(validation_df, s, max_length)\n",
    "X_test_sentencepiece, y_test_sentencepiece = tokenize_and_pad_sentencepiece(test_df, s, max_length)\n",
    "\n",
    "# 결과 확인을 위해 shape 출력\n",
    "print(f\"SentencePiece를 사용한 학습 데이터셋: X_train shape - {X_train_sentencepiece.shape}, y_train shape - {y_train_sentencepiece.shape}\")\n",
    "print(f\"SentencePiece를 사용한 검증 데이터셋: X_val shape - {X_val_sentencepiece.shape}, y_val shape - {y_val_sentencepiece.shape}\")\n",
    "print(f\"SentencePiece를 사용한 테스트 데이터셋: X_test shape - {X_test_sentencepiece.shape}, y_test shape - {y_test_sentencepiece.shape}\")"
   ]
  },
  {
   "cell_type": "code",
   "execution_count": 29,
   "metadata": {},
   "outputs": [
    {
     "name": "stdout",
     "output_type": "stream",
     "text": [
      "Epoch 1/20\n",
      "4870/4870 [==============================] - 60s 12ms/step - loss: 0.4458 - accuracy: 0.7860 - val_loss: 0.4147 - val_accuracy: 0.8039\n",
      "Epoch 2/20\n",
      "4870/4870 [==============================] - 39s 8ms/step - loss: 0.3666 - accuracy: 0.8354 - val_loss: 0.3988 - val_accuracy: 0.8167\n",
      "Epoch 3/20\n",
      "4870/4870 [==============================] - 36s 7ms/step - loss: 0.3072 - accuracy: 0.8682 - val_loss: 0.4152 - val_accuracy: 0.8151\n",
      "Epoch 4/20\n",
      "4870/4870 [==============================] - 36s 7ms/step - loss: 0.2449 - accuracy: 0.9000 - val_loss: 0.4655 - val_accuracy: 0.8062\n",
      "Epoch 5/20\n",
      "4870/4870 [==============================] - 36s 7ms/step - loss: 0.1838 - accuracy: 0.9293 - val_loss: 0.5332 - val_accuracy: 0.8063\n",
      "609/609 [==============================] - 2s 4ms/step - loss: 0.4044 - accuracy: 0.8141\n",
      "Test accuracy: 0.8140884041786194\n"
     ]
    }
   ],
   "source": [
    "# Define model architecture\n",
    "embedding_dim = 100\n",
    "\n",
    "model = Sequential()\n",
    "model.add(Embedding(input_dim=5000, output_dim=embedding_dim, input_length=max_length))\n",
    "model.add(Conv1D(128, 5, activation='relu'))\n",
    "model.add(GlobalMaxPooling1D())\n",
    "model.add(Dense(1, activation='sigmoid'))\n",
    "\n",
    "model.compile(optimizer='adam', loss='binary_crossentropy', metrics=['accuracy'])\n",
    "\n",
    "# Early Stopping 설정\n",
    "early_stopping = EarlyStopping(monitor='val_loss', patience=3, restore_best_weights=True)\n",
    "\n",
    "# 모델 학습\n",
    "history = model.fit(X_train_sentencepiece, y_train_sentencepiece,\n",
    "                    epochs=20,  # epochs를 늘려서 early stopping이 제대로 작동하는지 확인할 수 있습니다.\n",
    "                    batch_size=32,\n",
    "                    validation_data=(X_val_sentencepiece, y_val_sentencepiece),\n",
    "                    callbacks=[early_stopping])\n",
    "\n",
    "# 모델 평가\n",
    "loss, accuracy = model.evaluate(X_test_sentencepiece, y_test_sentencepiece)\n",
    "print(f\"Test accuracy: {accuracy}\")"
   ]
  },
  {
   "cell_type": "markdown",
   "metadata": {},
   "source": [
    "두 모델의 차이는 확인이 필요해보임. 토큰을 확인했을 때는 큰 차이를 느끼지 못 했지만 mecab을 이용한 CNN과 sp를 이용한 CNN의 성능차이가 심함.  \n",
    "데이터 분포를 봤을 때 sp tokens의 길이가 더 길었음. mecab 데이터에 훨씬 많은 padding이 추가되어서 성능 차이를 보이는 것으로 예상."
   ]
  },
  {
   "cell_type": "code",
   "execution_count": 34,
   "metadata": {},
   "outputs": [
    {
     "name": "stdout",
     "output_type": "stream",
     "text": [
      "[ 109    7  837    1    1 7614  353    3   53  495   33  885    1    1\n",
      "  624  709  198   29 6112 3102   51   12 2146    0    0    0    0    0\n",
      "    0    0]\n",
      "[2120 1459    3    4    3    4 2301    3 3492    3 1168  328    3 5619\n",
      "    3   15 6349    3    4    3    4 1404  497  115    3   12  191    3\n",
      "   23  336]\n"
     ]
    }
   ],
   "source": [
    "print(X_train_mecab[0])\n",
    "print(X_train_sentencepiece[0])"
   ]
  },
  {
   "cell_type": "code",
   "execution_count": 36,
   "metadata": {},
   "outputs": [
    {
     "name": "stdout",
     "output_type": "stream",
     "text": [
      "[ 984   17   97   55   23    3   18  812 2070  984   21   52   11    4\n",
      "    0    0    0    0    0    0    0    0    0    0    0    0    0    0\n",
      "    0    0]\n",
      "[2682  193   56  134    3   13 1559 4606 7013  824    3   18    7    0\n",
      "    0    0    0    0    0    0    0    0    0    0    0    0    0    0\n",
      "    0    0]\n"
     ]
    }
   ],
   "source": [
    "print(X_train_mecab[67])\n",
    "print(X_train_sentencepiece[67])"
   ]
  },
  {
   "cell_type": "markdown",
   "metadata": {},
   "source": [
    "일단 제출하고 나중에 정확히 확인하기"
   ]
  }
 ],
 "metadata": {
  "kernelspec": {
   "display_name": ".aiffel",
   "language": "python",
   "name": "python3"
  },
  "language_info": {
   "codemirror_mode": {
    "name": "ipython",
    "version": 3
   },
   "file_extension": ".py",
   "mimetype": "text/x-python",
   "name": "python",
   "nbconvert_exporter": "python",
   "pygments_lexer": "ipython3",
   "version": "3.10.12"
  }
 },
 "nbformat": 4,
 "nbformat_minor": 2
}
