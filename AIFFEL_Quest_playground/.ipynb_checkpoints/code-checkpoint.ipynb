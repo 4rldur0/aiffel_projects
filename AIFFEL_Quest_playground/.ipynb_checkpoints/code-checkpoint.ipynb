{
 "cells": [
  {
   "cell_type": "markdown",
   "id": "9444b517",
   "metadata": {},
   "source": [
    "# 7.2.1 Sequential 모델 (p.245)\n",
    "가장 시작하기 쉬운 API. 하나의 파이썬 리스트. 단순히 층을 쌓을 수만 있음."
   ]
  },
  {
   "cell_type": "code",
   "execution_count": 1,
   "id": "3b6eaae0",
   "metadata": {},
   "outputs": [],
   "source": [
    "from tensorflow import keras\n",
    "from tensorflow.keras import layers\n",
    "\n",
    "model = keras.Sequential([\n",
    "    layers.Dense(64, activation = 'relu'),\n",
    "    layers.Dense(10, activation = 'softmax')\n",
    "])"
   ]
  },
  {
   "cell_type": "code",
   "execution_count": 2,
   "id": "fe82d889",
   "metadata": {},
   "outputs": [],
   "source": [
    "# add 메서드 이용\n",
    "model = keras.Sequential()\n",
    "model.add(layers.Dense(64, activation = 'relu'))\n",
    "model.add(layers.Dense(10, activation = 'softmax'))"
   ]
  },
  {
   "cell_type": "markdown",
   "id": "ff0ae7d5",
   "metadata": {},
   "source": [
    "층의 가중치 크기가 입력 크기에 따라 달라지기 때문에 층은 처음 호출될 때 만들어짐(가중치를 만듦). 즉, 입력 크기를 알기 전까지 가중치를 만들 수 없음.<br>\n",
    "가중치를 생성하려면 어떤 데이터로 호출하거나 입력 크기를 지정하여 build() 메서드를 호출해야 함."
   ]
  },
  {
   "cell_type": "code",
   "execution_count": 3,
   "id": "4bc792a9",
   "metadata": {},
   "outputs": [
    {
     "ename": "ValueError",
     "evalue": "Weights for model sequential_1 have not yet been created. Weights are created when the Model is first called on inputs or `build()` is called with an `input_shape`.",
     "output_type": "error",
     "traceback": [
      "\u001b[0;31m---------------------------------------------------------------------------\u001b[0m",
      "\u001b[0;31mValueError\u001b[0m                                Traceback (most recent call last)",
      "\u001b[0;32m/tmp/ipykernel_54/2402420200.py\u001b[0m in \u001b[0;36m<module>\u001b[0;34m\u001b[0m\n\u001b[0;32m----> 1\u001b[0;31m \u001b[0mmodel\u001b[0m\u001b[0;34m.\u001b[0m\u001b[0mweights\u001b[0m\u001b[0;34m\u001b[0m\u001b[0;34m\u001b[0m\u001b[0m\n\u001b[0m",
      "\u001b[0;32m/opt/conda/lib/python3.9/site-packages/keras/engine/training.py\u001b[0m in \u001b[0;36mweights\u001b[0;34m(self)\u001b[0m\n\u001b[1;32m   2488\u001b[0m       \u001b[0mA\u001b[0m \u001b[0mlist\u001b[0m \u001b[0mof\u001b[0m \u001b[0mvariables\u001b[0m\u001b[0;34m.\u001b[0m\u001b[0;34m\u001b[0m\u001b[0;34m\u001b[0m\u001b[0m\n\u001b[1;32m   2489\u001b[0m     \"\"\"\n\u001b[0;32m-> 2490\u001b[0;31m     \u001b[0;32mreturn\u001b[0m \u001b[0mself\u001b[0m\u001b[0;34m.\u001b[0m\u001b[0m_dedup_weights\u001b[0m\u001b[0;34m(\u001b[0m\u001b[0mself\u001b[0m\u001b[0;34m.\u001b[0m\u001b[0m_undeduplicated_weights\u001b[0m\u001b[0;34m)\u001b[0m\u001b[0;34m\u001b[0m\u001b[0;34m\u001b[0m\u001b[0m\n\u001b[0m\u001b[1;32m   2491\u001b[0m \u001b[0;34m\u001b[0m\u001b[0m\n\u001b[1;32m   2492\u001b[0m   \u001b[0;34m@\u001b[0m\u001b[0mproperty\u001b[0m\u001b[0;34m\u001b[0m\u001b[0;34m\u001b[0m\u001b[0m\n",
      "\u001b[0;32m/opt/conda/lib/python3.9/site-packages/keras/engine/training.py\u001b[0m in \u001b[0;36m_undeduplicated_weights\u001b[0;34m(self)\u001b[0m\n\u001b[1;32m   2493\u001b[0m   \u001b[0;32mdef\u001b[0m \u001b[0m_undeduplicated_weights\u001b[0m\u001b[0;34m(\u001b[0m\u001b[0mself\u001b[0m\u001b[0;34m)\u001b[0m\u001b[0;34m:\u001b[0m\u001b[0;34m\u001b[0m\u001b[0;34m\u001b[0m\u001b[0m\n\u001b[1;32m   2494\u001b[0m     \u001b[0;34m\"\"\"Returns the undeduplicated list of all layer variables/weights.\"\"\"\u001b[0m\u001b[0;34m\u001b[0m\u001b[0;34m\u001b[0m\u001b[0m\n\u001b[0;32m-> 2495\u001b[0;31m     \u001b[0mself\u001b[0m\u001b[0;34m.\u001b[0m\u001b[0m_assert_weights_created\u001b[0m\u001b[0;34m(\u001b[0m\u001b[0;34m)\u001b[0m\u001b[0;34m\u001b[0m\u001b[0;34m\u001b[0m\u001b[0m\n\u001b[0m\u001b[1;32m   2496\u001b[0m     \u001b[0mweights\u001b[0m \u001b[0;34m=\u001b[0m \u001b[0;34m[\u001b[0m\u001b[0;34m]\u001b[0m\u001b[0;34m\u001b[0m\u001b[0;34m\u001b[0m\u001b[0m\n\u001b[1;32m   2497\u001b[0m     \u001b[0;32mfor\u001b[0m \u001b[0mlayer\u001b[0m \u001b[0;32min\u001b[0m \u001b[0mself\u001b[0m\u001b[0;34m.\u001b[0m\u001b[0m_self_tracked_trackables\u001b[0m\u001b[0;34m:\u001b[0m\u001b[0;34m\u001b[0m\u001b[0;34m\u001b[0m\u001b[0m\n",
      "\u001b[0;32m/opt/conda/lib/python3.9/site-packages/keras/engine/sequential.py\u001b[0m in \u001b[0;36m_assert_weights_created\u001b[0;34m(self)\u001b[0m\n\u001b[1;32m    465\u001b[0m     \u001b[0;31m# When the graph has not been initialized, use the Model's implementation to\u001b[0m\u001b[0;34m\u001b[0m\u001b[0;34m\u001b[0m\u001b[0m\n\u001b[1;32m    466\u001b[0m     \u001b[0;31m# to check if the weights has been created.\u001b[0m\u001b[0;34m\u001b[0m\u001b[0;34m\u001b[0m\u001b[0m\n\u001b[0;32m--> 467\u001b[0;31m     \u001b[0msuper\u001b[0m\u001b[0;34m(\u001b[0m\u001b[0mfunctional\u001b[0m\u001b[0;34m.\u001b[0m\u001b[0mFunctional\u001b[0m\u001b[0;34m,\u001b[0m \u001b[0mself\u001b[0m\u001b[0;34m)\u001b[0m\u001b[0;34m.\u001b[0m\u001b[0m_assert_weights_created\u001b[0m\u001b[0;34m(\u001b[0m\u001b[0;34m)\u001b[0m  \u001b[0;31m# pylint: disable=bad-super-call\u001b[0m\u001b[0;34m\u001b[0m\u001b[0;34m\u001b[0m\u001b[0m\n\u001b[0m\u001b[1;32m    468\u001b[0m \u001b[0;34m\u001b[0m\u001b[0m\n\u001b[1;32m    469\u001b[0m \u001b[0;34m\u001b[0m\u001b[0m\n",
      "\u001b[0;32m/opt/conda/lib/python3.9/site-packages/keras/engine/training.py\u001b[0m in \u001b[0;36m_assert_weights_created\u001b[0;34m(self)\u001b[0m\n\u001b[1;32m   2669\u001b[0m       \u001b[0;31m# been invoked yet, this will cover both sequential and subclass model.\u001b[0m\u001b[0;34m\u001b[0m\u001b[0;34m\u001b[0m\u001b[0m\n\u001b[1;32m   2670\u001b[0m       \u001b[0;31m# Also make sure to exclude Model class itself which has build() defined.\u001b[0m\u001b[0;34m\u001b[0m\u001b[0;34m\u001b[0m\u001b[0m\n\u001b[0;32m-> 2671\u001b[0;31m       raise ValueError('Weights for model %s have not yet been created. '\n\u001b[0m\u001b[1;32m   2672\u001b[0m                        \u001b[0;34m'Weights are created when the Model is first called on '\u001b[0m\u001b[0;34m\u001b[0m\u001b[0;34m\u001b[0m\u001b[0m\n\u001b[1;32m   2673\u001b[0m                        \u001b[0;34m'inputs or `build()` is called with an `input_shape`.'\u001b[0m \u001b[0;34m%\u001b[0m\u001b[0;34m\u001b[0m\u001b[0;34m\u001b[0m\u001b[0m\n",
      "\u001b[0;31mValueError\u001b[0m: Weights for model sequential_1 have not yet been created. Weights are created when the Model is first called on inputs or `build()` is called with an `input_shape`."
     ]
    }
   ],
   "source": [
    "model.weights"
   ]
  },
  {
   "cell_type": "code",
   "execution_count": 4,
   "id": "3bf49e49",
   "metadata": {},
   "outputs": [
    {
     "data": {
      "text/plain": [
       "[<tf.Variable 'dense_2/kernel:0' shape=(3, 64) dtype=float32, numpy=\n",
       " array([[-0.03330269, -0.01296383, -0.1098552 , -0.15231343,  0.09303391,\n",
       "         -0.01210502,  0.17738241,  0.19275665, -0.21126094, -0.272036  ,\n",
       "          0.13082406,  0.2845183 , -0.05321383,  0.2538393 , -0.13130054,\n",
       "         -0.02825835, -0.20659055, -0.22130224,  0.2839018 , -0.00705612,\n",
       "         -0.00072217,  0.11256319, -0.07187147,  0.13021034,  0.18062702,\n",
       "         -0.14721929,  0.2185123 , -0.03941432, -0.10811476,  0.2705326 ,\n",
       "          0.03728089, -0.22387233,  0.2741378 ,  0.00477993, -0.21286905,\n",
       "         -0.0277555 , -0.22302243,  0.16426206, -0.2519085 ,  0.2181161 ,\n",
       "          0.138746  ,  0.1089077 ,  0.03973153, -0.17848158, -0.17159428,\n",
       "         -0.12354442,  0.27754235,  0.1837528 , -0.26690832,  0.02606621,\n",
       "          0.1841819 , -0.28625137, -0.10535233,  0.27233422,  0.26525378,\n",
       "          0.06632087, -0.20085657,  0.2229175 ,  0.09307587,  0.14403376,\n",
       "          0.07356969,  0.21696317, -0.26498199,  0.28981775],\n",
       "        [-0.23095527,  0.2869296 , -0.02505237,  0.24273616, -0.14805049,\n",
       "         -0.18354455, -0.28275087, -0.23616242, -0.02356076, -0.15878542,\n",
       "          0.27186632, -0.19643895, -0.26557577,  0.21053964, -0.23299845,\n",
       "         -0.11871777, -0.28684527, -0.06251447, -0.2863903 ,  0.10720813,\n",
       "         -0.2744958 ,  0.20558363, -0.18726125,  0.10000926, -0.2486144 ,\n",
       "         -0.04094744, -0.2058815 ,  0.25675523,  0.15883571, -0.02192977,\n",
       "          0.06118762, -0.11824082, -0.11140522,  0.28533363, -0.17112195,\n",
       "         -0.0826754 ,  0.25434417, -0.26104954,  0.04619297,  0.24387491,\n",
       "          0.16317406, -0.23531638, -0.02846497, -0.02733362, -0.2753579 ,\n",
       "          0.15188047,  0.01894245, -0.27970776, -0.15050355,  0.06358054,\n",
       "         -0.03552502,  0.27219748,  0.28067416, -0.1053848 ,  0.21353936,\n",
       "         -0.25663334, -0.08337018,  0.05098695, -0.03081331, -0.18001348,\n",
       "         -0.13160719,  0.08675534, -0.04721117, -0.11003008],\n",
       "        [-0.05686939,  0.20443672,  0.15123528,  0.28863287,  0.1514143 ,\n",
       "         -0.17080368, -0.08469218, -0.05086458,  0.21076965, -0.24043484,\n",
       "         -0.03151166,  0.2772045 , -0.02125505, -0.15539727, -0.25009656,\n",
       "         -0.1983813 ,  0.09892592,  0.23137045, -0.13724092,  0.2231543 ,\n",
       "          0.11712167,  0.04947239, -0.22993371,  0.08503771,  0.06507379,\n",
       "          0.22020984, -0.20247158,  0.2600296 ,  0.08483195,  0.24953878,\n",
       "         -0.0942394 ,  0.15148878, -0.22318703,  0.24188668, -0.13652816,\n",
       "         -0.09145634,  0.06765977, -0.01776543,  0.28699017,  0.02076232,\n",
       "         -0.22525617, -0.06588158,  0.14606416, -0.2119551 ,  0.20208246,\n",
       "         -0.10906668, -0.28266096, -0.24577028,  0.03703004, -0.12620468,\n",
       "         -0.14997087, -0.01511753, -0.19064897,  0.12223414, -0.02800015,\n",
       "          0.142311  , -0.22117846, -0.12248506,  0.15491161,  0.01576585,\n",
       "          0.22145665, -0.14424616,  0.16861159, -0.01068044]],\n",
       "       dtype=float32)>,\n",
       " <tf.Variable 'dense_2/bias:0' shape=(64,) dtype=float32, numpy=\n",
       " array([0., 0., 0., 0., 0., 0., 0., 0., 0., 0., 0., 0., 0., 0., 0., 0., 0.,\n",
       "        0., 0., 0., 0., 0., 0., 0., 0., 0., 0., 0., 0., 0., 0., 0., 0., 0.,\n",
       "        0., 0., 0., 0., 0., 0., 0., 0., 0., 0., 0., 0., 0., 0., 0., 0., 0.,\n",
       "        0., 0., 0., 0., 0., 0., 0., 0., 0., 0., 0., 0., 0.], dtype=float32)>,\n",
       " <tf.Variable 'dense_3/kernel:0' shape=(64, 10) dtype=float32, numpy=\n",
       " array([[ 0.07336345,  0.17556214,  0.09117576,  0.25303933,  0.20817944,\n",
       "         -0.08012865,  0.04245776,  0.24712142,  0.00872409,  0.16253221],\n",
       "        [-0.08508103, -0.1901069 , -0.2120602 , -0.05938216,  0.23103645,\n",
       "          0.01642469, -0.10882509, -0.25530106,  0.1040681 , -0.07261728],\n",
       "        [-0.2814382 ,  0.2753999 , -0.20299992, -0.17735633, -0.23555674,\n",
       "          0.1831057 ,  0.22233328, -0.10039157,  0.15217736, -0.2723527 ],\n",
       "        [ 0.15989837,  0.08266893,  0.0619348 ,  0.2744867 , -0.05804956,\n",
       "          0.11436829, -0.15298863,  0.28254762, -0.1564435 , -0.1979914 ],\n",
       "        [ 0.02145064, -0.06181605,  0.0519993 ,  0.19369137, -0.07841595,\n",
       "          0.15976089, -0.277284  , -0.0052141 , -0.19768807, -0.08966775],\n",
       "        [ 0.21781304,  0.20526898,  0.24909267,  0.00274834,  0.25065044,\n",
       "         -0.2015338 ,  0.12726486,  0.00411782,  0.13804293,  0.22528675],\n",
       "        [-0.2760497 ,  0.01138934, -0.12665541,  0.27614966,  0.09212601,\n",
       "         -0.20819649, -0.11107419, -0.07555734, -0.24934134,  0.02047712],\n",
       "        [ 0.1468738 , -0.01834029,  0.09748933,  0.14868745,  0.00604537,\n",
       "          0.22323719,  0.23900387, -0.00986442, -0.1180267 ,  0.15658471],\n",
       "        [ 0.14724842, -0.13795555, -0.23393194,  0.11765346, -0.25576732,\n",
       "          0.16911352, -0.03836629,  0.24545369,  0.1377795 , -0.24452284],\n",
       "        [-0.18481469,  0.08892748,  0.21645376, -0.25703752,  0.24057308,\n",
       "         -0.06983002, -0.02891362, -0.07620282, -0.28181255,  0.276306  ],\n",
       "        [-0.07515822, -0.19031742, -0.18971458,  0.11401194, -0.1041307 ,\n",
       "          0.02064058,  0.22632876,  0.15802112, -0.10862258, -0.10376891],\n",
       "        [ 0.1418823 ,  0.2527422 , -0.26567572,  0.20938063, -0.17013666,\n",
       "          0.0897232 , -0.19808388, -0.2410916 , -0.21692967,  0.26177886],\n",
       "        [ 0.05809546, -0.14763388,  0.21061414,  0.08830276, -0.00964752,\n",
       "         -0.05735791,  0.07680514, -0.08632937,  0.24825534, -0.27547115],\n",
       "        [ 0.03461766, -0.274921  ,  0.09095541, -0.01856107, -0.19968551,\n",
       "          0.24750146,  0.19233313,  0.1367271 ,  0.0355998 , -0.26302752],\n",
       "        [-0.10446139, -0.2493594 , -0.1338522 ,  0.00913808, -0.02423015,\n",
       "         -0.2365843 , -0.08617736, -0.03506315, -0.18026476, -0.05484045],\n",
       "        [ 0.16352317,  0.06883374, -0.04818338, -0.18249145, -0.25337672,\n",
       "         -0.16136988, -0.0445839 , -0.02300936,  0.2269794 , -0.03077847],\n",
       "        [ 0.23573717,  0.06812945,  0.02137113, -0.275347  ,  0.15072921,\n",
       "         -0.22701588, -0.17308359, -0.10188818, -0.02717754, -0.22077878],\n",
       "        [ 0.00729781,  0.2604864 , -0.09353566, -0.11834748, -0.00472921,\n",
       "          0.18753019,  0.2028907 ,  0.20458174, -0.08339642,  0.21202537],\n",
       "        [-0.27345493,  0.18860662, -0.24366419,  0.22140488,  0.28429672,\n",
       "          0.14657283, -0.24124849, -0.04190888,  0.23654786, -0.10883996],\n",
       "        [ 0.27253065,  0.07596305, -0.15180457,  0.13560909,  0.14941487,\n",
       "          0.10819441, -0.25485685, -0.2357255 , -0.10688353, -0.05015068],\n",
       "        [ 0.03953573,  0.23038468,  0.09017047,  0.09296024,  0.24493375,\n",
       "          0.15467942, -0.10214399,  0.09747282, -0.04309762,  0.15402889],\n",
       "        [-0.05629212,  0.20000526, -0.2282886 ,  0.25916794, -0.12419015,\n",
       "         -0.16659081, -0.08296159, -0.11108661,  0.21042061, -0.09566791],\n",
       "        [ 0.15889063, -0.14309706, -0.05579042,  0.23747292, -0.11376476,\n",
       "         -0.22325008,  0.22091886,  0.12480116, -0.00256762, -0.1666145 ],\n",
       "        [ 0.04066771, -0.01625061,  0.19555685, -0.10638712,  0.04321912,\n",
       "          0.05143765, -0.06147973, -0.19115674, -0.1484628 , -0.26961988],\n",
       "        [ 0.02651244,  0.02279648, -0.03625426,  0.2060444 ,  0.20423612,\n",
       "         -0.16779605, -0.13935067, -0.1265823 ,  0.17752388,  0.04316163],\n",
       "        [ 0.22682455, -0.07152501,  0.09428427,  0.09208745, -0.02719921,\n",
       "          0.26234373, -0.27745673, -0.01969698, -0.03968959, -0.11381331],\n",
       "        [-0.09712644,  0.22265026, -0.10857411,  0.04112083,  0.20323205,\n",
       "         -0.28046936, -0.21707122,  0.0018698 ,  0.2131029 ,  0.05566606],\n",
       "        [ 0.27117512, -0.12082292,  0.11267948,  0.07465041,  0.13358843,\n",
       "          0.23730269,  0.17221779,  0.20136535,  0.1947239 ,  0.23072973],\n",
       "        [ 0.10012531,  0.00158209,  0.20509186, -0.24744031,  0.12895197,\n",
       "          0.27978173,  0.17683154,  0.21334705, -0.25510764, -0.24703169],\n",
       "        [-0.22771636,  0.16000882, -0.28426307,  0.04947925,  0.21880057,\n",
       "          0.0659067 , -0.02659309, -0.09350844, -0.13354927,  0.16242203],\n",
       "        [ 0.2267066 ,  0.22146437, -0.13724081,  0.00248787,  0.07662728,\n",
       "         -0.23786761, -0.27782196,  0.23014769,  0.05022636,  0.22800353],\n",
       "        [-0.03798957, -0.11796893, -0.01387429,  0.02561945, -0.09263137,\n",
       "         -0.13964768, -0.22208056,  0.01049083,  0.1518971 , -0.03436151],\n",
       "        [-0.05030343,  0.2533764 ,  0.07552028, -0.20288002, -0.00505298,\n",
       "          0.1135101 ,  0.14884591, -0.15580222, -0.24725653,  0.1659959 ],\n",
       "        [-0.23849043,  0.27335402,  0.13936281,  0.16634676,  0.28313616,\n",
       "         -0.10840961, -0.0217998 , -0.03959657,  0.0679068 ,  0.0792647 ],\n",
       "        [ 0.25290564, -0.27506608,  0.17838952, -0.26847193, -0.1959322 ,\n",
       "          0.20479402, -0.02115804,  0.00870487,  0.00675386, -0.03971823],\n",
       "        [ 0.06902424, -0.07300417,  0.1288574 , -0.24167646, -0.13914862,\n",
       "          0.21380249,  0.10861471, -0.0659585 ,  0.18629304,  0.03144804],\n",
       "        [-0.05827835,  0.01067305, -0.13589138, -0.0554429 , -0.09970039,\n",
       "         -0.0424234 ,  0.27328303,  0.2686456 ,  0.13980904,  0.1660139 ],\n",
       "        [ 0.03203055, -0.24195562, -0.10583329,  0.06488919, -0.11395079,\n",
       "         -0.23341796,  0.08421475, -0.18659738,  0.20155272, -0.23455742],\n",
       "        [-0.02489588, -0.01615041,  0.12323713,  0.17045444, -0.05882615,\n",
       "          0.11851537, -0.08345217,  0.07969537,  0.03896976,  0.08763486],\n",
       "        [ 0.06411505,  0.08438617, -0.01558617,  0.083976  ,  0.04159781,\n",
       "          0.17992029, -0.26969707, -0.25237972,  0.16760644, -0.28014547],\n",
       "        [-0.01255989,  0.24982896, -0.11692385,  0.07364416, -0.01807159,\n",
       "         -0.18612054,  0.04058388,  0.03882766,  0.03619167,  0.2775741 ],\n",
       "        [ 0.08402121, -0.11294453, -0.12782942, -0.04068463, -0.11470401,\n",
       "          0.10614687, -0.25179696, -0.22720876,  0.15617901, -0.25746936],\n",
       "        [ 0.07629746,  0.13383311, -0.09204888, -0.08144319,  0.02725855,\n",
       "          0.20541644, -0.04339428, -0.23313996,  0.18949705,  0.14120492],\n",
       "        [ 0.07101476, -0.0689569 ,  0.18886665,  0.17896807, -0.17360932,\n",
       "         -0.03975007,  0.01730308,  0.00398734, -0.02420524,  0.00495306],\n",
       "        [ 0.06835234,  0.14476407,  0.02623525, -0.17399113,  0.17220932,\n",
       "         -0.2578742 , -0.26960194,  0.13667727,  0.10188365, -0.14365952],\n",
       "        [-0.03938414, -0.1763475 , -0.26334822,  0.23085693, -0.16320485,\n",
       "          0.15667549, -0.12861903,  0.15528816, -0.01908585, -0.13464466],\n",
       "        [-0.04552796,  0.2158868 , -0.27500388, -0.16044801, -0.00239471,\n",
       "         -0.10094975,  0.1681839 , -0.05959865, -0.19184412,  0.0380227 ],\n",
       "        [-0.19198471,  0.14669389,  0.19784626, -0.25424176,  0.081985  ,\n",
       "         -0.13189699, -0.2413882 ,  0.26828858,  0.0707728 ,  0.18279228],\n",
       "        [ 0.02636778, -0.21927348, -0.00705767, -0.01133898, -0.20849086,\n",
       "         -0.14731438,  0.2463533 ,  0.03081587,  0.07736495,  0.1440399 ],\n",
       "        [-0.09520559, -0.23732871,  0.23343667,  0.08354342,  0.27131304,\n",
       "         -0.14721106, -0.08339439,  0.19580972,  0.01857179, -0.24475896],\n",
       "        [ 0.08226573,  0.02265337, -0.06258462,  0.10182863,  0.18295303,\n",
       "         -0.17979938, -0.01975706,  0.15232182,  0.00376657,  0.19885379],\n",
       "        [-0.19485691,  0.16472426, -0.08609155, -0.2193973 , -0.2007173 ,\n",
       "          0.08655864, -0.23865397, -0.09312581,  0.05204004,  0.07343948],\n",
       "        [-0.06293744, -0.2744582 ,  0.07157362,  0.14649355,  0.21331534,\n",
       "         -0.22988759, -0.28376728, -0.03034952, -0.19318241, -0.16040055],\n",
       "        [-0.14348084,  0.26620367, -0.26560092, -0.06661989, -0.27294338,\n",
       "          0.25730947,  0.05065829, -0.26333517,  0.16085711,  0.08367389],\n",
       "        [-0.22205238, -0.20829134, -0.18888822, -0.26482025, -0.26819834,\n",
       "         -0.03515811, -0.2766929 , -0.20530578, -0.225205  ,  0.20776051],\n",
       "        [-0.02268112,  0.2574025 ,  0.06831515, -0.25963265,  0.25997272,\n",
       "          0.2646117 , -0.22447404, -0.16904819, -0.1805063 ,  0.10027656],\n",
       "        [ 0.13703865, -0.13392803, -0.13648167, -0.15984014,  0.12546557,\n",
       "          0.12525073,  0.20189923, -0.25529045,  0.00643262, -0.08606264],\n",
       "        [-0.16681363, -0.15325536,  0.01447967,  0.21914014,  0.09228235,\n",
       "          0.22360864, -0.04037946, -0.02776241,  0.10586283,  0.06900382],\n",
       "        [ 0.13755628, -0.24170741, -0.15575117, -0.21681291, -0.05823205,\n",
       "          0.02699032, -0.2522451 , -0.04968488,  0.21949056, -0.01872393],\n",
       "        [ 0.25295916, -0.10958558, -0.09226926, -0.21822649,  0.01928565,\n",
       "          0.12768507, -0.07908268,  0.14288455,  0.0699203 , -0.17350727],\n",
       "        [-0.05608743, -0.04737754, -0.2320633 ,  0.1956434 , -0.14345083,\n",
       "          0.25590602, -0.25499105,  0.25049612, -0.24744798,  0.23121634],\n",
       "        [ 0.15698159,  0.26747504, -0.1986614 , -0.06826219, -0.26301   ,\n",
       "          0.0839732 , -0.04465112, -0.0183678 ,  0.18578252,  0.06922403],\n",
       "        [ 0.10698014, -0.04757835,  0.20709851,  0.15151048,  0.24238184,\n",
       "          0.18067583,  0.17978907, -0.24592754,  0.00260308, -0.19254446],\n",
       "        [ 0.13113275,  0.04256284, -0.07019974, -0.07083416, -0.02292079,\n",
       "         -0.23980287, -0.17141542,  0.01182607,  0.1397607 , -0.02468637]],\n",
       "       dtype=float32)>,\n",
       " <tf.Variable 'dense_3/bias:0' shape=(10,) dtype=float32, numpy=array([0., 0., 0., 0., 0., 0., 0., 0., 0., 0.], dtype=float32)>]"
      ]
     },
     "execution_count": 4,
     "metadata": {},
     "output_type": "execute_result"
    }
   ],
   "source": [
    "model.build(input_shape = (None, 3)) # 크기가 (3, )인 샘플을 기대. None은 어떤 배치 크기도 가능\n",
    "model.weights"
   ]
  },
  {
   "cell_type": "markdown",
   "id": "9090acc8",
   "metadata": {},
   "source": [
    "build() 메서드가 호출된 후 디버깅에 유용한 summary() 메서드를 사용하여 모델 구조 출력"
   ]
  },
  {
   "cell_type": "code",
   "execution_count": 5,
   "id": "34c0ab8c",
   "metadata": {},
   "outputs": [
    {
     "name": "stdout",
     "output_type": "stream",
     "text": [
      "Model: \"sequential_1\"\n",
      "_________________________________________________________________\n",
      "Layer (type)                 Output Shape              Param #   \n",
      "=================================================================\n",
      "dense_2 (Dense)              (None, 64)                256       \n",
      "_________________________________________________________________\n",
      "dense_3 (Dense)              (None, 10)                650       \n",
      "=================================================================\n",
      "Total params: 906\n",
      "Trainable params: 906\n",
      "Non-trainable params: 0\n",
      "_________________________________________________________________\n"
     ]
    }
   ],
   "source": [
    "model.summary()"
   ]
  },
  {
   "cell_type": "code",
   "execution_count": 6,
   "id": "71a89978",
   "metadata": {},
   "outputs": [
    {
     "name": "stdout",
     "output_type": "stream",
     "text": [
      "Model: \"my_example_model\"\n",
      "_________________________________________________________________\n",
      "Layer (type)                 Output Shape              Param #   \n",
      "=================================================================\n",
      "my_first_layer (Dense)       (None, 64)                256       \n",
      "_________________________________________________________________\n",
      "my_last_layer (Dense)        (None, 10)                650       \n",
      "=================================================================\n",
      "Total params: 906\n",
      "Trainable params: 906\n",
      "Non-trainable params: 0\n",
      "_________________________________________________________________\n"
     ]
    }
   ],
   "source": [
    "# name 매개변수로 모델과 층에 이름 정하기\n",
    "model = keras.Sequential(name = 'my_example_model')\n",
    "model.add(layers.Dense(64, activation = 'relu', name = 'my_first_layer'))\n",
    "model.add(layers.Dense(10, activation = 'softmax', name = 'my_last_layer'))\n",
    "model.build((None, 3))\n",
    "model.summary()"
   ]
  },
  {
   "cell_type": "markdown",
   "id": "33214be0",
   "metadata": {},
   "source": [
    "Sequential 모델의 가중치를 바로 생성하는 방법"
   ]
  },
  {
   "cell_type": "code",
   "execution_count": 8,
   "id": "3c5e0f40",
   "metadata": {},
   "outputs": [
    {
     "name": "stdout",
     "output_type": "stream",
     "text": [
      "Model: \"sequential_3\"\n",
      "_________________________________________________________________\n",
      "Layer (type)                 Output Shape              Param #   \n",
      "=================================================================\n",
      "dense_5 (Dense)              (None, 64)                256       \n",
      "=================================================================\n",
      "Total params: 256\n",
      "Trainable params: 256\n",
      "Non-trainable params: 0\n",
      "_________________________________________________________________\n"
     ]
    }
   ],
   "source": [
    "model = keras.Sequential()\n",
    "model.add(keras.Input(shape = (3,)))\n",
    "model.add(layers.Dense(64, activation = 'relu'))\n",
    "model.summary()"
   ]
  },
  {
   "cell_type": "markdown",
   "id": "d5cb82cb",
   "metadata": {},
   "source": [
    "# 7.2.2 함수형 API (p.249)\n",
    "그래프 같은 모델 구조를 주로 다룸. API 사용성과 유연성 사이의 적절한 중간 지점. 가장 널리 사용되는 모델 구축 API.<br>\n",
    "다중 입력, 다중 출력, 비선형적 구조를 가진 모델에 사용"
   ]
  },
  {
   "cell_type": "markdown",
   "id": "0ca75a4e",
   "metadata": {},
   "source": [
    "## 간단한 예제"
   ]
  },
  {
   "cell_type": "code",
   "execution_count": 12,
   "id": "b62d7b36",
   "metadata": {},
   "outputs": [],
   "source": [
    "inputs = keras.Input(shape = (3, ), name = 'my_input') # input 클래스 객체 정의\n",
    "features = layers.Dense(64, activation = 'relu')(inputs) # 층을 만들고, 입력으로 호출\n",
    "outputs = layers.Dense(10, activation = 'softmax')(features) # 최종 출력을 얻음.\n",
    "model = keras.Model(inputs = inputs, outputs = outputs) # 입력과 출력을 model 클래스에 전달하여 모델 객체 생성"
   ]
  },
  {
   "cell_type": "markdown",
   "id": "2e6b0c92",
   "metadata": {},
   "source": [
    "inputs 객체는 모델이 처리할 데이터의 크기와 dtype에 대한 정보를 가지고 있음.<br>\n",
    "심볼릭 텐서: 실제 데이터를 가지고 있지는 않지만 사용할 때 모델이 보게 될 데이터 텐서의 사양이 인코딩되어 있음."
   ]
  },
  {
   "cell_type": "code",
   "execution_count": 10,
   "id": "df7ddc1b",
   "metadata": {},
   "outputs": [
    {
     "name": "stdout",
     "output_type": "stream",
     "text": [
      "(None, 3)\n",
      "<dtype: 'float32'>\n"
     ]
    }
   ],
   "source": [
    "print(inputs.shape)\n",
    "print(inputs.dtype)"
   ]
  },
  {
   "cell_type": "markdown",
   "id": "e864a433",
   "metadata": {},
   "source": [
    "layers.Dense를 통해 층을 만들고 inputs 입력으로 호출함.<br>\n",
    "모든 케라스 층은 실제 데이터 텐서나 심볼릭 텐서로 호출할 수 있음. 심볼릭 텐서로 호출할 경우 크기와 dtype 정보가 업데이트된 새로운 심볼릭 텐서를 반환함."
   ]
  },
  {
   "cell_type": "code",
   "execution_count": 11,
   "id": "75a529d5",
   "metadata": {},
   "outputs": [
    {
     "data": {
      "text/plain": [
       "TensorShape([None, 64])"
      ]
     },
     "execution_count": 11,
     "metadata": {},
     "output_type": "execute_result"
    }
   ],
   "source": [
    "features.shape"
   ]
  },
  {
   "cell_type": "code",
   "execution_count": 13,
   "id": "bca8861f",
   "metadata": {},
   "outputs": [
    {
     "name": "stdout",
     "output_type": "stream",
     "text": [
      "Model: \"model_1\"\n",
      "_________________________________________________________________\n",
      "Layer (type)                 Output Shape              Param #   \n",
      "=================================================================\n",
      "my_input (InputLayer)        [(None, 3)]               0         \n",
      "_________________________________________________________________\n",
      "dense_8 (Dense)              (None, 64)                256       \n",
      "_________________________________________________________________\n",
      "dense_9 (Dense)              (None, 10)                650       \n",
      "=================================================================\n",
      "Total params: 906\n",
      "Trainable params: 906\n",
      "Non-trainable params: 0\n",
      "_________________________________________________________________\n"
     ]
    }
   ],
   "source": [
    "model.summary()"
   ]
  },
  {
   "cell_type": "markdown",
   "id": "8c106c69",
   "metadata": {},
   "source": [
    "## 다중 입력, 다중 출력 모델"
   ]
  },
  {
   "cell_type": "markdown",
   "id": "ebab6c89",
   "metadata": {},
   "source": [
    "고객 이슈 티켓에 우선순위를 지정하고 적절한 부서로 전달하는 시스템<br>\n",
    "- 이슈 티켓의 제목(텍스트 입력)\n",
    "- 이슈 티켓의 텍스트 본문(텍스트 입력)\n",
    "- 사용자가 추가한 태그(범주형 입력, 원-핫 인코딩)"
   ]
  },
  {
   "cell_type": "markdown",
   "id": "4f299eb5",
   "metadata": {},
   "source": [
    "출력\n",
    "- 이슈 티켓의 우선순위 점수로 0과 1 사이의 스칼라(시그모이드 출력)\n",
    "- 이슈 티켓을 처리해야 할 부서(전체 부서 집합에 대한 소프트맥스 출력)"
   ]
  },
  {
   "cell_type": "code",
   "execution_count": 15,
   "id": "e796d990",
   "metadata": {},
   "outputs": [],
   "source": [
    "vocabulary_size = 10000\n",
    "num_tags = 100\n",
    "num_departments = 4\n",
    "\n",
    "# 모델의 입력 정의\n",
    "title = keras.Input(shape = (vocabulary_size, ), name = 'title')\n",
    "text_body = keras.Input(shape = (vocabulary_size, ), name = 'text_body')\n",
    "tags = keras.Input(shape = (num_tags, ), name = 'tags')\n",
    "\n",
    "features = layers.Concatenate()([title, text_body, tags]) # 입력 특성을 하나의 텐서 features로 연결\n",
    "features = layers.Dense(64, activation = 'relu')(features)\n",
    "\n",
    "# 모델 출력 정의\n",
    "priority = layers.Dense(1, activation = 'sigmoid', name = 'priority')(features)\n",
    "department = layers.Dense(num_departments, activation = 'softmax', name = 'department')(features)\n",
    "\n",
    "# 입출력 지정해서 모델 만들기\n",
    "model = keras.Model(inputs = [title, text_body, tags],\n",
    "                   outputs = [priority, department])"
   ]
  },
  {
   "cell_type": "markdown",
   "id": "295e38f8",
   "metadata": {},
   "source": [
    "## 다중 입력, 다중 출력 모델 훈련하기"
   ]
  },
  {
   "cell_type": "code",
   "execution_count": 21,
   "id": "b2a3bf0d",
   "metadata": {},
   "outputs": [
    {
     "name": "stdout",
     "output_type": "stream",
     "text": [
      "38/38 [==============================] - 3s 25ms/step - loss: 27.2848 - priority_loss: 0.3157 - department_loss: 26.9691 - priority_mean_absolute_error: 0.4813 - department_accuracy: 0.2708\n",
      "38/38 [==============================] - 0s 7ms/step - loss: 32.0781 - priority_loss: 0.3210 - department_loss: 31.7572 - priority_mean_absolute_error: 0.4871 - department_accuracy: 0.5758\n"
     ]
    }
   ],
   "source": [
    "import numpy as np\n",
    "\n",
    "num_samples = 1200\n",
    "\n",
    "# 더미 입력 데이터\n",
    "title_data = np.random.randint(0, 2, size = (num_samples, vocabulary_size))\n",
    "text_body_data = np.random.randint(0, 2, size = (num_samples, vocabulary_size))\n",
    "tags_data = np.random.randint(0, 2, size = (num_samples, num_tags))\n",
    "\n",
    "# 더미 타깃 데이터\n",
    "priority_data = np.random.random(size = (num_samples, 1))\n",
    "department_data = np.random.randint(0, 2, size = (num_samples, num_departments))\n",
    "\n",
    "model.compile(optimizer = 'rmsprop',\n",
    "             loss = ['mean_squared_error', 'categorical_crossentropy'],\n",
    "             metrics = [['mean_absolute_error'], ['accuracy']])\n",
    "model.fit([title_data, text_body_data, tags_data],\n",
    "         [priority_data, department_data],\n",
    "         epochs = 1)\n",
    "model.evaluate([title_data, text_body_data, tags_data],\n",
    "              [priority_data, department_data])\n",
    "priority_preds, department_preds = model.predict(\n",
    "    [title_data, text_body_data, tags_data]\n",
    ")"
   ]
  },
  {
   "cell_type": "code",
   "execution_count": 22,
   "id": "24601392",
   "metadata": {},
   "outputs": [
    {
     "data": {
      "text/plain": [
       "array([[0.34176406],\n",
       "       [0.71462874],\n",
       "       [0.70231333],\n",
       "       [0.90063781],\n",
       "       [0.73058495]])"
      ]
     },
     "execution_count": 22,
     "metadata": {},
     "output_type": "execute_result"
    }
   ],
   "source": [
    "priority_data[:5]"
   ]
  },
  {
   "cell_type": "code",
   "execution_count": 23,
   "id": "8cf8fb49",
   "metadata": {},
   "outputs": [
    {
     "name": "stdout",
     "output_type": "stream",
     "text": [
      "38/38 [==============================] - 2s 24ms/step - loss: 28.9848 - priority_loss: 0.3183 - department_loss: 28.6665 - priority_mean_absolute_error: 0.4845 - department_accuracy: 0.2758\n",
      "38/38 [==============================] - 1s 8ms/step - loss: 35.1662 - priority_loss: 0.3212 - department_loss: 34.8450 - priority_mean_absolute_error: 0.4873 - department_accuracy: 0.5758\n"
     ]
    }
   ],
   "source": [
    "# 입력 순서에 신경쓰지 않은 경우\n",
    "model.compile(optimizer = 'rmsprop',\n",
    "             loss = {'priority': 'mean_squared_error',\n",
    "                    'department': 'categorical_crossentropy'},\n",
    "             metrics = {'priority': ['mean_absolute_error'],\n",
    "                        'department': ['accuracy']})\n",
    "model.fit({'title': title_data, 'text_body': text_body_data,\n",
    "          'tags': tags_data},\n",
    "          {'priority': priority_data, 'department': department_data},\n",
    "         epochs = 1)\n",
    "model.evaluate({'title': title_data, 'text_body': text_body_data,\n",
    "               'tags': tags_data},\n",
    "               {'priority': priority_data, 'department': department_data})\n",
    "priority_preds, department_preds = model.predict(\n",
    "    {'title': title_data, 'text_body': text_body_data, 'tags': tags_data}\n",
    ")"
   ]
  },
  {
   "cell_type": "markdown",
   "id": "aac26d1a",
   "metadata": {},
   "source": [
    "## 함수형 API의 장점: 층 연결 구조 활용하기\n",
    "함수형 모델은 명시적인 그래프 데이터 구조. 층이 어떻게 연결되어 있는지 조사하고 이전 그래프 노드를 새 모델의 일부로 재사용할 수 있음. 이를 통해 모델 시각화와 특성 추출이 가능함.<br>\n",
    "방금 정의한 모델의 연결 구조(모델의 토폴로지)를 시각화"
   ]
  },
  {
   "cell_type": "code",
   "execution_count": 24,
   "id": "8039ba0d",
   "metadata": {},
   "outputs": [
    {
     "data": {
      "image/png": "[encoded data removed]",
      "text/plain": [
       "<IPython.core.display.Image object>"
      ]
     },
     "execution_count": 24,
     "metadata": {},
     "output_type": "execute_result"
    }
   ],
   "source": [
    "keras.utils.plot_model(model, 'ticket_classifier.png')"
   ]
  },
  {
   "cell_type": "code",
   "execution_count": 25,
   "id": "e6c132e2",
   "metadata": {},
   "outputs": [
    {
     "data": {
      "image/png": "[encoded data removed]",
      "text/plain": [
       "<IPython.core.display.Image object>"
      ]
     },
     "execution_count": 25,
     "metadata": {},
     "output_type": "execute_result"
    }
   ],
   "source": [
    "keras.utils.plot_model(\n",
    "    model, 'ticket_classifier_with_shape_info.png', show_shapes = True\n",
    ")"
   ]
  },
  {
   "cell_type": "markdown",
   "id": "7d1e8b2d",
   "metadata": {},
   "source": [
    "텐서 크기의 None은 배치크기를 나타냄. 이 모델은 어떤 배치 크기에서도 사용 가능."
   ]
  },
  {
   "cell_type": "markdown",
   "id": "836d5949",
   "metadata": {},
   "source": [
    "층 연결 구조를 참조하여 그래프에 있는 개별 노드를 조사하고 재사용(층 호출)할 수 있음.<br>\n",
    "model.layers 속성은 모델에 있는 모든 층의 리스트를 가지고 있음. 각 층에 대해 layer.input과 layer.output을 출력할 수 있음."
   ]
  },
  {
   "cell_type": "code",
   "execution_count": 27,
   "id": "9eefd44b",
   "metadata": {},
   "outputs": [
    {
     "data": {
      "text/plain": [
       "[<keras.engine.input_layer.InputLayer at 0x7d478fa5b130>,\n",
       " <keras.engine.input_layer.InputLayer at 0x7d478fa5b0d0>,\n",
       " <keras.engine.input_layer.InputLayer at 0x7d478fa5a3d0>,\n",
       " <keras.layers.merge.Concatenate at 0x7d478fa5afa0>,\n",
       " <keras.layers.core.Dense at 0x7d478fa5abe0>,\n",
       " <keras.layers.core.Dense at 0x7d478fa5a130>,\n",
       " <keras.layers.core.Dense at 0x7d47a427e8e0>]"
      ]
     },
     "execution_count": 27,
     "metadata": {},
     "output_type": "execute_result"
    }
   ],
   "source": [
    "model.layers"
   ]
  },
  {
   "cell_type": "code",
   "execution_count": 28,
   "id": "fad25655",
   "metadata": {},
   "outputs": [
    {
     "data": {
      "text/plain": [
       "[<KerasTensor: shape=(None, 10000) dtype=float32 (created by layer 'title')>,\n",
       " <KerasTensor: shape=(None, 10000) dtype=float32 (created by layer 'text_body')>,\n",
       " <KerasTensor: shape=(None, 100) dtype=float32 (created by layer 'tags')>]"
      ]
     },
     "execution_count": 28,
     "metadata": {},
     "output_type": "execute_result"
    }
   ],
   "source": [
    "model.layers[3].input"
   ]
  },
  {
   "cell_type": "code",
   "execution_count": 29,
   "id": "c7be0e6a",
   "metadata": {},
   "outputs": [
    {
     "data": {
      "text/plain": [
       "<KerasTensor: shape=(None, 20100) dtype=float32 (created by layer 'concatenate_1')>"
      ]
     },
     "execution_count": 29,
     "metadata": {},
     "output_type": "execute_result"
    }
   ],
   "source": [
    "model.layers[3].output"
   ]
  },
  {
   "cell_type": "markdown",
   "id": "91a4f883",
   "metadata": {},
   "source": [
    "모델의 특성 추출을 수행하여 다른 모델에서 중간 특성을 재사용하는 모델을 만들 수 있음.<br>\n",
    "이전 모델에 또 다른 출력 추가. 3개 범주에 대한 분류 층을 추가.<br>\n",
    "이전 모델의 중간 특성에서 시작할 수 있음."
   ]
  },
  {
   "cell_type": "code",
   "execution_count": 34,
   "id": "64f8336a",
   "metadata": {},
   "outputs": [],
   "source": [
    "features = model.layers[4].output\n",
    "difficulty = layers.Dense(3, activation = 'softmax', name = 'difficulty')(features)\n",
    "new_model = keras.Model(\n",
    "    inputs = [title, text_body, tags],\n",
    "    outputs = [priority, department, difficulty]\n",
    ")"
   ]
  },
  {
   "cell_type": "code",
   "execution_count": 35,
   "id": "2ad9f968",
   "metadata": {},
   "outputs": [
    {
     "data": {
      "image/png": "[encoded data removed]",
      "text/plain": [
       "<IPython.core.display.Image object>"
      ]
     },
     "execution_count": 35,
     "metadata": {},
     "output_type": "execute_result"
    }
   ],
   "source": [
    "keras.utils.plot_model(\n",
    "    new_model, 'updated_ticket_classifier.png', show_shapes = True\n",
    ")"
   ]
  },
  {
   "cell_type": "markdown",
   "id": "cf516b67",
   "metadata": {},
   "source": [
    "# 7.2.3 Model 서브클래싱\n",
    "모든 것을 밑바닥부터 직접 만들 수 있는 저수준 방법. 모든 상세한 내용을 완전히 제어하고 싶은 경우 적합. 실수가 발생할 위험이 많음."
   ]
  },
  {
   "cell_type": "markdown",
   "id": "39a108a1",
   "metadata": {},
   "source": [
    "모델 클래스 상속\n",
    "- `__init__()` 메서드에서 모델이 사용할 층을 정의\n",
    "- call() 메서드에서 앞서 만든 층을 사용하여 모델의 정방향 패스를 정의\n",
    "- 서브클래스의 객체를 만들고 데이터와 함께 호출하여 가중치를 만듦."
   ]
  },
  {
   "cell_type": "markdown",
   "id": "72418258",
   "metadata": {},
   "source": [
    "## 이전 예제 서브클래싱 모델로 다시 만들기"
   ]
  },
  {
   "cell_type": "code",
   "execution_count": 36,
   "id": "153ffef2",
   "metadata": {},
   "outputs": [],
   "source": [
    "class CustomerTicketModel(keras.Model):\n",
    "    def __init__(self, num_departments):\n",
    "        super().__init__() # 꼭 부모 클래스의 생성자를 호출\n",
    "        self.concat_layer = layers.Concatenate()\n",
    "        self.mixing_layer = layers.Dense(64, activation = 'relu')\n",
    "        self.priority_scorer = layers.Dense(1, activation = 'sigmoid')\n",
    "        self.department_classifier = layers.Dense(num_departments, activation = 'softmax')\n",
    "    \n",
    "    # call 메스드에서 정방향 패스 정의\n",
    "    def call(self, inputs):\n",
    "        title = inputs['title']\n",
    "        text_body = inputs['text_body']\n",
    "        tags = inputs['tags']\n",
    "        features = self.concat_layer([title, text_body, tags])\n",
    "        features = self.mixing_layer(features)\n",
    "        priority = self.priority_scorer(features)\n",
    "        department = self.department_classifier(features)\n",
    "        return priority, department"
   ]
  },
  {
   "cell_type": "markdown",
   "id": "f396f36b",
   "metadata": {},
   "source": [
    "모델 정의 후 클래스 객체 만들기. 데이터로 처음 호출할 때 가중치 만듦."
   ]
  },
  {
   "cell_type": "code",
   "execution_count": 37,
   "id": "0fad6782",
   "metadata": {},
   "outputs": [],
   "source": [
    "model = CustomerTicketModel(num_departments = 4)\n",
    "priority, department = model(\n",
    "    {'title': title_data, 'text_body': text_body_data, 'tags': tags_data}\n",
    ")"
   ]
  },
  {
   "cell_type": "markdown",
   "id": "a45f7ff4",
   "metadata": {},
   "source": [
    "Layer 클래스와 Model 클래스의 차이점\n",
    "- '층'은 모델을 만드는 데 사용하는 구성 요소\n",
    "- '모델'은 실제로 훈련하고 추론에 사용하는 최상위 객체\n",
    "- Model 클래스는 fit(), evaluate(), predict() 메서드를 가지고 있음.\n",
    "- 모델을 디스크에 파일로 저장할 수 있음."
   ]
  },
  {
   "cell_type": "markdown",
   "id": "766417d8",
   "metadata": {},
   "source": [
    "model 서브클래싱도 sequential, 함수형 모델과 마찬가지로 Model을 상속하여 만든 모델을 컴파일하고 훈련할 수 있음."
   ]
  },
  {
   "cell_type": "code",
   "execution_count": 38,
   "id": "7157174f",
   "metadata": {},
   "outputs": [
    {
     "name": "stdout",
     "output_type": "stream",
     "text": [
      "38/38 [==============================] - 2s 23ms/step - loss: 23.7781 - output_1_loss: 0.2834 - output_2_loss: 23.4947 - output_1_mean_absolute_error: 0.4465 - output_2_accuracy: 0.2308\n",
      "38/38 [==============================] - 0s 8ms/step - loss: 13.5440 - output_1_loss: 0.1882 - output_2_loss: 13.3559 - output_1_mean_absolute_error: 0.3533 - output_2_accuracy: 0.5775\n"
     ]
    }
   ],
   "source": [
    "model.compile(optimizer = 'rmsprop',\n",
    "             loss = ['mean_squared_error', 'categorical_crossentropy'],\n",
    "             metrics = [['mean_absolute_error'], ['accuracy']]) # 손실과 측정 지표로 전달하는 값은 call메서드가 반환하는 것과 일치해야 함.\n",
    "\n",
    "model.fit({'title': title_data,\n",
    "          'text_body': text_body_data,\n",
    "          'tags': tags_data},\n",
    "         [priority_data, department_data],\n",
    "         epochs = 1)\n",
    "\n",
    "model.evaluate({'title': title_data,\n",
    "               'text_body': text_body_data,\n",
    "               'tags': tags_data},\n",
    "              [priority_data, department_data])\n",
    "\n",
    "priority_preds, department_preds = model.predict({\n",
    "    'title': title_data,\n",
    "    'text_body': text_body_data,\n",
    "    'tags': tags_data\n",
    "})"
   ]
  },
  {
   "cell_type": "markdown",
   "id": "caa53ac2",
   "metadata": {},
   "source": [
    "Model 서브클래싱 워크플로는 모델을 만드는 가장 유연한 방법.<br>\n",
    "층의 유향 비순환 그래프로 표현할 수 없는 모델을 만들 수 있음. 예를 들어, call() 메서드가 for 루프 안에서 층을 사용하거나 재귀적으로 호출하는 모델임."
   ]
  },
  {
   "cell_type": "markdown",
   "id": "4ac41459",
   "metadata": {},
   "source": [
    "## 주의: 서브클래싱된 모델이 지원하지 않는 것\n",
    "함수형 모델은 명시적인 데이터 구조인 층의 그래프이므로 출력하고 조사하고 수정할 수 있음.<br>\n",
    "서브클래싱 모델은 한 덩어리의 바이트코드임. 원시 코드가 담긴 call() 메서드를 가진 파이썬 클래스. 층이 서로 연결되는 방식이 call() 메서드 안에 감춰지기 때문에 층의 연결 구조를 출력할 수 없음. plot_model() 함수로 모델의 구조를 그릴 수 없음. 특성 추출을 위해 층 그래프의 노드를 참조할 수 없음. 이 모델의 객체를 생성하고 나면 정방향 패스는 완전한 블랙박스가 됨."
   ]
  },
  {
   "cell_type": "markdown",
   "id": "712f8f4a",
   "metadata": {},
   "source": [
    "# 7.2.4 여러 방식을 혼합하여 사용하기 (p.259)\n",
    "서로 상호 운영할 수 있음. 각각의 방법은 모두 동일한 워크플로 스펙트럼의 일부분임."
   ]
  },
  {
   "cell_type": "code",
   "execution_count": 39,
   "id": "f78be38a",
   "metadata": {},
   "outputs": [],
   "source": [
    "# 서브클래싱한 모델을 포함하는 함수형 모델 만들기\n",
    "class Classifier(keras.Model):\n",
    "    def __init__(self, num_classes = 2):\n",
    "        super().__init__()\n",
    "        if num_classes == 2:\n",
    "            num_units = 1\n",
    "            activation = 'sigmoid'\n",
    "        else:\n",
    "            num_units = num_classes\n",
    "            activation = 'softmax'\n",
    "        self.dense = layers.Dense(num_units, activation = activation)\n",
    "    \n",
    "    def call(self, inputs):\n",
    "        return self.dense(inputs)\n",
    "\n",
    "inputs = keras.Input(shape = (3,))\n",
    "features = layers.Dense(64, activation = 'relu')(inputs)\n",
    "outputs = Classifier(num_classes = 10)(features)\n",
    "model = keras.Model(inputs = inputs, outputs = outputs)"
   ]
  },
  {
   "cell_type": "code",
   "execution_count": 41,
   "id": "1ddcca20",
   "metadata": {},
   "outputs": [],
   "source": [
    "# 함수형 모델을 포함하는 서브클래싱 모델 만들기\n",
    "inputs = keras.Input(shape = (64,))\n",
    "outputs = layers.Dense(1, activation = 'sigmoid')(inputs)\n",
    "binary_classifier = keras.Model(inputs = inputs, outputs = outputs)\n",
    "\n",
    "class MyModel(keras.Model):\n",
    "    def __init__(self, num_classes = 2):\n",
    "        super().__init__()\n",
    "        self.dense = layers.Dense(64, activation = 'relu')\n",
    "        self.classifier = binary_classifier\n",
    "    \n",
    "    def call(self, inputs):\n",
    "        features = self.dense(inputs)\n",
    "        return self.classifier(features)\n",
    "\n",
    "model = MyModel()"
   ]
  },
  {
   "cell_type": "markdown",
   "id": "30701ce6",
   "metadata": {},
   "source": [
    "# 7.2.5 작업에 적합한 도구 사용하기\n",
    "모델을 층의 유향 비순환 그래프로 표현할 수 있따면 Model 거브클래싱보다 이 방식을 사용<br>\n",
    "서브클래싱 층을 포함한 함수형 모델을 사용하면 함수형 API의 장점을 유지하면서 높은 개발 유연성을 제공할 수 있음."
   ]
  },
  {
   "cell_type": "markdown",
   "id": "8622f4b6",
   "metadata": {},
   "source": [
    "# 사용자 정의 지표 만들기"
   ]
  },
  {
   "cell_type": "code",
   "execution_count": 56,
   "id": "538cb5b6",
   "metadata": {},
   "outputs": [],
   "source": [
    "from tensorflow.keras.datasets import mnist\n",
    "\n",
    "def get_mnist_model():\n",
    "    inputs = keras.Input(shape = (28 * 28))\n",
    "    features = layers.Dense(512, activation = 'relu')(inputs)\n",
    "    features = layers.Dropout(0.5)(features)\n",
    "    outputs = layers.Dense(10, activation = 'softmax')(features)\n",
    "    model = keras.Model(inputs, outputs)\n",
    "    return model\n",
    "\n",
    "(images, labels), (test_images, test_labels) = mnist.load_data()\n",
    "images = images.reshape((60000, 28 * 28)).astype('float32') / 255\n",
    "test_images = test_images.reshape((10000, 28 * 28)).astype('float32') / 255\n",
    "train_images, val_images = images[10000:], images[:10000]\n",
    "train_labels, val_labels = labels[10000:], labels[:10000]\n",
    "\n",
    "model = get_mnist_model()"
   ]
  },
  {
   "cell_type": "code",
   "execution_count": 44,
   "id": "436d9076",
   "metadata": {},
   "outputs": [],
   "source": [
    "import tensorflow as tf\n",
    "\n",
    "class RootMeanSquaredError(keras.metrics.Metric):\n",
    "    def __init__(self, name = 'rmse', **kwargs):\n",
    "        super().__init__(name = name, **kwargs)\n",
    "        self.mse_sum = self.add_weight(name = 'mse_sum', initializer = 'zero')\n",
    "        self.total_samples = self.add_weight(\n",
    "            name = 'total_samples', initializer = 'zeros', dtype = 'int32'\n",
    "        )\n",
    "    \n",
    "    def update_state(self, y_true, y_pred, sample_weight = None):\n",
    "        y_true = tf.one_hot(y_true, depth = tf.shape(y_pred)[1])\n",
    "        mse = tf.reduce_sum(tf.square(y_true - y_pred))\n",
    "        self.mse_sum.assign_add(mse)\n",
    "        num_samples = tf.shape(y_pred)[0]\n",
    "        self.total_samples.assign_add(num_samples)\n",
    "    \n",
    "    def result(self):\n",
    "        return tf.sqrt(self.mse_sum / tf.cast(self.total_samples, tf.float32))\n",
    "    \n",
    "    def reset_state(self):\n",
    "        self.mse_sum.assign(0.)\n",
    "        self.total_samples.assign(0)"
   ]
  },
  {
   "cell_type": "code",
   "execution_count": 45,
   "id": "7d98a65f",
   "metadata": {},
   "outputs": [
    {
     "name": "stdout",
     "output_type": "stream",
     "text": [
      "Epoch 1/3\n",
      "1563/1563 [==============================] - 11s 6ms/step - loss: 0.2960 - accuracy: 0.9133 - rmse: 7.1827 - val_loss: 0.1610 - val_accuracy: 0.9543 - val_rmse: 7.3592\n",
      "Epoch 2/3\n",
      "1563/1563 [==============================] - 9s 6ms/step - loss: 0.1678 - accuracy: 0.9518 - rmse: 7.3531 - val_loss: 0.1264 - val_accuracy: 0.9655 - val_rmse: 7.4049\n",
      "Epoch 3/3\n",
      "1563/1563 [==============================] - 9s 6ms/step - loss: 0.1400 - accuracy: 0.9624 - rmse: 7.3881 - val_loss: 0.1217 - val_accuracy: 0.9694 - val_rmse: 7.4217\n",
      "313/313 [==============================] - 1s 2ms/step - loss: 0.1132 - accuracy: 0.9732 - rmse: 7.4366\n"
     ]
    }
   ],
   "source": [
    "model = get_mnist_model()\n",
    "model.compile(optimizer = 'rmsprop',\n",
    "             loss = 'sparse_categorical_crossentropy',\n",
    "             metrics = ['accuracy', RootMeanSquaredError()])\n",
    "model.fit(train_images, train_labels,\n",
    "         epochs = 3,\n",
    "         validation_data = (val_images, val_labels))\n",
    "test_metrics = model.evaluate(test_images, test_labels)"
   ]
  },
  {
   "cell_type": "markdown",
   "id": "54625810",
   "metadata": {},
   "source": [
    "# 사용자 정의 콜백 만들기"
   ]
  },
  {
   "cell_type": "code",
   "execution_count": 56,
   "id": "7b3bbea0",
   "metadata": {},
   "outputs": [],
   "source": [
    "from tensorflow.keras.datasets import mnist\n",
    "\n",
    "def get_mnist_model():\n",
    "    inputs = keras.Input(shape = (28 * 28))\n",
    "    features = layers.Dense(512, activation = 'relu')(inputs)\n",
    "    features = layers.Dropout(0.5)(features)\n",
    "    outputs = layers.Dense(10, activation = 'softmax')(features)\n",
    "    model = keras.Model(inputs, outputs)\n",
    "    return model\n",
    "\n",
    "(images, labels), (test_images, test_labels) = mnist.load_data()\n",
    "images = images.reshape((60000, 28 * 28)).astype('float32') / 255\n",
    "test_images = test_images.reshape((10000, 28 * 28)).astype('float32') / 255\n",
    "train_images, val_images = images[10000:], images[:10000]\n",
    "train_labels, val_labels = labels[10000:], labels[:10000]\n",
    "\n",
    "model = get_mnist_model()"
   ]
  },
  {
   "cell_type": "code",
   "execution_count": 57,
   "id": "83dc90d7",
   "metadata": {},
   "outputs": [],
   "source": [
    "from matplotlib import pyplot as plt\n",
    "\n",
    "class LossHistory(keras.callbacks.Callback):\n",
    "    def on_train_begin(self, logs):\n",
    "        self.per_batch_losses = []\n",
    "    def on_batch_end(self, batch, logs):\n",
    "        self.per_batch_losses.append(logs.get('loss'))\n",
    "    def on_epoch_end(self, epoch, logs):\n",
    "        plt.clf()\n",
    "        plt.plot(range(len(self.per_batch_losses)), self.per_batch_losses,\n",
    "                label = 'Training loss for each batch')\n",
    "        plt.xlabel(f'Batch (epoch {epoch})')\n",
    "        plt.ylabel('Loss')\n",
    "        plt.legend()\n",
    "        plt.savefig(f'plot_at_epoch_{epoch}')\n",
    "        self.per_batch_losses = []"
   ]
  },
  {
   "cell_type": "code",
   "execution_count": 59,
   "id": "f5092928",
   "metadata": {
    "scrolled": false
   },
   "outputs": [
    {
     "name": "stdout",
     "output_type": "stream",
     "text": [
      "Epoch 1/10\n",
      "1563/1563 [==============================] - 10s 6ms/step - loss: 0.2935 - accuracy: 0.9136 - val_loss: 0.1433 - val_accuracy: 0.9588\n",
      "Epoch 2/10\n",
      "1563/1563 [==============================] - 9s 6ms/step - loss: 0.1626 - accuracy: 0.9547 - val_loss: 0.1203 - val_accuracy: 0.9682\n",
      "Epoch 3/10\n",
      "1563/1563 [==============================] - 9s 6ms/step - loss: 0.1389 - accuracy: 0.9631 - val_loss: 0.1136 - val_accuracy: 0.9709\n",
      "Epoch 4/10\n",
      "1563/1563 [==============================] - 9s 6ms/step - loss: 0.1247 - accuracy: 0.9677 - val_loss: 0.1093 - val_accuracy: 0.9723\n",
      "Epoch 5/10\n",
      "1563/1563 [==============================] - 9s 6ms/step - loss: 0.1151 - accuracy: 0.9701 - val_loss: 0.1158 - val_accuracy: 0.9730\n",
      "Epoch 6/10\n",
      "1563/1563 [==============================] - 9s 6ms/step - loss: 0.1104 - accuracy: 0.9729 - val_loss: 0.1158 - val_accuracy: 0.9732\n",
      "Epoch 7/10\n",
      "1563/1563 [==============================] - 9s 6ms/step - loss: 0.1068 - accuracy: 0.9757 - val_loss: 0.1170 - val_accuracy: 0.9757\n",
      "Epoch 8/10\n",
      "1563/1563 [==============================] - 10s 6ms/step - loss: 0.0973 - accuracy: 0.9766 - val_loss: 0.1146 - val_accuracy: 0.9759\n",
      "Epoch 9/10\n",
      "1563/1563 [==============================] - 9s 6ms/step - loss: 0.0941 - accuracy: 0.9782 - val_loss: 0.1143 - val_accuracy: 0.9775\n",
      "Epoch 10/10\n",
      "1563/1563 [==============================] - 9s 6ms/step - loss: 0.0973 - accuracy: 0.9777 - val_loss: 0.1153 - val_accuracy: 0.9777\n"
     ]
    },
    {
     "data": {
      "text/plain": [
       "<keras.callbacks.History at 0x7d477d431430>"
      ]
     },
     "execution_count": 59,
     "metadata": {},
     "output_type": "execute_result"
    },
    {
     "data": {
      "image/png": "[encoded data removed]",
      "text/plain": [
       "<Figure size 432x288 with 1 Axes>"
      ]
     },
     "metadata": {
      "needs_background": "light"
     },
     "output_type": "display_data"
    }
   ],
   "source": [
    "model = get_mnist_model()\n",
    "model.compile(optimizer = 'rmsprop',\n",
    "             loss = 'sparse_categorical_crossentropy',\n",
    "             metrics = ['accuracy'])\n",
    "model.fit(train_images, train_labels,\n",
    "         epochs = 10,\n",
    "         callbacks = [LossHistory()],\n",
    "         validation_data = (val_images, val_labels))"
   ]
  },
  {
   "cell_type": "markdown",
   "id": "4bfebdcf",
   "metadata": {},
   "source": [
    "# Layer의 구성이 달라지는 경우"
   ]
  },
  {
   "cell_type": "markdown",
   "id": "178d1874",
   "metadata": {},
   "source": [
    "## conv2d - maxpool"
   ]
  },
  {
   "cell_type": "code",
   "execution_count": 53,
   "id": "76082ba9",
   "metadata": {},
   "outputs": [
    {
     "name": "stdout",
     "output_type": "stream",
     "text": [
      "Epoch 1/5\n",
      "750/750 [==============================] - 26s 34ms/step - loss: 0.2159 - accuracy: 0.9369 - val_loss: 0.0876 - val_accuracy: 0.9747\n",
      "Epoch 2/5\n",
      "750/750 [==============================] - 25s 34ms/step - loss: 0.0713 - accuracy: 0.9788 - val_loss: 0.0740 - val_accuracy: 0.9775\n",
      "Epoch 3/5\n",
      "750/750 [==============================] - 25s 34ms/step - loss: 0.0491 - accuracy: 0.9849 - val_loss: 0.0586 - val_accuracy: 0.9835\n",
      "Epoch 4/5\n",
      "750/750 [==============================] - 25s 34ms/step - loss: 0.0356 - accuracy: 0.9890 - val_loss: 0.0595 - val_accuracy: 0.9820\n",
      "Epoch 5/5\n",
      "750/750 [==============================] - 25s 33ms/step - loss: 0.0272 - accuracy: 0.9917 - val_loss: 0.0554 - val_accuracy: 0.9854\n",
      "313/313 [==============================] - 2s 5ms/step - loss: 0.0471 - accuracy: 0.9847\n",
      "Test accuracy: 0.9847000241279602\n"
     ]
    }
   ],
   "source": [
    "from tensorflow.keras.utils import to_categorical\n",
    "from tensorflow.keras import layers, models\n",
    "\n",
    "(train_images, train_labels), (test_images, test_labels) = mnist.load_data()\n",
    "train_images = train_images.reshape((60000, 28, 28, 1)).astype('float32') / 255\n",
    "test_images = test_images.reshape((10000, 28, 28, 1)).astype('float32') / 255\n",
    "\n",
    "# 레이블 원-핫 인코딩\n",
    "train_labels = to_categorical(train_labels)\n",
    "test_labels = to_categorical(test_labels)\n",
    "\n",
    "# 모델 구축\n",
    "inputs = tf.keras.Input(shape=(28, 28, 1))\n",
    "x = layers.Conv2D(32, (3, 3), activation='relu')(inputs)\n",
    "x = layers.MaxPooling2D((2, 2))(x)\n",
    "x = layers.Flatten()(x)\n",
    "x = layers.Dense(64, activation='relu')(x)\n",
    "outputs = layers.Dense(10, activation='softmax')(x)\n",
    "\n",
    "model = models.Model(inputs, outputs)\n",
    "\"\"\n",
    "# 모델 컴파일\n",
    "model.compile(optimizer='adam',\n",
    "              loss='categorical_crossentropy',\n",
    "              metrics=['accuracy'])\n",
    "\n",
    "# 모델 훈련\n",
    "history = model.fit(train_images, train_labels, epochs=5, batch_size=64, validation_split=0.2)\n",
    "\n",
    "# 모델 평가\n",
    "test_loss, test_acc = model.evaluate(test_images, test_labels)\n",
    "print(f'Test accuracy: {test_acc}')"
   ]
  },
  {
   "cell_type": "code",
   "execution_count": 49,
   "id": "330b8819",
   "metadata": {},
   "outputs": [
    {
     "data": {
      "image/png": "[encoded data removed]",
      "text/plain": [
       "<Figure size 864x288 with 2 Axes>"
      ]
     },
     "metadata": {
      "needs_background": "light"
     },
     "output_type": "display_data"
    }
   ],
   "source": [
    "import matplotlib.pyplot as plt\n",
    "\n",
    "# 손실 값과 정확도 시각화\n",
    "plt.figure(figsize=(12, 4))\n",
    "\n",
    "# 훈련 및 검증 손실 값 그래프\n",
    "plt.subplot(1, 2, 1)\n",
    "plt.plot(history.history['loss'], label='Training Loss')\n",
    "plt.plot(history.history['val_loss'], label='Validation Loss')\n",
    "plt.title('Training and Validation Loss')\n",
    "plt.xlabel('Epochs')\n",
    "plt.ylabel('Loss')\n",
    "plt.legend()\n",
    "\n",
    "# 훈련 및 검증 정확도 그래프\n",
    "plt.subplot(1, 2, 2)\n",
    "plt.plot(history.history['accuracy'], label='Training Accuracy')\n",
    "plt.plot(history.history['val_accuracy'], label='Validation Accuracy')\n",
    "plt.title('Training and Validation Accuracy')\n",
    "plt.xlabel('Epochs')\n",
    "plt.ylabel('Accuracy')\n",
    "plt.legend()\n",
    "\n",
    "plt.show()"
   ]
  },
  {
   "cell_type": "markdown",
   "id": "46fe2264",
   "metadata": {},
   "source": [
    "## conv2d - conv2d - maxpool"
   ]
  },
  {
   "cell_type": "code",
   "execution_count": 50,
   "id": "c6d7b6de",
   "metadata": {},
   "outputs": [
    {
     "name": "stdout",
     "output_type": "stream",
     "text": [
      "Epoch 1/5\n",
      "750/750 [==============================] - 135s 179ms/step - loss: 0.1592 - accuracy: 0.9525 - val_loss: 0.0564 - val_accuracy: 0.9834\n",
      "Epoch 2/5\n",
      "750/750 [==============================] - 133s 178ms/step - loss: 0.0476 - accuracy: 0.9851 - val_loss: 0.0490 - val_accuracy: 0.9868\n",
      "Epoch 3/5\n",
      "750/750 [==============================] - 133s 177ms/step - loss: 0.0298 - accuracy: 0.9907 - val_loss: 0.0418 - val_accuracy: 0.9883\n",
      "Epoch 4/5\n",
      "750/750 [==============================] - 133s 177ms/step - loss: 0.0205 - accuracy: 0.9934 - val_loss: 0.0443 - val_accuracy: 0.9870\n",
      "Epoch 5/5\n",
      "750/750 [==============================] - 133s 177ms/step - loss: 0.0142 - accuracy: 0.9954 - val_loss: 0.0469 - val_accuracy: 0.9877\n",
      "313/313 [==============================] - 7s 22ms/step - loss: 0.0435 - accuracy: 0.9878\n",
      "Test accuracy: 0.9878000020980835\n"
     ]
    }
   ],
   "source": [
    "from tensorflow.keras.utils import to_categorical\n",
    "from tensorflow.keras import layers, models\n",
    "\n",
    "(train_images, train_labels), (test_images, test_labels) = mnist.load_data()\n",
    "train_images = train_images.reshape((60000, 28, 28, 1)).astype('float32') / 255\n",
    "test_images = test_images.reshape((10000, 28, 28, 1)).astype('float32') / 255\n",
    "\n",
    "# 레이블 원-핫 인코딩\n",
    "train_labels = to_categorical(train_labels)\n",
    "test_labels = to_categorical(test_labels)\n",
    "\n",
    "# 모델 구축\n",
    "inputs = tf.keras.Input(shape=(28, 28, 1))\n",
    "x = layers.Conv2D(32, (3, 3), activation='relu')(inputs)\n",
    "x = layers.Conv2D(64, (3, 3), activation='relu')(x)\n",
    "x = layers.MaxPooling2D((2, 2))(x)\n",
    "x = layers.Flatten()(x)\n",
    "x = layers.Dense(64, activation='relu')(x)\n",
    "outputs = layers.Dense(10, activation='softmax')(x)\n",
    "\n",
    "model = models.Model(inputs, outputs)\n",
    "\n",
    "# 모델 컴파일\n",
    "model.compile(optimizer='adam',\n",
    "              loss='categorical_crossentropy',\n",
    "              metrics=['accuracy'])\n",
    "\n",
    "# 모델 훈련\n",
    "history = model.fit(train_images, train_labels, epochs=5, batch_size=64, validation_split=0.2)\n",
    "\n",
    "# 모델 평가\n",
    "test_loss, test_acc = model.evaluate(test_images, test_labels)\n",
    "print(f'Test accuracy: {test_acc}')"
   ]
  },
  {
   "cell_type": "code",
   "execution_count": 52,
   "id": "f9e17450",
   "metadata": {},
   "outputs": [
    {
     "data": {
      "image/png": "[encoded data removed]",
      "text/plain": [
       "<Figure size 864x288 with 2 Axes>"
      ]
     },
     "metadata": {
      "needs_background": "light"
     },
     "output_type": "display_data"
    }
   ],
   "source": [
    "import matplotlib.pyplot as plt\n",
    "\n",
    "# 손실 값과 정확도 시각화\n",
    "plt.figure(figsize=(12, 4))\n",
    "\n",
    "# 훈련 및 검증 손실 값 그래프\n",
    "plt.subplot(1, 2, 1)\n",
    "plt.plot(history.history['loss'], label='Training Loss')\n",
    "plt.plot(history.history['val_loss'], label='Validation Loss')\n",
    "plt.title('Training and Validation Loss')\n",
    "plt.xlabel('Epochs')\n",
    "plt.ylabel('Loss')\n",
    "plt.legend()\n",
    "\n",
    "# 훈련 및 검증 정확도 그래프\n",
    "plt.subplot(1, 2, 2)\n",
    "plt.plot(history.history['accuracy'], label='Training Accuracy')\n",
    "plt.plot(history.history['val_accuracy'], label='Validation Accuracy')\n",
    "plt.title('Training and Validation Accuracy')\n",
    "plt.xlabel('Epochs')\n",
    "plt.ylabel('Accuracy')\n",
    "plt.legend()\n",
    "\n",
    "plt.show()"
   ]
  },
  {
   "cell_type": "markdown",
   "id": "c4726fa0",
   "metadata": {},
   "source": [
    "# 2조 Classification - data type 1"
   ]
  },
  {
   "cell_type": "markdown",
   "id": "a582fdd8",
   "metadata": {},
   "source": [
    "layer의 unit이 늘어날수록 test loss는 수렴속도가 빨라짐.  \n",
    "layer의 개수를 늘리면 test loss는 수렴속도가 느려짐. sigmoid 때문.  "
   ]
  },
  {
   "cell_type": "markdown",
   "id": "27b0a2b3",
   "metadata": {},
   "source": [
    "# 4조 Classification - data type 4"
   ]
  },
  {
   "cell_type": "markdown",
   "id": "c0c1c6e1",
   "metadata": {},
   "source": [
    "히든 레이어 하나만 있어도 어떤 연속함수든 나타낼 수 있음.  \n",
    "뉴런이 많아질수록 그래프가 복잡해짐."
   ]
  },
  {
   "cell_type": "markdown",
   "id": "206d6902",
   "metadata": {},
   "source": [
    "# 1 + 5조 Classification - data type 2"
   ]
  },
  {
   "cell_type": "markdown",
   "id": "5a0ac412",
   "metadata": {},
   "source": [
    "baseline이 좋았음. feature engineering을 진행.  \n",
    "레이어의 깊이가 깊어질수록 성능이 좋아지지는 않았음.  \n",
    "모델이 복잡해질 때 lr을 크게 잡는 것이 좋아보임."
   ]
  },
  {
   "cell_type": "markdown",
   "id": "471d87b5",
   "metadata": {},
   "source": [
    "# 3조 Image Data: Activation / Dropout rate"
   ]
  },
  {
   "cell_type": "markdown",
   "id": "837c7228",
   "metadata": {},
   "source": [
    "에폭 수가 적어서 비교를 하기 어려움.  \n",
    "sigmoid에서 dropout을 적용했을 때 학습이 잘 됐음.  "
   ]
  },
  {
   "cell_type": "markdown",
   "id": "0c2986c7",
   "metadata": {},
   "source": [
    "# 8조 Image Data: Layer의 너비가 달라지는 경우"
   ]
  },
  {
   "cell_type": "markdown",
   "id": "a31114a1",
   "metadata": {},
   "source": [
    "레이어의 너비가 늘어나면 성능이 좋아졌음.  \n",
    "넓은 레이어가 복잡한 데이터를 잘 학습함. 과적합 위험이 있음.  \n",
    "넓은 모델이 빠른 수렴"
   ]
  },
  {
   "cell_type": "markdown",
   "id": "97748edd",
   "metadata": {},
   "source": [
    "# 6조 Image data: Layer의 구성이 달라지는 경우"
   ]
  },
  {
   "cell_type": "markdown",
   "id": "8db2d2e2",
   "metadata": {},
   "source": [
    "레이어의 깊이가 깊어질수록 과적합이 일어날 가능성이 높음.  \n",
    "fully connected되면 지역적인 특징을 보기 어려움."
   ]
  },
  {
   "cell_type": "code",
   "execution_count": null,
   "id": "978fe429",
   "metadata": {},
   "outputs": [],
   "source": []
  }
 ],
 "metadata": {
  "kernelspec": {
   "display_name": "Python 3 (ipykernel)",
   "language": "python",
   "name": "python3"
  },
  "language_info": {
   "codemirror_mode": {
    "name": "ipython",
    "version": 3
   },
   "file_extension": ".py",
   "mimetype": "text/x-python",
   "name": "python",
   "nbconvert_exporter": "python",
   "pygments_lexer": "ipython3",
   "version": "3.9.7"
  }
 },
 "nbformat": 4,
 "nbformat_minor": 5
}
